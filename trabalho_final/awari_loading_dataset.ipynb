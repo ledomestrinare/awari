{
 "cells": [
  {
   "cell_type": "markdown",
   "metadata": {},
   "source": [
    "## Transformando vários dataset em apenas um e modificando categorias para ficar mais leve\n",
    "Dados coletados dia 15/09/2020 do site da Polícia Rodoviária Federal"
   ]
  },
  {
   "cell_type": "code",
   "execution_count": 1,
   "metadata": {},
   "outputs": [],
   "source": [
    "import pandas as pd\n",
    "import os\n",
    "from datetime import datetime, date, time"
   ]
  },
  {
   "cell_type": "code",
   "execution_count": 2,
   "metadata": {
    "tags": []
   },
   "outputs": [
    {
     "output_type": "stream",
     "name": "stdout",
     "text": [
      "dataset\\acidentes2017_todas_causas_tipos.csv\ndataset\\acidentes2018_todas_causas_tipos.csv\ndataset\\acidentes2019_todas_causas_tipos.csv\n"
     ]
    }
   ],
   "source": [
    "#buscando todos os nomes de arquivos da pasta de banco de dados\n",
    "for dirname, _, filenames in os.walk('dataset'):\n",
    "    for filename in filenames:\n",
    "        print(os.path.join(dirname, filename))"
   ]
  },
  {
   "cell_type": "code",
   "execution_count": 3,
   "metadata": {},
   "outputs": [],
   "source": [
    "#listando todas as colunas para serem carregadas\n",
    "colunas = ['pesid', \n",
    "           'data_inversa', \n",
    "           'dia_semana', \n",
    "           'horario', \n",
    "           'uf', \n",
    "           'br', \n",
    "           'km',\n",
    "           'municipio', \n",
    "           'causa_principal', \n",
    "           'causa_acidente', \n",
    "           'ordem_tipo_acidente',\n",
    "           'tipo_acidente', \n",
    "           'classificacao_acidente', \n",
    "           'fase_dia', \n",
    "           'sentido_via',\n",
    "           'condicao_metereologica', \n",
    "           'tipo_pista', \n",
    "           'tracado_via', \n",
    "           'uso_solo',\n",
    "           'id_veiculo', \n",
    "           'tipo_veiculo', \n",
    "           'marca', \n",
    "           'ano_fabricacao_veiculo',\n",
    "           'tipo_envolvido', \n",
    "           'estado_fisico', \n",
    "           'idade', \n",
    "           'sexo', \n",
    "           'ilesos',\n",
    "           'feridos_leves', \n",
    "           'feridos_graves', \n",
    "           'mortos', \n",
    "           'latitude', \n",
    "           'longitude',\n",
    "           'regional', \n",
    "           'delegacia', \n",
    "           'uop']"
   ]
  },
  {
   "cell_type": "code",
   "execution_count": 5,
   "metadata": {},
   "outputs": [],
   "source": [
    "#fazendo a importação dos arquivos\n",
    "infracao_2017 = pd.read_csv('dataset/acidentes2017_todas_causas_tipos.csv', sep = ';', usecols=colunas, encoding='latin1', index_col=0, low_memory=False)\n",
    "infracao_2018 = pd.read_csv('dataset/acidentes2018_todas_causas_tipos.csv', sep = ';', usecols=colunas, encoding='latin1', index_col=0, low_memory=False)\n",
    "infracao_2019 = pd.read_csv('dataset/acidentes2019_todas_causas_tipos.csv', sep = ';', usecols=colunas, encoding='latin1', index_col=0, low_memory=False)\n",
    "\n",
    "# não adicionei infracao de 2020 por não ter completado o ano e dar divergencias de quantidade de acidentes por mes\n",
    "# infracao_2020 = pd.read_csv('dataset/acidentes2020_todas_causas_tipos.csv', sep = ';', usecols=colunas, encoding='latin1', index_col=0, low_memory=False)"
   ]
  },
  {
   "cell_type": "code",
   "execution_count": 6,
   "metadata": {},
   "outputs": [],
   "source": [
    "#transformando em apenas um dataset\n",
    "df = pd.concat([infracao_2017, infracao_2018, infracao_2019,],sort=False, ignore_index=True)"
   ]
  },
  {
   "cell_type": "code",
   "execution_count": 7,
   "metadata": {},
   "outputs": [
    {
     "output_type": "execute_result",
     "data": {
      "text/plain": [
       "(1005542, 35)"
      ]
     },
     "metadata": {},
     "execution_count": 7
    }
   ],
   "source": [
    "# verificando a quantidade de linhas e colunas\n",
    "df.shape"
   ]
  },
  {
   "cell_type": "code",
   "execution_count": 8,
   "metadata": {
    "scrolled": true,
    "tags": []
   },
   "outputs": [
    {
     "output_type": "stream",
     "name": "stdout",
     "text": [
      "<class 'pandas.core.frame.DataFrame'>\nRangeIndex: 1005542 entries, 0 to 1005541\nData columns (total 35 columns):\n #   Column                  Non-Null Count    Dtype  \n---  ------                  --------------    -----  \n 0   data_inversa            1005542 non-null  object \n 1   dia_semana              1005542 non-null  object \n 2   horario                 1005542 non-null  object \n 3   uf                      1005542 non-null  object \n 4   br                      1004094 non-null  float64\n 5   km                      1004094 non-null  object \n 6   municipio               1005542 non-null  object \n 7   causa_principal         1005542 non-null  object \n 8   causa_acidente          1005542 non-null  object \n 9   ordem_tipo_acidente     1005447 non-null  float64\n 10  tipo_acidente           1005447 non-null  object \n 11  classificacao_acidente  1005542 non-null  object \n 12  fase_dia                1005542 non-null  object \n 13  sentido_via             1005542 non-null  object \n 14  condicao_metereologica  1005542 non-null  object \n 15  tipo_pista              1005542 non-null  object \n 16  tracado_via             1005542 non-null  object \n 17  uso_solo                1005542 non-null  object \n 18  id_veiculo              1005537 non-null  float64\n 19  tipo_veiculo            1005542 non-null  object \n 20  marca                   965495 non-null   object \n 21  ano_fabricacao_veiculo  958218 non-null   float64\n 22  tipo_envolvido          1005542 non-null  object \n 23  estado_fisico           1005542 non-null  object \n 24  idade                   819280 non-null   float64\n 25  sexo                    1005542 non-null  object \n 26  ilesos                  1005542 non-null  int64  \n 27  feridos_leves           1005542 non-null  int64  \n 28  feridos_graves          1005542 non-null  int64  \n 29  mortos                  1005542 non-null  int64  \n 30  latitude                1005542 non-null  object \n 31  longitude               1005542 non-null  object \n 32  regional                1005542 non-null  object \n 33  delegacia               1005542 non-null  object \n 34  uop                     955170 non-null   object \ndtypes: float64(5), int64(4), object(26)\nmemory usage: 1.8 GB\n"
     ]
    }
   ],
   "source": [
    "#verificando a memoria usada pelo dataset\n",
    "df.info(memory_usage='deep')"
   ]
  },
  {
   "cell_type": "code",
   "execution_count": 8,
   "metadata": {},
   "outputs": [],
   "source": [
    "# modificando as categorias para utilizar menos memoria no processamento dos dados\n",
    "\n",
    "df.dia_semana = df.dia_semana.astype('category')\n",
    "df.uf = df.uf.astype('category')\n",
    "df.br = df.br.astype('category')\n",
    "df.km = df.km.astype('category')\n",
    "df.municipio = df.municipio.astype('category')           \n",
    "df.causa_principal = df.causa_principal.astype('category')\n",
    "df.ordem_tipo_acidente = df.ordem_tipo_acidente.astype('category')    \n",
    "df.causa_acidente = df.causa_acidente.astype('category')\n",
    "df.tipo_acidente = df.tipo_acidente.astype('category')    \n",
    "df.classificacao_acidente = df.classificacao_acidente.astype('category')    \n",
    "df.fase_dia = df.fase_dia.astype('category')\n",
    "df.sentido_via = df.sentido_via.astype('category')\n",
    "df.condicao_metereologica = df.condicao_metereologica.astype('category')\n",
    "df.tipo_pista = df.tipo_pista.astype('category')\n",
    "df.tracado_via = df.tracado_via.astype('category')\n",
    "df.uso_solo = df.uso_solo.astype('category')\n",
    "df.id_veiculo = df.id_veiculo.astype('category')\n",
    "df.tipo_veiculo = df.tipo_veiculo.astype('category')\n",
    "df.marca = df.marca.astype('category')\n",
    "df.ano_fabricacao_veiculo = df.ano_fabricacao_veiculo.astype('category')\n",
    "df.tipo_envolvido = df.tipo_envolvido.astype('category')\n",
    "df.estado_fisico = df.estado_fisico.astype('category')\n",
    "df.idade = df.idade.astype('category')\n",
    "df.sexo = df.sexo.astype('category')\n",
    "df.ilesos = df.ilesos.astype('uint8')\n",
    "df.feridos_leves = df.feridos_leves.astype('uint8')\n",
    "df.feridos_graves = df.feridos_graves.astype('uint8')\n",
    "df.mortos = df.mortos.astype('uint8')\n",
    "df.regional = df.regional.astype('category')\n",
    "df.delegacia = df.delegacia.astype('category')\n",
    "df.uop = df.uop.astype('category')\n",
    "\n",
    "#trabalhando para separar data, hora, mes e ano em colunas diferentes\n",
    "df['data_hora'] = df['data_inversa'].map(str) + ' ' + df['horario']\n",
    "df['data_hora'] = pd.to_datetime(df['data_hora'])\n",
    "df['ano'] = df['data_hora'].dt.year\n",
    "df['mes'] = df['data_hora'].dt.month\n",
    "df['hora'] = df['data_hora'].dt.hour"
   ]
  },
  {
   "cell_type": "code",
   "execution_count": 9,
   "metadata": {
    "tags": []
   },
   "outputs": [
    {
     "output_type": "stream",
     "name": "stdout",
     "text": [
      "<class 'pandas.core.frame.DataFrame'>\nRangeIndex: 1005542 entries, 0 to 1005541\nData columns (total 39 columns):\n #   Column                  Non-Null Count    Dtype         \n---  ------                  --------------    -----         \n 0   data_inversa            1005542 non-null  object        \n 1   dia_semana              1005542 non-null  category      \n 2   horario                 1005542 non-null  object        \n 3   uf                      1005542 non-null  category      \n 4   br                      1004094 non-null  category      \n 5   km                      1004094 non-null  category      \n 6   municipio               1005542 non-null  category      \n 7   causa_principal         1005542 non-null  category      \n 8   causa_acidente          1005542 non-null  category      \n 9   ordem_tipo_acidente     1005447 non-null  category      \n 10  tipo_acidente           1005447 non-null  category      \n 11  classificacao_acidente  1005542 non-null  category      \n 12  fase_dia                1005542 non-null  category      \n 13  sentido_via             1005542 non-null  category      \n 14  condicao_metereologica  1005542 non-null  category      \n 15  tipo_pista              1005542 non-null  category      \n 16  tracado_via             1005542 non-null  category      \n 17  uso_solo                1005542 non-null  category      \n 18  id_veiculo              1005537 non-null  category      \n 19  tipo_veiculo            1005542 non-null  category      \n 20  marca                   965495 non-null   category      \n 21  ano_fabricacao_veiculo  958218 non-null   category      \n 22  tipo_envolvido          1005542 non-null  category      \n 23  estado_fisico           1005542 non-null  category      \n 24  idade                   819280 non-null   category      \n 25  sexo                    1005542 non-null  category      \n 26  ilesos                  1005542 non-null  uint8         \n 27  feridos_leves           1005542 non-null  uint8         \n 28  feridos_graves          1005542 non-null  uint8         \n 29  mortos                  1005542 non-null  uint8         \n 30  latitude                1005542 non-null  object        \n 31  longitude               1005542 non-null  object        \n 32  regional                1005542 non-null  category      \n 33  delegacia               1005542 non-null  category      \n 34  uop                     955170 non-null   category      \n 35  data_hora               1005542 non-null  datetime64[ns]\n 36  ano                     1005542 non-null  int64         \n 37  mes                     1005542 non-null  int64         \n 38  hora                    1005542 non-null  int64         \ndtypes: category(27), datetime64[ns](1), int64(3), object(4), uint8(4)\nmemory usage: 123.8+ MB\n"
     ]
    }
   ],
   "source": [
    "# verificando o uso de memoria\n",
    "df.info()"
   ]
  },
  {
   "cell_type": "markdown",
   "metadata": {},
   "source": [
    "# Eliminando os NaN e números faltantes"
   ]
  },
  {
   "cell_type": "code",
   "execution_count": 10,
   "metadata": {},
   "outputs": [
    {
     "output_type": "execute_result",
     "data": {
      "text/plain": [
       "data_inversa                   0\n",
       "dia_semana                     0\n",
       "horario                        0\n",
       "uf                             0\n",
       "br                          1448\n",
       "km                          1448\n",
       "municipio                      0\n",
       "causa_principal                0\n",
       "causa_acidente                 0\n",
       "ordem_tipo_acidente           95\n",
       "tipo_acidente                 95\n",
       "classificacao_acidente         0\n",
       "fase_dia                       0\n",
       "sentido_via                    0\n",
       "condicao_metereologica         0\n",
       "tipo_pista                     0\n",
       "tracado_via                    0\n",
       "uso_solo                       0\n",
       "id_veiculo                     5\n",
       "tipo_veiculo                   0\n",
       "marca                      40047\n",
       "ano_fabricacao_veiculo     47324\n",
       "tipo_envolvido                 0\n",
       "estado_fisico                  0\n",
       "idade                     186262\n",
       "sexo                           0\n",
       "ilesos                         0\n",
       "feridos_leves                  0\n",
       "feridos_graves                 0\n",
       "mortos                         0\n",
       "latitude                       0\n",
       "longitude                      0\n",
       "regional                       0\n",
       "delegacia                      0\n",
       "uop                        50372\n",
       "data_hora                      0\n",
       "ano                            0\n",
       "mes                            0\n",
       "hora                           0\n",
       "dtype: int64"
      ]
     },
     "metadata": {},
     "execution_count": 10
    }
   ],
   "source": [
    "# verificando a quantidade de nulos e eliminando\n",
    "df.isnull().sum()"
   ]
  },
  {
   "cell_type": "code",
   "execution_count": 11,
   "metadata": {},
   "outputs": [],
   "source": [
    "df.drop(['uop', 'data_inversa', 'horario', 'idade'], axis=1, inplace = True)\n",
    "df = df.dropna()"
   ]
  },
  {
   "cell_type": "code",
   "execution_count": 12,
   "metadata": {},
   "outputs": [
    {
     "output_type": "execute_result",
     "data": {
      "text/plain": [
       "dia_semana                0\n",
       "uf                        0\n",
       "br                        0\n",
       "km                        0\n",
       "municipio                 0\n",
       "causa_principal           0\n",
       "causa_acidente            0\n",
       "ordem_tipo_acidente       0\n",
       "tipo_acidente             0\n",
       "classificacao_acidente    0\n",
       "fase_dia                  0\n",
       "sentido_via               0\n",
       "condicao_metereologica    0\n",
       "tipo_pista                0\n",
       "tracado_via               0\n",
       "uso_solo                  0\n",
       "id_veiculo                0\n",
       "tipo_veiculo              0\n",
       "marca                     0\n",
       "ano_fabricacao_veiculo    0\n",
       "tipo_envolvido            0\n",
       "estado_fisico             0\n",
       "sexo                      0\n",
       "ilesos                    0\n",
       "feridos_leves             0\n",
       "feridos_graves            0\n",
       "mortos                    0\n",
       "latitude                  0\n",
       "longitude                 0\n",
       "regional                  0\n",
       "delegacia                 0\n",
       "data_hora                 0\n",
       "ano                       0\n",
       "mes                       0\n",
       "hora                      0\n",
       "dtype: int64"
      ]
     },
     "metadata": {},
     "execution_count": 12
    }
   ],
   "source": [
    "df.isnull().sum()"
   ]
  },
  {
   "cell_type": "code",
   "execution_count": 13,
   "metadata": {},
   "outputs": [
    {
     "output_type": "execute_result",
     "data": {
      "text/plain": [
       "(956082, 35)"
      ]
     },
     "metadata": {},
     "execution_count": 13
    }
   ],
   "source": [
    "df.shape"
   ]
  },
  {
   "cell_type": "code",
   "execution_count": 18,
   "metadata": {},
   "outputs": [],
   "source": [
    "df.km = df.km.str.replace(',','.').astype(float)\n",
    "df = df[df['estado_fisico'] != 'Não Informado']"
   ]
  },
  {
   "cell_type": "code",
   "execution_count": 20,
   "metadata": {},
   "outputs": [],
   "source": [
    "df.to_csv('data.csv')"
   ]
  },
  {
   "cell_type": "code",
   "execution_count": null,
   "metadata": {},
   "outputs": [],
   "source": []
  }
 ],
 "metadata": {
  "kernelspec": {
   "display_name": "Python 3",
   "language": "python",
   "name": "python3"
  },
  "language_info": {
   "codemirror_mode": {
    "name": "ipython",
    "version": 3
   },
   "file_extension": ".py",
   "mimetype": "text/x-python",
   "name": "python",
   "nbconvert_exporter": "python",
   "pygments_lexer": "ipython3",
   "version": "3.8.3-final"
  }
 },
 "nbformat": 4,
 "nbformat_minor": 4
}