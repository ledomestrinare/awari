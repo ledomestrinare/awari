{
  "nbformat": 4,
  "nbformat_minor": 0,
  "metadata": {
    "colab": {
      "name": "cep_long_lat.ipynb",
      "provenance": [],
      "collapsed_sections": []
    },
    "kernelspec": {
      "name": "python3",
      "display_name": "Python 3"
    }
  },
  "cells": [
    {
      "cell_type": "markdown",
      "metadata": {
        "id": "SJrdcIjF3v-G",
        "colab_type": "text"
      },
      "source": [
        "#CEP para Longitude e Latitude"
      ]
    },
    {
      "cell_type": "code",
      "metadata": {
        "id": "OZ9AUTpu3G37",
        "colab_type": "code",
        "colab": {}
      },
      "source": [
        "import requests\n",
        "from opencage.geocoder import OpenCageGeocode"
      ],
      "execution_count": 3,
      "outputs": []
    },
    {
      "cell_type": "code",
      "metadata": {
        "id": "RnCKCxNx3JPr",
        "colab_type": "code",
        "colab": {}
      },
      "source": [
        "def cep_para_lat_long():\n",
        "  cep = input(\"CEP:\")\n",
        "  urlviacep = f'http://viacep.com.br/ws/{cep}/json'\n",
        "  resp_json = requests.get(urlviacep).json()\n",
        "  try:        \n",
        "    logradouro =  resp_json[\"logradouro\"]\n",
        "    bairro = resp_json['bairro']\n",
        "    localidade = resp_json['localidade']\n",
        "    uf = resp_json['uf']\n",
        "    query = logradouro + ' ' + bairro + ' ' + localidade + ' ' + uf\n",
        "    key = input(\"Insira sua key: \")\n",
        "    geocoder = OpenCageGeocode(key)\n",
        "    results = geocoder.geocode(query)\n",
        "    longitude = str(results[0]['annotations']['DMS']['lng'])\n",
        "    latitude = str(results[0]['annotations']['DMS']['lat'])\n",
        "\n",
        "    print(\"O endereço é : %s\" %query)\n",
        "    print(\"A latitude é: %s\" %latitude)\n",
        "    print(\"A longitude é: %s\" %longitude)\n",
        "\n",
        "  except KeyError:\n",
        "    print ('CEP SEM CADASTRO')"
      ],
      "execution_count": 22,
      "outputs": []
    },
    {
      "cell_type": "code",
      "metadata": {
        "id": "UNBxqBJJ4Rhw",
        "colab_type": "code",
        "colab": {}
      },
      "source": [
        ""
      ],
      "execution_count": null,
      "outputs": []
    }
  ]
}