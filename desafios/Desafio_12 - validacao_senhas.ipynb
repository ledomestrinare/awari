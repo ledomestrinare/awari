{
 "cells": [
  {
   "cell_type": "markdown",
   "metadata": {
    "colab_type": "text",
    "id": "view-in-github"
   },
   "source": [
    "<a href=\"https://colab.research.google.com/github/WittmannF/br-data-science/blob/master/python/challenges/Desafio_12.ipynb\" target=\"_parent\"><img src=\"https://colab.research.google.com/assets/colab-badge.svg\" alt=\"Open In Colab\"/></a>"
   ]
  },
  {
   "cell_type": "markdown",
   "metadata": {
    "colab_type": "text",
    "id": "AYHY2YXQf6J2"
   },
   "source": [
    "### Desafio 12\n",
    "\n",
    "Escreva uma função em Python para verificar a validade de uma senha.\n",
    "\n",
    "Validação:\n",
    "\n",
    "* Pelo menos 1 letra entre [a-z] e 1 letra entre [A-Z].\n",
    "* Pelo menos 1 número entre [0-9].\n",
    "* Pelo menos 1 caractere de [$ # @].\n",
    "* Comprimento mínimo de 6 caracteres.\n",
    "* Comprimento máximo de 16 caracteres.\n",
    "\n",
    "Entradas: \"12345678\", \"J3sus0\", \"#Te5t300\", \"J*90j12374\", \"Michheeul\", \"Monk3y6\"\n",
    "\n",
    "A saída deve ser a senha e um texto indicando se a senha é válida ou inválida:\n",
    "\n",
    "```\n",
    "\"1234\" - Senha inválida\n",
    "\"Qw#1234\" - Senha válida\n",
    "```"
   ]
  },
  {
   "cell_type": "code",
   "execution_count": 17,
   "metadata": {},
   "outputs": [
    {
     "name": "stdout",
     "output_type": "stream",
     "text": [
      "Precisa conter maiúsculas! 1\n",
      "Precisa conter minúsculas! 1\n",
      "Precisa conter caracteres especiais \"@#$\" 1\n",
      "Precisa conter caracteres especiais \"@#$\" 1\n",
      "senha validada\n",
      "Precisa conter caracteres especiais \"@#$\" 1\n",
      "Precisa conter números! 1\n",
      "Precisa conter caracteres especiais \"@#$\" 1\n",
      "Precisa conter caracteres especiais \"@#$\" 1\n"
     ]
    }
   ],
   "source": [
    "import re\n",
    "def test_password(password):\n",
    "    \n",
    "    min_number = 1\n",
    "    min_upper_char = 1\n",
    "    min_lower_char = 1\n",
    "    min_special_char = 1\n",
    "    min_len = 6\n",
    "    max_len = 16\n",
    "    \n",
    "    if len(password) < min_len:\n",
    "        print('Tamanho minimo de:', min_len)\n",
    "    if len(password) >max_len:\n",
    "        print('Tamanho máximo de:', max_len)\n",
    "    if len(re.findall(r\"[A-Z]\", password)) < min_upper_char:\n",
    "        print('Precisa conter maiúsculas!', min_upper_char)\n",
    "    if len(re.findall(r\"[a-z]\", password)) < min_lower_char:\n",
    "        print('Precisa conter minúsculas!', min_lower_char)\n",
    "    if len(re.findall(r\"[0-9]\", password)) < min_number:\n",
    "        print('Precisa conter números!', min_number)\n",
    "    if len(re.findall(r\"[@#$]\", password)) < min_special_char:\n",
    "        print('Precisa conter caracteres especiais \"@#$\"', min_special_char)\n",
    "    else:\n",
    "        print('senha validada')\n",
    "    \n",
    "test_password(\"12345678\")\n",
    "test_password(\"J3sus0\")\n",
    "test_password(\"#Te5t300\")\n",
    "test_password(\"J*90j12374\")\n",
    "test_password(\"Michheeul\")\n",
    "test_password(\"Monk3y6\")\n",
    "\n",
    "\n",
    "        #raise forms.ValidationError('Senha tem que ter no mínimo '+str(minimal_len_char)+' caracteres')\n",
    "#    if len(re.findall(r\"[A-Z]\", password)) < minimal_upper_char:\n",
    "#        raise forms.ValidationError('Senha tem que ter no mínimo '+str(minimal_upper_char)+' letras maiusculas')\n",
    "#    if len(re.findall(r\"[a-z]\", password)) < minimal_lower_char:\n",
    "#        raise forms.ValidationError('Senha tem que ter no mínimo '+str(minimal_lower_char)+' letras minusculas')\n",
    "#    if len(re.findall(r\"[0-9]\", password)) < minimal_number:\n",
    "#        raise forms.ValidationError('Senha tem que ter no mínimo '+str(minimal_number)+' numeros')\n",
    "#    if len(re.findall(r\"[~`!@#$%^&*()_+=-{};:'><]\", password)) < minimal_special_char:\n",
    "#        raise forms.ValidationError('Senha tem que ter no mínimo '+str(minimal_special_char)+' caracteres especiais')\n",
    "        "
   ]
  },
  {
   "cell_type": "code",
   "execution_count": 18,
   "metadata": {},
   "outputs": [
    {
     "name": "stdout",
     "output_type": "stream",
     "text": [
      "Por favor, verifique sua senha.\n",
      "Por favor, verifique sua senha.\n",
      "A senha #Te5t300 funcionou!\n",
      "Por favor, verifique sua senha.\n",
      "Por favor, verifique sua senha.\n",
      "Por favor, verifique sua senha.\n",
      "Por favor, verifique sua senha.\n"
     ]
    }
   ],
   "source": [
    "## ANDRE\n",
    "\n",
    "import re\n",
    "\n",
    "def main():\n",
    "\n",
    "\tpasswords = [\"12345678\", \"J3sus0\", \"#Te5t300\", \"J*90j12374\", \"Michheeul\", \"Monk3y6\", \"p45w0rd@Regex1234\"]\n",
    "\tpassword_regex = '^(?=.*[a-z])(?=.*[A-Z])(?=.*\\d+)(?=.*[$#@]).{6,16}$' # Mudar os 0 por *\n",
    "\n",
    "\tfor pswd in passwords:\n",
    "\t\tpswd_validation = re.match(password_regex, pswd)\n",
    "\t\tif pswd_validation:\n",
    "\t\t\tprint(\"A senha {senha} funcionou!\".format(senha = pswd_validation.group()))\n",
    "\t\telse:\n",
    "\t\t\tprint(\"Por favor, verifique sua senha.\")\n",
    "\n",
    "if __name__ == '__main__':\n",
    "\tmain()"
   ]
  },
  {
   "cell_type": "code",
   "execution_count": null,
   "metadata": {},
   "outputs": [],
   "source": []
  }
 ],
 "metadata": {
  "anaconda-cloud": {},
  "colab": {
   "include_colab_link": true,
   "name": "Desafio 12.ipynb",
   "provenance": []
  },
  "kernelspec": {
   "display_name": "Python 3",
   "language": "python",
   "name": "python3"
  },
  "language_info": {
   "codemirror_mode": {
    "name": "ipython",
    "version": 3
   },
   "file_extension": ".py",
   "mimetype": "text/x-python",
   "name": "python",
   "nbconvert_exporter": "python",
   "pygments_lexer": "ipython3",
   "version": "3.7.6"
  }
 },
 "nbformat": 4,
 "nbformat_minor": 1
}
