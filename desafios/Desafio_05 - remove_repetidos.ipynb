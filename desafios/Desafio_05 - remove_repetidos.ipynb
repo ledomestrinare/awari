{
 "cells": [
  {
   "cell_type": "markdown",
   "metadata": {
    "colab_type": "text",
    "id": "view-in-github"
   },
   "source": [
    "<a href=\"https://colab.research.google.com/github/WittmannF/br-data-science/blob/master/python/challenges/Desafio_5.ipynb\" target=\"_parent\"><img src=\"https://colab.research.google.com/assets/colab-badge.svg\" alt=\"Open In Colab\"/></a>"
   ]
  },
  {
   "cell_type": "markdown",
   "metadata": {
    "colab_type": "text",
    "id": "gQbaWOWcW1g_"
   },
   "source": [
    "# Desafio 5\n",
    "Você trabalha em uma loja de sapatos e deve contatar uma lista de clientes dada pela seguinte lista de números de telefones:"
   ]
  },
  {
   "cell_type": "code",
   "execution_count": 3,
   "metadata": {
    "colab": {},
    "colab_type": "code",
    "id": "T68FjcUmWear"
   },
   "outputs": [],
   "source": [
    "numeros_telefone = [\n",
    "'(765) 368-1506',\n",
    "'(285) 608-2448',\n",
    "'(255) 826-9050',\n",
    "'(554) 994-1517',\n",
    "'(285) 608-2448',\n",
    "'(596) 336-5508',\n",
    "'(511) 821-7870',\n",
    "'(410) 665-4447',\n",
    "'(821) 642-8987',\n",
    "'(285) 608-2448',\n",
    "'(311) 799-3883',\n",
    "'(935) 875-2054',\n",
    "'(464) 788-2397',\n",
    "'(765) 368-1506',\n",
    "'(650) 684-1437',\n",
    "'(812) 816-0881',\n",
    "'(285) 608-2448',\n",
    "'(885) 407-1719',\n",
    "'(943) 769-1061',\n",
    "'(596) 336-5508',\n",
    "'(765) 368-1506',\n",
    "'(255) 826-9050',\n",
    "]"
   ]
  },
  {
   "cell_type": "markdown",
   "metadata": {
    "colab_type": "text",
    "id": "ryYrStScXgZ3"
   },
   "source": [
    "No entanto, alguns destes números estão duplicados. Você seria capaz de remover estes duplicados para evitar que clientes sejam contatado mais de uma vez?"
   ]
  },
  {
   "cell_type": "code",
   "execution_count": 4,
   "metadata": {
    "colab": {},
    "colab_type": "code",
    "id": "F8n1sN-4XrW3"
   },
   "outputs": [],
   "source": [
    "def remove_repetidos(lista):\n",
    "    l = []\n",
    "    for i in lista:\n",
    "        if i not in l:\n",
    "            l.append(i)\n",
    "    l.sort()\n",
    "    lista.sort()\n",
    "    return l"
   ]
  },
  {
   "cell_type": "code",
   "execution_count": 5,
   "metadata": {},
   "outputs": [
    {
     "data": {
      "text/plain": [
       "['(255) 826-9050',\n",
       " '(285) 608-2448',\n",
       " '(311) 799-3883',\n",
       " '(410) 665-4447',\n",
       " '(464) 788-2397',\n",
       " '(511) 821-7870',\n",
       " '(554) 994-1517',\n",
       " '(596) 336-5508',\n",
       " '(650) 684-1437',\n",
       " '(765) 368-1506',\n",
       " '(812) 816-0881',\n",
       " '(821) 642-8987',\n",
       " '(885) 407-1719',\n",
       " '(935) 875-2054',\n",
       " '(943) 769-1061']"
      ]
     },
     "execution_count": 5,
     "metadata": {},
     "output_type": "execute_result"
    }
   ],
   "source": [
    "remove_repetidos(numeros_telefone)"
   ]
  },
  {
   "cell_type": "code",
   "execution_count": null,
   "metadata": {},
   "outputs": [],
   "source": []
  }
 ],
 "metadata": {
  "colab": {
   "authorship_tag": "ABX9TyO0u4amKtoFgAgnb/IGUddy",
   "include_colab_link": true,
   "name": "Desafio 5.ipynb",
   "provenance": []
  },
  "kernelspec": {
   "display_name": "Python 3",
   "language": "python",
   "name": "python3"
  },
  "language_info": {
   "codemirror_mode": {
    "name": "ipython",
    "version": 3
   },
   "file_extension": ".py",
   "mimetype": "text/x-python",
   "name": "python",
   "nbconvert_exporter": "python",
   "pygments_lexer": "ipython3",
   "version": "3.7.6"
  }
 },
 "nbformat": 4,
 "nbformat_minor": 1
}
