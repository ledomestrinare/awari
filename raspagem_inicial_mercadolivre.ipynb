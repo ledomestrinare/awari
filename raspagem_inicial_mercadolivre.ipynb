{
  "nbformat": 4,
  "nbformat_minor": 0,
  "metadata": {
    "colab": {
      "name": "raspagem_imoveis_mercadolivre.ipynb",
      "provenance": [],
      "collapsed_sections": []
    },
    "kernelspec": {
      "name": "python3",
      "display_name": "Python 3"
    }
  },
  "cells": [
    {
      "cell_type": "markdown",
      "metadata": {
        "id": "sn_qJd_i1FlV",
        "colab_type": "text"
      },
      "source": [
        "#Raspagem Imoveis Mercadolivre"
      ]
    },
    {
      "cell_type": "code",
      "metadata": {
        "id": "diDWhcOY0gXq",
        "colab_type": "code",
        "colab": {}
      },
      "source": [
        "import requests\n",
        "from bs4 import BeautifulSoup\n",
        "import re\n",
        "import numpy as np\n",
        "import pandas as pd\n",
        "\n",
        "url = 'https://imoveis.mercadolivre.com.br/aluguel/sao-paulo/sao-paulo-zona-sul/'\n",
        "conteudo = requests.get(url).content \n",
        "soup = BeautifulSoup(conteudo)"
      ],
      "execution_count": 8,
      "outputs": []
    },
    {
      "cell_type": "code",
      "metadata": {
        "id": "qVP1Kl_F1agP",
        "colab_type": "code",
        "colab": {}
      },
      "source": [
        "#coletando preço dos itens\n",
        "soup.find('span', class_='price__fraction').text\n",
        "soup_price = soup.find_all('span', class_='price__fraction')\n",
        "list_price = []\n",
        "for price in soup_price:\n",
        "    list_price.append(price.text)\n",
        "\n",
        "#coletando atributos dos itens\n",
        "soup.find('div', class_='item__attrs').text\n",
        "soup_attr = soup.find_all('div', class_='item__attrs')\n",
        "list_attr = []\n",
        "for attr in soup_attr:\n",
        "    list_attr.append(attr.text)"
      ],
      "execution_count": 9,
      "outputs": []
    },
    {
      "cell_type": "code",
      "metadata": {
        "id": "fU2X1Sk30uMt",
        "colab_type": "code",
        "colab": {}
      },
      "source": [
        "#retirando apenas o tamanho do imovel\n",
        "lista_areas = []\n",
        "lista_quarto = []\n",
        "\n",
        "for elemento in list_attr:\n",
        "  re_area = ' (.*) m²'\n",
        "  area = re.findall(re_area, str(elemento))\n",
        "  if area==[]:\n",
        "    area = np.nan\n",
        "    lista_areas.append(area)\n",
        "  else:\n",
        "    lista_areas.append(area[0])"
      ],
      "execution_count": 10,
      "outputs": []
    },
    {
      "cell_type": "code",
      "metadata": {
        "id": "DRHpaFYQ0yUj",
        "colab_type": "code",
        "colab": {}
      },
      "source": [
        "#retirando apenas a quantidade de quartos do imovel\n",
        "for elemento in list_attr:\n",
        "  re_quarto = '\\| (.*) quarto'\n",
        "  quarto = re.findall(re_quarto, str(elemento))\n",
        "  if quarto==[]:\n",
        "    quarto = np.nan\n",
        "    lista_quarto.append(quarto)\n",
        "  else:\n",
        "    lista_quarto.append(quarto[0])"
      ],
      "execution_count": 11,
      "outputs": []
    },
    {
      "cell_type": "code",
      "metadata": {
        "id": "f-T95Q-x00wP",
        "colab_type": "code",
        "colab": {}
      },
      "source": [
        "#transformando listas em dicionario\n",
        "dados = {\n",
        "          'preço': list_price,\n",
        "          'area': lista_areas,\n",
        "          'quarto': lista_quarto\n",
        "        }"
      ],
      "execution_count": 12,
      "outputs": []
    },
    {
      "cell_type": "code",
      "metadata": {
        "id": "debjeu1T01Nc",
        "colab_type": "code",
        "colab": {}
      },
      "source": [
        "#transforma em dataframe\n",
        "df = pd.DataFrame(dados)\n",
        "\n",
        "#transforma em csv\n",
        "#df.to_csv('dados_mercadolivre.csv')"
      ],
      "execution_count": 13,
      "outputs": []
    },
    {
      "cell_type": "code",
      "metadata": {
        "id": "kFF3thrh08WX",
        "colab_type": "code",
        "colab": {
          "base_uri": "https://localhost:8080/",
          "height": 204
        },
        "outputId": "0fb47888-82f9-422c-ada6-1b1af720caee"
      },
      "source": [
        "df.head()"
      ],
      "execution_count": 14,
      "outputs": [
        {
          "output_type": "execute_result",
          "data": {
            "text/html": [
              "<div>\n",
              "<style scoped>\n",
              "    .dataframe tbody tr th:only-of-type {\n",
              "        vertical-align: middle;\n",
              "    }\n",
              "\n",
              "    .dataframe tbody tr th {\n",
              "        vertical-align: top;\n",
              "    }\n",
              "\n",
              "    .dataframe thead th {\n",
              "        text-align: right;\n",
              "    }\n",
              "</style>\n",
              "<table border=\"1\" class=\"dataframe\">\n",
              "  <thead>\n",
              "    <tr style=\"text-align: right;\">\n",
              "      <th></th>\n",
              "      <th>preço</th>\n",
              "      <th>area</th>\n",
              "      <th>quarto</th>\n",
              "    </tr>\n",
              "  </thead>\n",
              "  <tbody>\n",
              "    <tr>\n",
              "      <th>0</th>\n",
              "      <td>2.500</td>\n",
              "      <td>42</td>\n",
              "      <td>1</td>\n",
              "    </tr>\n",
              "    <tr>\n",
              "      <th>1</th>\n",
              "      <td>1.970</td>\n",
              "      <td>33</td>\n",
              "      <td>1</td>\n",
              "    </tr>\n",
              "    <tr>\n",
              "      <th>2</th>\n",
              "      <td>1.250</td>\n",
              "      <td>60</td>\n",
              "      <td>1</td>\n",
              "    </tr>\n",
              "    <tr>\n",
              "      <th>3</th>\n",
              "      <td>1.500</td>\n",
              "      <td>36</td>\n",
              "      <td>1</td>\n",
              "    </tr>\n",
              "    <tr>\n",
              "      <th>4</th>\n",
              "      <td>1.550</td>\n",
              "      <td>60</td>\n",
              "      <td>1</td>\n",
              "    </tr>\n",
              "  </tbody>\n",
              "</table>\n",
              "</div>"
            ],
            "text/plain": [
              "   preço area quarto\n",
              "0  2.500   42      1\n",
              "1  1.970   33      1\n",
              "2  1.250   60      1\n",
              "3  1.500   36      1\n",
              "4  1.550   60      1"
            ]
          },
          "metadata": {
            "tags": []
          },
          "execution_count": 14
        }
      ]
    }
  ]
}
