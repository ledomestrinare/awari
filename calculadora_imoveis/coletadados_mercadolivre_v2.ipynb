{
  "nbformat": 4,
  "nbformat_minor": 0,
  "metadata": {
    "colab": {
      "name": "coletadados_mercadolivre_v2.ipynb",
      "provenance": [],
      "collapsed_sections": []
    },
    "kernelspec": {
      "name": "python3",
      "display_name": "Python 3"
    }
  },
  "cells": [
    {
      "cell_type": "code",
      "metadata": {
        "id": "ucvekdwyp8l1",
        "colab_type": "code",
        "colab": {}
      },
      "source": [
        "import requests\n",
        "from bs4 import BeautifulSoup\n",
        "import re\n",
        "import numpy as np\n",
        "import pandas as pd\n",
        "from time import sleep\n",
        "import urllib.request"
      ],
      "execution_count": 1,
      "outputs": []
    },
    {
      "cell_type": "code",
      "metadata": {
        "id": "uZUF6OgDlwyv",
        "colab_type": "code",
        "colab": {}
      },
      "source": [
        "zonas = ['sul', 'norte', 'leste', 'oeste']\n",
        "paginas = []\n",
        "re_quarto ='\\| (.*) quarto'\n",
        "re_area = '> (.*) m²'"
      ],
      "execution_count": 2,
      "outputs": []
    },
    {
      "cell_type": "code",
      "metadata": {
        "id": "ftyii42QZUQR",
        "colab_type": "code",
        "colab": {}
      },
      "source": [
        "def pega_url(zona):\n",
        "  zona = zona\n",
        "  pag = 200\n",
        "  paginas = []\n",
        "  numero = 1\n",
        "  lista_dfs = []\n",
        "  url_req = (\"https://imoveis.mercadolivre.com.br/casas/aluguel/sao-paulo/sao-paulo-zona-\"+ zona +\"/_Desde_\"+ str(numero))\n",
        "  while pag == 200:\n",
        "    try:\n",
        "      pag = urllib.request.urlopen(url_req).getcode()\n",
        "      paginas.append(url_req)\n",
        "      numero = numero + 48\n",
        "      url_req = (\"https://imoveis.mercadolivre.com.br/casas/aluguel/sao-paulo/sao-paulo-zona-\"+ zona +\"/_Desde_\"+ str(numero))\n",
        "      print(url_req)\n",
        "    except:\n",
        "      pag = 404\n",
        "  return paginas"
      ],
      "execution_count": 3,
      "outputs": []
    },
    {
      "cell_type": "code",
      "metadata": {
        "id": "2GcA3KfNwmpB",
        "colab_type": "code",
        "colab": {}
      },
      "source": [
        "def coleta_dados(url):\n",
        "    conteudo = requests.get(url).content\n",
        "    sopa = BeautifulSoup(conteudo)\n",
        "    \n",
        "    precos = sopa.find_all('span', class_='price__fraction')\n",
        "    areas_e_quartos = sopa.find_all('div', class_='item__attrs')\n",
        "    \n",
        "    lista_areas = []\n",
        "    lista_quartos = []\n",
        "    lista_precos = []\n",
        "    lista_zonas = []\n",
        "    \n",
        "    for padrao in precos:\n",
        "        preco = re.findall('<span class=\"price__fraction\">(.*)</span>', str(padrao))\n",
        "        lista_precos.append(preco[0].replace('.', ''))\n",
        "    \n",
        "    for elemento in areas_e_quartos:\n",
        "        quarto = re.findall(re_quarto, str(elemento))\n",
        "        area = re.findall(re_area, str(elemento))\n",
        "        \n",
        "        if quarto==[]:\n",
        "            quarto=np.nan\n",
        "        else:\n",
        "            quarto=quarto[0]\n",
        "        \n",
        "        if area==[]:\n",
        "            area=np.nan \n",
        "        else:\n",
        "            area=area[0]\n",
        "\n",
        "        lista_quartos.append(quarto)\n",
        "        lista_areas.append(area)\n",
        "        lista_zonas.append(zona)\n",
        "\n",
        "    dados = {'zona': lista_zonas,\n",
        "      'quartos': lista_quartos,\n",
        "      'area': lista_areas,\n",
        "      'preco': lista_precos}\n",
        "  \n",
        "    df = pd.DataFrame(dados)  \n",
        "    return df"
      ],
      "execution_count": 4,
      "outputs": []
    },
    {
      "cell_type": "code",
      "metadata": {
        "id": "b2FWelHQJjgE",
        "colab_type": "code",
        "colab": {}
      },
      "source": [
        "lista_dfs = []\n",
        "for zona in zonas:\n",
        "  urls = pega_url(zona)\n",
        "  for pagina in urls:\n",
        "    #url = url_ml.format(zona, pagina)\n",
        "    df = coleta_dados(pagina)\n",
        "    print('Carregando a url', pagina)\n",
        "    lista_dfs.append(df)\n",
        "    sleep(2)\n",
        "print('Dados coletados!')\n",
        "dados = pd.concat(lista_dfs)\n",
        "dados"
      ],
      "execution_count": null,
      "outputs": []
    },
    {
      "cell_type": "code",
      "metadata": {
        "id": "UJm2tM7hkQca",
        "colab_type": "code",
        "colab": {}
      },
      "source": [
        "dados.to_csv('dados_mercadolivre_18082020.csv')"
      ],
      "execution_count": 6,
      "outputs": []
    },
    {
      "cell_type": "code",
      "metadata": {
        "id": "OcWOzrbMo1J0",
        "colab_type": "code",
        "colab": {}
      },
      "source": [
        ""
      ],
      "execution_count": null,
      "outputs": []
    }
  ]
}