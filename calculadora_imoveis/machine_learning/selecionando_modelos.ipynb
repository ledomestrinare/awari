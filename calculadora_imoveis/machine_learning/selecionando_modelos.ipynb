{
 "cells": [
  {
   "cell_type": "markdown",
   "metadata": {
    "colab_type": "text",
    "id": "gFzQV1py16_j"
   },
   "source": [
    "## 3. Machine Learning"
   ]
  },
  {
   "cell_type": "markdown",
   "metadata": {
    "colab_type": "text",
    "id": "7emCkyBA9CI2"
   },
   "source": [
    "### 3.1 Importando dados preprocessados"
   ]
  },
  {
   "cell_type": "code",
   "execution_count": 6,
   "metadata": {
    "colab": {},
    "colab_type": "code",
    "id": "bt3Yh07N9IJ_"
   },
   "outputs": [],
   "source": [
    "import pandas as pd\n",
    "\n",
    "treino = pd.read_csv('https://raw.githubusercontent.com/cassiasamp/calculadora-de-imoveis-jun-20/master/analise_e_preprocessamento/treino_preprocessado.csv')\n",
    "teste = pd.read_csv('https://raw.githubusercontent.com/cassiasamp/calculadora-de-imoveis-jun-20/master/analise_e_preprocessamento/teste_preprocessado.csv')"
   ]
  },
  {
   "cell_type": "code",
   "execution_count": 7,
   "metadata": {
    "colab": {},
    "colab_type": "code",
    "id": "8el-AeKV9INq"
   },
   "outputs": [],
   "source": [
    "# dividindo os dados de treino e teste (X e y)\n",
    "\n",
    "X_train = treino.drop('preco', axis=1)\n",
    "y_train = treino['preco']\n",
    "X_test = teste.drop('preco', axis=1)\n",
    "y_test = teste['preco']"
   ]
  },
  {
   "cell_type": "markdown",
   "metadata": {
    "colab_type": "text",
    "id": "EhEkmbXmRD4F"
   },
   "source": [
    "### 3.2 Criando um modelo de base para comparar os resultados (baseline) "
   ]
  },
  {
   "cell_type": "code",
   "execution_count": 8,
   "metadata": {
    "colab": {
     "base_uri": "https://localhost:8080/",
     "height": 35
    },
    "colab_type": "code",
    "id": "pWm_9peL18_t",
    "outputId": "c02124c6-bc8d-4bf4-db66-5b162953f70f"
   },
   "outputs": [
    {
     "data": {
      "text/plain": [
       "0.7529715525631803"
      ]
     },
     "execution_count": 8,
     "metadata": {},
     "output_type": "execute_result"
    }
   ],
   "source": [
    "from sklearn.linear_model import LinearRegression\n",
    "\n",
    "lr = LinearRegression()\n",
    "lr.fit(X_train, y_train)\n",
    "lr.score(X_test, y_test)"
   ]
  },
  {
   "cell_type": "code",
   "execution_count": 9,
   "metadata": {
    "colab": {
     "base_uri": "https://localhost:8080/",
     "height": 35
    },
    "colab_type": "code",
    "id": "IDt3P5NYSTBb",
    "outputId": "b7123007-8ff3-4e5f-a6a8-e9886ba2359b"
   },
   "outputs": [
    {
     "data": {
      "text/plain": [
       "-0.007175323673028533"
      ]
     },
     "execution_count": 9,
     "metadata": {},
     "output_type": "execute_result"
    }
   ],
   "source": [
    "from sklearn.dummy import DummyRegressor\n",
    "\n",
    "reg = DummyRegressor(strategy='mean')\n",
    "reg.fit(X_train, y_train)\n",
    "reg.score(X_test, y_test)"
   ]
  },
  {
   "cell_type": "markdown",
   "metadata": {
    "colab_type": "text",
    "id": "QsHKsNbaSDPM"
   },
   "source": [
    "### 3.3 Comparando diferentes modelos de regressão (estimadores)"
   ]
  },
  {
   "cell_type": "code",
   "execution_count": 32,
   "metadata": {
    "colab": {},
    "colab_type": "code",
    "id": "uDpvo7Fs193_"
   },
   "outputs": [
    {
     "data": {
      "text/plain": [
       "'\\nfrom lightgbm import LGBMRegressor\\nfrom xgboost import XGBRegressor\\n'"
      ]
     },
     "execution_count": 32,
     "metadata": {},
     "output_type": "execute_result"
    }
   ],
   "source": [
    "from sklearn.linear_model import RidgeCV, Lasso, ElasticNet, LassoLars, HuberRegressor\n",
    "from sklearn.svm import SVR\n",
    "from sklearn.neighbors import KNeighborsRegressor\n",
    "from sklearn.ensemble import GradientBoostingRegressor, AdaBoostRegressor\n",
    "from sklearn.neural_network import MLPRegressor\n",
    "from sklearn.ensemble import RandomForestRegressor\n",
    "# se quiser, instalar e usar LGBM e XGBoost de fora do sklearn\n",
    "'''\n",
    "from lightgbm import LGBMRegressor\n",
    "from xgboost import XGBRegressor\n",
    "'''"
   ]
  },
  {
   "cell_type": "code",
   "execution_count": 33,
   "metadata": {
    "colab": {},
    "colab_type": "code",
    "id": "zE6jqA7019w8"
   },
   "outputs": [],
   "source": [
    "reg_list = [RidgeCV(),\n",
    "            SVR(),\n",
    "            KNeighborsRegressor(),\n",
    "            RandomForestRegressor(),\n",
    "            AdaBoostRegressor(),\n",
    "            GradientBoostingRegressor(),\n",
    "            MLPRegressor(),\n",
    "            # LGBMRegressor(), \n",
    "            # XGBRegressor(objective='reg:squarederror')\n",
    "            ]"
   ]
  },
  {
   "cell_type": "code",
   "execution_count": 15,
   "metadata": {
    "colab": {
     "base_uri": "https://localhost:8080/",
     "height": 1000
    },
    "colab_type": "code",
    "id": "_s-gvXW1Tc8a",
    "outputId": "51f9a9cc-6ed5-4409-e357-b0bacecc36ba"
   },
   "outputs": [
    {
     "name": "stdout",
     "output_type": "stream",
     "text": [
      "Treinando o modelo RidgeCV\n",
      "R² treino: 0.7116347123381197\n",
      "R² validação : 0.71 +- 0.09\n",
      "R² teste: 0.7514335728093169\n",
      "----------------------------------------------------------------------\n",
      "Treinando o modelo SVR\n",
      "R² treino: 0.7584588667353014\n",
      "R² validação : 0.75 +- 0.08\n",
      "R² teste: 0.7801788224409432\n",
      "----------------------------------------------------------------------\n",
      "Treinando o modelo KNeighborsRegressor\n",
      "R² treino: 0.8176339918210596\n",
      "R² validação : 0.72 +- 0.10\n",
      "R² teste: 0.7252475060194269\n",
      "----------------------------------------------------------------------\n",
      "Treinando o modelo RandomForestRegressor\n",
      "R² treino: 0.8995498685755843\n",
      "R² validação : 0.69 +- 0.12\n",
      "R² teste: 0.7398893122922656\n",
      "----------------------------------------------------------------------\n",
      "Treinando o modelo AdaBoostRegressor\n",
      "R² treino: 0.6707407756382326\n",
      "R² validação : 0.60 +- 0.07\n",
      "R² teste: 0.6339262918817496\n",
      "----------------------------------------------------------------------\n",
      "Treinando o modelo GradientBoostingRegressor\n",
      "R² treino: 0.8245227712901424\n",
      "R² validação : 0.73 +- 0.10\n",
      "R² teste: 0.784771646954094\n",
      "----------------------------------------------------------------------\n",
      "Treinando o modelo MLPRegressor\n"
     ]
    },
    {
     "name": "stderr",
     "output_type": "stream",
     "text": [
      "c:\\users\\cássia\\appdata\\local\\programs\\python\\python38\\lib\\site-packages\\sklearn\\neural_network\\_multilayer_perceptron.py:582: ConvergenceWarning: Stochastic Optimizer: Maximum iterations (200) reached and the optimization hasn't converged yet.\n",
      "  warnings.warn(\n",
      "c:\\users\\cássia\\appdata\\local\\programs\\python\\python38\\lib\\site-packages\\sklearn\\neural_network\\_multilayer_perceptron.py:582: ConvergenceWarning: Stochastic Optimizer: Maximum iterations (200) reached and the optimization hasn't converged yet.\n",
      "  warnings.warn(\n",
      "c:\\users\\cássia\\appdata\\local\\programs\\python\\python38\\lib\\site-packages\\sklearn\\neural_network\\_multilayer_perceptron.py:582: ConvergenceWarning: Stochastic Optimizer: Maximum iterations (200) reached and the optimization hasn't converged yet.\n",
      "  warnings.warn(\n",
      "c:\\users\\cássia\\appdata\\local\\programs\\python\\python38\\lib\\site-packages\\sklearn\\neural_network\\_multilayer_perceptron.py:582: ConvergenceWarning: Stochastic Optimizer: Maximum iterations (200) reached and the optimization hasn't converged yet.\n",
      "  warnings.warn(\n",
      "c:\\users\\cássia\\appdata\\local\\programs\\python\\python38\\lib\\site-packages\\sklearn\\neural_network\\_multilayer_perceptron.py:582: ConvergenceWarning: Stochastic Optimizer: Maximum iterations (200) reached and the optimization hasn't converged yet.\n",
      "  warnings.warn(\n"
     ]
    },
    {
     "name": "stdout",
     "output_type": "stream",
     "text": [
      "R² treino: 0.7399462106811417\n",
      "R² validação : 0.69 +- 0.10\n",
      "R² teste: 0.7672914038081111\n",
      "----------------------------------------------------------------------\n"
     ]
    },
    {
     "name": "stderr",
     "output_type": "stream",
     "text": [
      "c:\\users\\cássia\\appdata\\local\\programs\\python\\python38\\lib\\site-packages\\sklearn\\neural_network\\_multilayer_perceptron.py:582: ConvergenceWarning: Stochastic Optimizer: Maximum iterations (200) reached and the optimization hasn't converged yet.\n",
      "  warnings.warn(\n"
     ]
    }
   ],
   "source": [
    "from sklearn.model_selection import cross_val_score\n",
    "import numpy as np\n",
    "\n",
    "for reg in reg_list:\n",
    "    print(f'Treinando o modelo {reg.__class__.__name__}')\n",
    "    reg.fit(X_train, y_train)\n",
    "    \n",
    "    train_score = reg.score(X_train, y_train)\n",
    "    cv_scores = cross_val_score(reg, X_train, y_train)\n",
    "    test_score = reg.score(X_test, y_test)\n",
    "    \n",
    "    print(f\"R² treino: {train_score}\")\n",
    "    print(f\"R² validação : {np.mean(cv_scores):.2f} +- {np.std(cv_scores):.2f}\")\n",
    "    print(f\"R² teste: {test_score}\")\n",
    "    print('-'*70)"
   ]
  },
  {
   "cell_type": "code",
   "execution_count": 16,
   "metadata": {
    "colab": {},
    "colab_type": "code",
    "id": "7JWKZZv8Tdec"
   },
   "outputs": [],
   "source": [
    "# Bonus: testando com todos os regressores do sklearn\n",
    "from sklearn.utils import all_estimators\n",
    "\n",
    "estimators = all_estimators(type_filter='regressor')\n",
    "\n",
    "relatorio = {'nome':[],\n",
    "             'train_score':[],\n",
    "             'cv_scores_mean':[],\n",
    "             'test_score':[],\n",
    "             'estimador':[]\n",
    "             }\n",
    "\n",
    "ignore_list = ['IsotonicRegression',\n",
    " 'MultiOutputRegressor',\n",
    " 'ElasticNet',\n",
    " 'MultiTaskElasticNet',\n",
    " 'MultiTaskElasticNetCV',\n",
    " 'MultiTaskLasso',\n",
    " 'MultiTaskLassoCV',\n",
    " 'RadiusNeighborsRegressor',\n",
    " 'RegressorChain',\n",
    " 'StackingRegressor',\n",
    " 'VotingRegressor']\n"
   ]
  },
  {
   "cell_type": "code",
   "execution_count": 30,
   "metadata": {
    "colab": {},
    "colab_type": "code",
    "id": "dxMCaBxI_Vx5"
   },
   "outputs": [
    {
     "data": {
      "text/plain": [
       "\"\\nestimators.extend(\\n    [('LGBMRegressor', LGBMRegressor),\\n     ('XGBRegressor', XGBRegressor)]\\n)\\n\""
      ]
     },
     "execution_count": 30,
     "metadata": {},
     "output_type": "execute_result"
    }
   ],
   "source": [
    "# Se quiser instalar e usar LGBM e XGBoost de fora do sklearn\n",
    "'''\n",
    "estimators.extend(\n",
    "    [('LGBMRegressor', LGBMRegressor),\n",
    "     ('XGBRegressor', XGBRegressor)]\n",
    ")\n",
    "'''"
   ]
  },
  {
   "cell_type": "code",
   "execution_count": 19,
   "metadata": {
    "colab": {
     "base_uri": "https://localhost:8080/",
     "height": 1000
    },
    "colab_type": "code",
    "id": "CApLK47B_T9u",
    "outputId": "b3b3a3fe-ee27-4dfa-9a6c-8c5104ab5eb5"
   },
   "outputs": [
    {
     "name": "stdout",
     "output_type": "stream",
     "text": [
      "Treinando o modelo ARDRegression\n",
      "R² treino: 0.7119003161122139\n",
      "R² validaação: 0.71 +- 0.09\n",
      "R² teste: 0.7526207665594502\n",
      "----------------------------------------------------------------------\n",
      "Treinando o modelo AdaBoostRegressor\n",
      "R² treino: 0.6753814063451928\n",
      "R² validaação: 0.60 +- 0.06\n",
      "R² teste: 0.6383884906289323\n",
      "----------------------------------------------------------------------\n",
      "Treinando o modelo BaggingRegressor\n",
      "R² treino: 0.8933040594732892\n",
      "R² validaação: 0.68 +- 0.11\n",
      "R² teste: 0.7153582838699588\n",
      "----------------------------------------------------------------------\n",
      "Treinando o modelo BayesianRidge\n",
      "R² treino: 0.7119341375714523\n",
      "R² validaação: 0.71 +- 0.09\n",
      "R² teste: 0.7520286629146453\n",
      "----------------------------------------------------------------------\n",
      "Treinando o modelo CCA\n",
      "R² treino: 0.5390192659785343\n",
      "R² validaação: 0.52 +- 0.11\n",
      "R² teste: 0.6992692088582081\n",
      "----------------------------------------------------------------------\n",
      "Treinando o modelo DecisionTreeRegressor\n",
      "R² treino: 0.9221724519725403\n",
      "R² validaação: 0.60 +- 0.16\n",
      "R² teste: 0.6889083410323052\n",
      "----------------------------------------------------------------------\n",
      "Treinando o modelo DummyRegressor\n",
      "R² treino: 0.0\n",
      "R² validaação: -0.00 +- 0.00\n",
      "R² teste: -0.007175323673028533\n",
      "----------------------------------------------------------------------\n",
      "Treinando o modelo ElasticNetCV\n"
     ]
    },
    {
     "name": "stderr",
     "output_type": "stream",
     "text": [
      "c:\\users\\cássia\\appdata\\local\\programs\\python\\python38\\lib\\site-packages\\sklearn\\cross_decomposition\\_pls.py:323: UserWarning: Y residual constant at iteration 1\n",
      "  warnings.warn('Y residual constant at iteration %s' % k)\n",
      "c:\\users\\cássia\\appdata\\local\\programs\\python\\python38\\lib\\site-packages\\sklearn\\cross_decomposition\\_pls.py:323: UserWarning: Y residual constant at iteration 1\n",
      "  warnings.warn('Y residual constant at iteration %s' % k)\n",
      "c:\\users\\cássia\\appdata\\local\\programs\\python\\python38\\lib\\site-packages\\sklearn\\cross_decomposition\\_pls.py:323: UserWarning: Y residual constant at iteration 1\n",
      "  warnings.warn('Y residual constant at iteration %s' % k)\n",
      "c:\\users\\cássia\\appdata\\local\\programs\\python\\python38\\lib\\site-packages\\sklearn\\cross_decomposition\\_pls.py:323: UserWarning: Y residual constant at iteration 1\n",
      "  warnings.warn('Y residual constant at iteration %s' % k)\n",
      "c:\\users\\cássia\\appdata\\local\\programs\\python\\python38\\lib\\site-packages\\sklearn\\cross_decomposition\\_pls.py:323: UserWarning: Y residual constant at iteration 1\n",
      "  warnings.warn('Y residual constant at iteration %s' % k)\n",
      "c:\\users\\cássia\\appdata\\local\\programs\\python\\python38\\lib\\site-packages\\sklearn\\cross_decomposition\\_pls.py:323: UserWarning: Y residual constant at iteration 1\n",
      "  warnings.warn('Y residual constant at iteration %s' % k)\n"
     ]
    },
    {
     "name": "stdout",
     "output_type": "stream",
     "text": [
      "R² treino: 0.7118824235365495\n",
      "R² validaação: 0.71 +- 0.09\n",
      "R² teste: 0.7522566818336653\n",
      "----------------------------------------------------------------------\n",
      "Treinando o modelo ExtraTreeRegressor\n",
      "R² treino: 0.9221724519725403\n",
      "R² validaação: 0.63 +- 0.13\n",
      "R² teste: 0.6698870198273661\n",
      "----------------------------------------------------------------------\n",
      "Treinando o modelo ExtraTreesRegressor\n",
      "R² treino: 0.9221724519725403\n",
      "R² validaação: 0.68 +- 0.12\n",
      "R² teste: 0.7108512846073223\n",
      "----------------------------------------------------------------------\n",
      "Treinando o modelo GammaRegressor\n",
      "R² treino: 0.5281576868647873\n",
      "R² validaação: 0.53 +- 0.05\n",
      "R² teste: 0.5304408649801144\n",
      "----------------------------------------------------------------------\n",
      "Treinando o modelo GaussianProcessRegressor\n",
      "R² treino: 0.844588860274418\n",
      "R² validaação: -117431.06 +- 229591.35\n",
      "R² teste: -44.89733573698892\n",
      "----------------------------------------------------------------------\n",
      "Treinando o modelo GradientBoostingRegressor\n",
      "R² treino: 0.8245227712901424\n",
      "R² validaação: 0.73 +- 0.10\n",
      "R² teste: 0.7842614055057908\n",
      "----------------------------------------------------------------------\n",
      "Treinando o modelo HistGradientBoostingRegressor\n",
      "R² treino: 0.8344080566993199\n",
      "R² validaação: 0.72 +- 0.11\n",
      "R² teste: 0.7518562136834617\n",
      "----------------------------------------------------------------------\n",
      "Treinando o modelo HuberRegressor\n",
      "R² treino: 0.7037537803069752\n",
      "R² validaação: 0.70 +- 0.09\n",
      "R² teste: 0.7644330323252124\n",
      "----------------------------------------------------------------------\n",
      "Treinando o modelo KNeighborsRegressor\n",
      "R² treino: 0.8176339918210596\n",
      "R² validaação: 0.72 +- 0.10\n",
      "R² teste: 0.7252475060194269\n",
      "----------------------------------------------------------------------\n",
      "Treinando o modelo KernelRidge\n",
      "R² treino: 0.7041602805098779\n",
      "R² validaação: 0.70 +- 0.09\n",
      "R² teste: 0.7651264198817522\n",
      "----------------------------------------------------------------------\n",
      "Treinando o modelo Lars\n",
      "R² treino: 0.7119440832005488\n",
      "R² validaação: 0.71 +- 0.09\n",
      "R² teste: 0.752035470538984\n",
      "----------------------------------------------------------------------\n",
      "Treinando o modelo LarsCV\n",
      "R² treino: 0.7119440832005488\n",
      "R² validaação: 0.71 +- 0.09\n",
      "R² teste: 0.752035470538984\n",
      "----------------------------------------------------------------------\n",
      "Treinando o modelo Lasso\n",
      "R² treino: 0.0\n",
      "R² validaação: -0.00 +- 0.00\n",
      "R² teste: -0.007175323673028533\n",
      "----------------------------------------------------------------------\n",
      "Treinando o modelo LassoCV\n",
      "R² treino: 0.7119299933567222\n",
      "R² validaação: 0.71 +- 0.09\n",
      "R² teste: 0.7521947875542966\n",
      "----------------------------------------------------------------------\n",
      "Treinando o modelo LassoLars\n",
      "R² treino: 0.0\n",
      "R² validaação: -0.00 +- 0.00\n",
      "R² teste: -0.007175323673028533\n",
      "----------------------------------------------------------------------\n",
      "Treinando o modelo LassoLarsCV\n",
      "R² treino: 0.7119440832005488\n",
      "R² validaação: 0.71 +- 0.09\n",
      "R² teste: 0.752035470538984\n",
      "----------------------------------------------------------------------\n",
      "Treinando o modelo LassoLarsIC\n",
      "R² treino: 0.7119440832005488\n",
      "R² validaação: 0.71 +- 0.09\n",
      "R² teste: 0.752035470538984\n",
      "----------------------------------------------------------------------\n",
      "Treinando o modelo LinearRegression\n",
      "R² treino: 0.7115244032518363\n",
      "R² validaação: 0.70 +- 0.09\n",
      "R² teste: 0.7529715525631803\n",
      "----------------------------------------------------------------------\n",
      "Treinando o modelo LinearSVR\n",
      "R² treino: 0.6994436097824617\n",
      "R² validaação: 0.70 +- 0.09\n",
      "R² teste: 0.7731637829022835\n",
      "----------------------------------------------------------------------\n",
      "Treinando o modelo MLPRegressor\n"
     ]
    },
    {
     "name": "stderr",
     "output_type": "stream",
     "text": [
      "c:\\users\\cássia\\appdata\\local\\programs\\python\\python38\\lib\\site-packages\\sklearn\\svm\\_base.py:976: ConvergenceWarning: Liblinear failed to converge, increase the number of iterations.\n",
      "  warnings.warn(\"Liblinear failed to converge, increase \"\n",
      "c:\\users\\cássia\\appdata\\local\\programs\\python\\python38\\lib\\site-packages\\sklearn\\svm\\_base.py:976: ConvergenceWarning: Liblinear failed to converge, increase the number of iterations.\n",
      "  warnings.warn(\"Liblinear failed to converge, increase \"\n",
      "c:\\users\\cássia\\appdata\\local\\programs\\python\\python38\\lib\\site-packages\\sklearn\\svm\\_base.py:976: ConvergenceWarning: Liblinear failed to converge, increase the number of iterations.\n",
      "  warnings.warn(\"Liblinear failed to converge, increase \"\n",
      "c:\\users\\cássia\\appdata\\local\\programs\\python\\python38\\lib\\site-packages\\sklearn\\svm\\_base.py:976: ConvergenceWarning: Liblinear failed to converge, increase the number of iterations.\n",
      "  warnings.warn(\"Liblinear failed to converge, increase \"\n",
      "c:\\users\\cássia\\appdata\\local\\programs\\python\\python38\\lib\\site-packages\\sklearn\\svm\\_base.py:976: ConvergenceWarning: Liblinear failed to converge, increase the number of iterations.\n",
      "  warnings.warn(\"Liblinear failed to converge, increase \"\n",
      "c:\\users\\cássia\\appdata\\local\\programs\\python\\python38\\lib\\site-packages\\sklearn\\svm\\_base.py:976: ConvergenceWarning: Liblinear failed to converge, increase the number of iterations.\n",
      "  warnings.warn(\"Liblinear failed to converge, increase \"\n",
      "c:\\users\\cássia\\appdata\\local\\programs\\python\\python38\\lib\\site-packages\\sklearn\\neural_network\\_multilayer_perceptron.py:582: ConvergenceWarning: Stochastic Optimizer: Maximum iterations (200) reached and the optimization hasn't converged yet.\n",
      "  warnings.warn(\n",
      "c:\\users\\cássia\\appdata\\local\\programs\\python\\python38\\lib\\site-packages\\sklearn\\neural_network\\_multilayer_perceptron.py:582: ConvergenceWarning: Stochastic Optimizer: Maximum iterations (200) reached and the optimization hasn't converged yet.\n",
      "  warnings.warn(\n",
      "c:\\users\\cássia\\appdata\\local\\programs\\python\\python38\\lib\\site-packages\\sklearn\\neural_network\\_multilayer_perceptron.py:582: ConvergenceWarning: Stochastic Optimizer: Maximum iterations (200) reached and the optimization hasn't converged yet.\n",
      "  warnings.warn(\n",
      "c:\\users\\cássia\\appdata\\local\\programs\\python\\python38\\lib\\site-packages\\sklearn\\neural_network\\_multilayer_perceptron.py:582: ConvergenceWarning: Stochastic Optimizer: Maximum iterations (200) reached and the optimization hasn't converged yet.\n",
      "  warnings.warn(\n",
      "c:\\users\\cássia\\appdata\\local\\programs\\python\\python38\\lib\\site-packages\\sklearn\\neural_network\\_multilayer_perceptron.py:582: ConvergenceWarning: Stochastic Optimizer: Maximum iterations (200) reached and the optimization hasn't converged yet.\n",
      "  warnings.warn(\n",
      "c:\\users\\cássia\\appdata\\local\\programs\\python\\python38\\lib\\site-packages\\sklearn\\neural_network\\_multilayer_perceptron.py:582: ConvergenceWarning: Stochastic Optimizer: Maximum iterations (200) reached and the optimization hasn't converged yet.\n",
      "  warnings.warn(\n"
     ]
    },
    {
     "name": "stdout",
     "output_type": "stream",
     "text": [
      "R² treino: 0.7563523488367733\n",
      "R² validaação: 0.70 +- 0.09\n",
      "R² teste: 0.772262483972917\n",
      "----------------------------------------------------------------------\n",
      "Treinando o modelo NuSVR\n",
      "R² treino: 0.7582457760427077\n",
      "R² validaação: 0.75 +- 0.08\n",
      "R² teste: 0.7785186759420891\n",
      "----------------------------------------------------------------------\n",
      "Treinando o modelo OrthogonalMatchingPursuit\n",
      "R² treino: 0.653482483665506\n",
      "R² validaação: 0.66 +- 0.09\n",
      "R² teste: 0.7269073488806175\n",
      "----------------------------------------------------------------------\n",
      "Treinando o modelo OrthogonalMatchingPursuitCV\n",
      "R² treino: 0.7119440832005488\n",
      "R² validaação: 0.71 +- 0.09\n",
      "R² teste: 0.752035470538984\n",
      "----------------------------------------------------------------------\n",
      "Treinando o modelo PLSCanonical\n",
      "R² treino: 0.31813510522145105\n",
      "R² validaação: 0.29 +- 0.20\n",
      "R² teste: 0.5163283502645619\n",
      "----------------------------------------------------------------------\n",
      "Treinando o modelo PLSRegression\n",
      "R² treino: 0.7046536585594195\n",
      "R² validaação: 0.70 +- 0.09\n",
      "R² teste: 0.7282896596139761\n",
      "----------------------------------------------------------------------\n",
      "Treinando o modelo PassiveAggressiveRegressor\n"
     ]
    },
    {
     "name": "stderr",
     "output_type": "stream",
     "text": [
      "c:\\users\\cássia\\appdata\\local\\programs\\python\\python38\\lib\\site-packages\\sklearn\\cross_decomposition\\_pls.py:323: UserWarning: Y residual constant at iteration 1\n",
      "  warnings.warn('Y residual constant at iteration %s' % k)\n",
      "c:\\users\\cássia\\appdata\\local\\programs\\python\\python38\\lib\\site-packages\\sklearn\\cross_decomposition\\_pls.py:323: UserWarning: Y residual constant at iteration 1\n",
      "  warnings.warn('Y residual constant at iteration %s' % k)\n",
      "c:\\users\\cássia\\appdata\\local\\programs\\python\\python38\\lib\\site-packages\\sklearn\\cross_decomposition\\_pls.py:323: UserWarning: Y residual constant at iteration 1\n",
      "  warnings.warn('Y residual constant at iteration %s' % k)\n",
      "c:\\users\\cássia\\appdata\\local\\programs\\python\\python38\\lib\\site-packages\\sklearn\\cross_decomposition\\_pls.py:323: UserWarning: Y residual constant at iteration 1\n",
      "  warnings.warn('Y residual constant at iteration %s' % k)\n",
      "c:\\users\\cássia\\appdata\\local\\programs\\python\\python38\\lib\\site-packages\\sklearn\\cross_decomposition\\_pls.py:323: UserWarning: Y residual constant at iteration 1\n",
      "  warnings.warn('Y residual constant at iteration %s' % k)\n",
      "c:\\users\\cássia\\appdata\\local\\programs\\python\\python38\\lib\\site-packages\\sklearn\\cross_decomposition\\_pls.py:323: UserWarning: Y residual constant at iteration 1\n",
      "  warnings.warn('Y residual constant at iteration %s' % k)\n"
     ]
    },
    {
     "name": "stdout",
     "output_type": "stream",
     "text": [
      "R² treino: 0.5673012575234844\n",
      "R² validaação: 0.60 +- 0.08\n",
      "R² teste: 0.5143112276546418\n",
      "----------------------------------------------------------------------\n",
      "Treinando o modelo PoissonRegressor\n",
      "R² treino: 0.715481256237379\n",
      "R² validaação: 0.71 +- 0.08\n",
      "R² teste: 0.750439781253455\n",
      "----------------------------------------------------------------------\n",
      "Treinando o modelo RANSACRegressor\n",
      "R² treino: 0.6749241718646268\n",
      "R² validaação: 0.68 +- 0.09\n",
      "R² teste: 0.7396159278188825\n",
      "----------------------------------------------------------------------\n",
      "Treinando o modelo RandomForestRegressor\n",
      "R² treino: 0.8994789679380315\n",
      "R² validaação: 0.70 +- 0.11\n",
      "R² teste: 0.7358339304702927\n",
      "----------------------------------------------------------------------\n",
      "Treinando o modelo Ridge\n",
      "R² treino: 0.711940373699615\n",
      "R² validaação: 0.71 +- 0.09\n",
      "R² teste: 0.7520366238790087\n",
      "----------------------------------------------------------------------\n",
      "Treinando o modelo RidgeCV\n",
      "R² treino: 0.7116347123381197\n",
      "R² validaação: 0.71 +- 0.09\n",
      "R² teste: 0.7514335728093169\n",
      "----------------------------------------------------------------------\n",
      "Treinando o modelo SGDRegressor\n",
      "R² treino: 0.6873543686221716\n",
      "R² validaação: 0.68 +- 0.09\n",
      "R² teste: 0.7684542398178249\n",
      "----------------------------------------------------------------------\n",
      "Treinando o modelo SVR\n",
      "R² treino: 0.7584588667353014\n",
      "R² validaação: 0.75 +- 0.08\n",
      "R² teste: 0.7801788224409432\n",
      "----------------------------------------------------------------------\n",
      "Treinando o modelo TheilSenRegressor\n",
      "R² treino: 0.6767895581785921\n",
      "R² validaação: 0.68 +- 0.09\n",
      "R² teste: 0.7284129903225265\n",
      "----------------------------------------------------------------------\n",
      "Treinando o modelo TransformedTargetRegressor\n",
      "R² treino: 0.7115244032518363\n",
      "R² validaação: 0.70 +- 0.09\n",
      "R² teste: 0.7529715525631803\n",
      "----------------------------------------------------------------------\n",
      "Treinando o modelo TweedieRegressor\n",
      "R² treino: 0.5137325321234958\n",
      "R² validaação: 0.51 +- 0.05\n",
      "R² teste: 0.5053913955449075\n",
      "----------------------------------------------------------------------\n"
     ]
    }
   ],
   "source": [
    "for name, RegressorClass in estimators:\n",
    "    if name not in ignore_list:\n",
    "        print(f'Treinando o modelo {name}')\n",
    "        reg = RegressorClass()\n",
    "        reg.fit(X_train, y_train)\n",
    "\n",
    "        train_score = reg.score(X_train, y_train)\n",
    "        cv_scores = cross_val_score(reg, X_train, y_train)\n",
    "        test_score = reg.score(X_test, y_test)\n",
    "\n",
    "        print(f\"R² treino: {train_score}\")\n",
    "        print(f\"R² validaação: {np.mean(cv_scores):.2f} +- {np.std(cv_scores):.2f}\")\n",
    "        print(f\"R² teste: {test_score}\")\n",
    "        print('-'*70)\n",
    "\n",
    "        relatorio['nome'].append(name)\n",
    "        relatorio['train_score'].append(train_score)\n",
    "        relatorio['cv_scores_mean'].append(np.mean(cv_scores))\n",
    "        relatorio['test_score'].append(test_score)\n",
    "        relatorio['estimador'].append(reg)"
   ]
  },
  {
   "cell_type": "code",
   "execution_count": 20,
   "metadata": {
    "colab": {
     "base_uri": "https://localhost:8080/",
     "height": 437
    },
    "colab_type": "code",
    "id": "bbdGuVWkbxQ6",
    "outputId": "3e92ba44-50f4-477d-97b1-a2948483eff9"
   },
   "outputs": [
    {
     "data": {
      "text/html": [
       "<div>\n",
       "<style scoped>\n",
       "    .dataframe tbody tr th:only-of-type {\n",
       "        vertical-align: middle;\n",
       "    }\n",
       "\n",
       "    .dataframe tbody tr th {\n",
       "        vertical-align: top;\n",
       "    }\n",
       "\n",
       "    .dataframe thead th {\n",
       "        text-align: right;\n",
       "    }\n",
       "</style>\n",
       "<table border=\"1\" class=\"dataframe\">\n",
       "  <thead>\n",
       "    <tr style=\"text-align: right;\">\n",
       "      <th></th>\n",
       "      <th>nome</th>\n",
       "      <th>train_score</th>\n",
       "      <th>cv_scores_mean</th>\n",
       "      <th>test_score</th>\n",
       "      <th>estimador</th>\n",
       "    </tr>\n",
       "  </thead>\n",
       "  <tbody>\n",
       "    <tr>\n",
       "      <th>39</th>\n",
       "      <td>SVR</td>\n",
       "      <td>0.758459</td>\n",
       "      <td>0.748145</td>\n",
       "      <td>0.780179</td>\n",
       "      <td>SVR()</td>\n",
       "    </tr>\n",
       "    <tr>\n",
       "      <th>27</th>\n",
       "      <td>NuSVR</td>\n",
       "      <td>0.758246</td>\n",
       "      <td>0.745875</td>\n",
       "      <td>0.778519</td>\n",
       "      <td>NuSVR()</td>\n",
       "    </tr>\n",
       "    <tr>\n",
       "      <th>12</th>\n",
       "      <td>GradientBoostingRegressor</td>\n",
       "      <td>0.824523</td>\n",
       "      <td>0.734025</td>\n",
       "      <td>0.784261</td>\n",
       "      <td>([DecisionTreeRegressor(criterion='friedman_ms...</td>\n",
       "    </tr>\n",
       "    <tr>\n",
       "      <th>13</th>\n",
       "      <td>HistGradientBoostingRegressor</td>\n",
       "      <td>0.834408</td>\n",
       "      <td>0.724294</td>\n",
       "      <td>0.751856</td>\n",
       "      <td>HistGradientBoostingRegressor()</td>\n",
       "    </tr>\n",
       "    <tr>\n",
       "      <th>15</th>\n",
       "      <td>KNeighborsRegressor</td>\n",
       "      <td>0.817634</td>\n",
       "      <td>0.716235</td>\n",
       "      <td>0.725248</td>\n",
       "      <td>KNeighborsRegressor()</td>\n",
       "    </tr>\n",
       "    <tr>\n",
       "      <th>33</th>\n",
       "      <td>PoissonRegressor</td>\n",
       "      <td>0.715481</td>\n",
       "      <td>0.712963</td>\n",
       "      <td>0.750440</td>\n",
       "      <td>PoissonRegressor()</td>\n",
       "    </tr>\n",
       "    <tr>\n",
       "      <th>37</th>\n",
       "      <td>RidgeCV</td>\n",
       "      <td>0.711635</td>\n",
       "      <td>0.707160</td>\n",
       "      <td>0.751434</td>\n",
       "      <td>RidgeCV(alphas=array([ 0.1,  1. , 10. ]))</td>\n",
       "    </tr>\n",
       "    <tr>\n",
       "      <th>3</th>\n",
       "      <td>BayesianRidge</td>\n",
       "      <td>0.711934</td>\n",
       "      <td>0.706491</td>\n",
       "      <td>0.752029</td>\n",
       "      <td>BayesianRidge()</td>\n",
       "    </tr>\n",
       "    <tr>\n",
       "      <th>36</th>\n",
       "      <td>Ridge</td>\n",
       "      <td>0.711940</td>\n",
       "      <td>0.706436</td>\n",
       "      <td>0.752037</td>\n",
       "      <td>Ridge()</td>\n",
       "    </tr>\n",
       "    <tr>\n",
       "      <th>20</th>\n",
       "      <td>LassoCV</td>\n",
       "      <td>0.711930</td>\n",
       "      <td>0.706363</td>\n",
       "      <td>0.752195</td>\n",
       "      <td>LassoCV()</td>\n",
       "    </tr>\n",
       "  </tbody>\n",
       "</table>\n",
       "</div>"
      ],
      "text/plain": [
       "                             nome  train_score  cv_scores_mean  test_score  \\\n",
       "39                            SVR     0.758459        0.748145    0.780179   \n",
       "27                          NuSVR     0.758246        0.745875    0.778519   \n",
       "12      GradientBoostingRegressor     0.824523        0.734025    0.784261   \n",
       "13  HistGradientBoostingRegressor     0.834408        0.724294    0.751856   \n",
       "15            KNeighborsRegressor     0.817634        0.716235    0.725248   \n",
       "33               PoissonRegressor     0.715481        0.712963    0.750440   \n",
       "37                        RidgeCV     0.711635        0.707160    0.751434   \n",
       "3                   BayesianRidge     0.711934        0.706491    0.752029   \n",
       "36                          Ridge     0.711940        0.706436    0.752037   \n",
       "20                        LassoCV     0.711930        0.706363    0.752195   \n",
       "\n",
       "                                            estimador  \n",
       "39                                              SVR()  \n",
       "27                                            NuSVR()  \n",
       "12  ([DecisionTreeRegressor(criterion='friedman_ms...  \n",
       "13                    HistGradientBoostingRegressor()  \n",
       "15                              KNeighborsRegressor()  \n",
       "33                                 PoissonRegressor()  \n",
       "37          RidgeCV(alphas=array([ 0.1,  1. , 10. ]))  \n",
       "3                                     BayesianRidge()  \n",
       "36                                            Ridge()  \n",
       "20                                          LassoCV()  "
      ]
     },
     "execution_count": 20,
     "metadata": {},
     "output_type": "execute_result"
    }
   ],
   "source": [
    "relatorio = pd.DataFrame(relatorio).sort_values(by='cv_scores_mean', ascending=False)\n",
    "relatorio.head(10)"
   ]
  },
  {
   "cell_type": "markdown",
   "metadata": {
    "colab_type": "text",
    "id": "ooicjozH-CdH"
   },
   "source": [
    "### 3.4 TBD: calibrando melhores estimadores usando GridSearchCV"
   ]
  },
  {
   "cell_type": "code",
   "execution_count": null,
   "metadata": {
    "colab": {},
    "colab_type": "code",
    "id": "iH1s0ADL-cyS"
   },
   "outputs": [],
   "source": [
    "## Usar GridSearchCV para calibrar os melhores estimadores"
   ]
  },
  {
   "cell_type": "code",
   "execution_count": null,
   "metadata": {
    "colab": {},
    "colab_type": "code",
    "id": "HFMXLNGH-2Xr"
   },
   "outputs": [],
   "source": []
  },
  {
   "cell_type": "markdown",
   "metadata": {
    "colab_type": "text",
    "id": "KZqXRTdf-jx_"
   },
   "source": [
    "### 3.5 (Opcional) Combinando os melhores estimadores usando stacking"
   ]
  },
  {
   "cell_type": "code",
   "execution_count": 21,
   "metadata": {
    "colab": {
     "base_uri": "https://localhost:8080/",
     "height": 815
    },
    "colab_type": "code",
    "id": "8qQQOpXIg-K9",
    "outputId": "b0f2b0cd-d317-4d9f-e0b2-3cf77d1fffa0"
   },
   "outputs": [
    {
     "name": "stdout",
     "output_type": "stream",
     "text": [
      "R² treino: 0.7842888711315084\n",
      "R² validação: 0.75 +- 0.08\n",
      "R² teste: 0.7855565962983578\n",
      "----------------------------------------------------------------------\n"
     ]
    }
   ],
   "source": [
    "from sklearn.ensemble import StackingRegressor\n",
    "\n",
    "top_3_regs = relatorio[['nome', 'estimador']].values[:3]\n",
    "\n",
    "reg = StackingRegressor(\n",
    "    estimators = top_3_regs\n",
    ")\n",
    "\n",
    "reg.fit(X_train, y_train)\n",
    "\n",
    "train_score = reg.score(X_train, y_train)\n",
    "cv_scores = cross_val_score(reg, X_train, y_train)\n",
    "test_score = reg.score(X_test, y_test)\n",
    "\n",
    "print(f\"R² treino: {train_score}\")\n",
    "print(f\"R² validação: {np.mean(cv_scores):.2f} +- {np.std(cv_scores):.2f}\")\n",
    "print(f\"R² teste: {test_score}\")\n",
    "print('-'*70)"
   ]
  },
  {
   "cell_type": "code",
   "execution_count": 22,
   "metadata": {
    "colab": {
     "base_uri": "https://localhost:8080/",
     "height": 294
    },
    "colab_type": "code",
    "id": "4z5V0-E5g-AC",
    "outputId": "307924c4-867e-4bb6-f1b8-d0e25d62c650"
   },
   "outputs": [
    {
     "data": {
      "text/plain": [
       "StackingRegressor(estimators=array([['SVR', SVR()],\n",
       "       ['NuSVR', NuSVR()],\n",
       "       ['GradientBoostingRegressor', GradientBoostingRegressor()]],\n",
       "      dtype=object))"
      ]
     },
     "execution_count": 22,
     "metadata": {},
     "output_type": "execute_result"
    }
   ],
   "source": [
    "reg"
   ]
  },
  {
   "cell_type": "markdown",
   "metadata": {
    "colab_type": "text",
    "id": "zaXL6sBB1-qi"
   },
   "source": [
    "## 4. Salvando o modelo"
   ]
  },
  {
   "cell_type": "code",
   "execution_count": 23,
   "metadata": {
    "colab": {},
    "colab_type": "code",
    "id": "fnT9KWf52Cs0"
   },
   "outputs": [],
   "source": [
    "import pickle\n",
    "\n",
    "pickle.dump(reg, open('modelo.pkl', 'wb'), protocol=4)"
   ]
  },
  {
   "cell_type": "code",
   "execution_count": 24,
   "metadata": {
    "colab": {
     "base_uri": "https://localhost:8080/",
     "height": 35
    },
    "colab_type": "code",
    "id": "C53m18HT2DWi",
    "outputId": "11a8b72a-246f-4b6d-f9ad-e08658bf5bd6"
   },
   "outputs": [
    {
     "name": "stdout",
     "output_type": "stream",
     "text": [
      " Volume in drive C has no label.\n",
      " Volume Serial Number is 225D-4E02\n",
      "\n",
      " Directory of C:\\Users\\C ssia\\Desktop\\calculadora\n",
      "\n",
      "15/09/2020  16:28    <DIR>          .\n",
      "15/09/2020  16:28    <DIR>          ..\n",
      "15/09/2020  16:19    <DIR>          .ipynb_checkpoints\n",
      "15/09/2020  15:28           493.260 2_eda_preprocessamento.ipynb\n",
      "15/09/2020  16:19           374.901 aed_e_preprocessamento_de_dados.ipynb\n",
      "15/09/2020  16:28           364.273 modelo.pkl\n",
      "15/09/2020  16:27            43.181 selecionando_modelos.ipynb\n",
      "15/09/2020  16:19            16.165 teste_preprocessado.csv\n",
      "15/09/2020  16:19            48.429 treino_preprocessado.csv\n",
      "               6 File(s)      1.340.209 bytes\n",
      "               3 Dir(s)  170.824.335.360 bytes free\n"
     ]
    }
   ],
   "source": [
    "ls"
   ]
  },
  {
   "cell_type": "code",
   "execution_count": 25,
   "metadata": {
    "colab": {},
    "colab_type": "code",
    "id": "p-cz2E-n2DQV"
   },
   "outputs": [],
   "source": [
    "%reset -f"
   ]
  },
  {
   "cell_type": "code",
   "execution_count": 27,
   "metadata": {
    "colab": {},
    "colab_type": "code",
    "id": "6GsRAjofm_mr"
   },
   "outputs": [],
   "source": [
    "import pickle\n",
    "\n",
    "reg = pickle.load(open('modelo.pkl', 'rb'))"
   ]
  },
  {
   "cell_type": "code",
   "execution_count": 28,
   "metadata": {
    "colab": {
     "base_uri": "https://localhost:8080/",
     "height": 294
    },
    "colab_type": "code",
    "id": "OZdeE_j6nCbG",
    "outputId": "f8e25336-96e1-4518-e8a2-fbe55c710b17"
   },
   "outputs": [
    {
     "data": {
      "text/plain": [
       "StackingRegressor(estimators=array([['SVR', SVR()],\n",
       "       ['NuSVR', NuSVR()],\n",
       "       ['GradientBoostingRegressor', GradientBoostingRegressor()]],\n",
       "      dtype=object))"
      ]
     },
     "execution_count": 28,
     "metadata": {},
     "output_type": "execute_result"
    }
   ],
   "source": [
    "reg"
   ]
  },
  {
   "cell_type": "code",
   "execution_count": 29,
   "metadata": {
    "colab": {
     "base_uri": "https://localhost:8080/",
     "height": 35
    },
    "colab_type": "code",
    "id": "vOa_1jPXnKPp",
    "outputId": "85e18bed-b820-4a28-8993-fddc3fc66522"
   },
   "outputs": [
    {
     "data": {
      "text/plain": [
       "array([3171.85977268])"
      ]
     },
     "execution_count": 29,
     "metadata": {},
     "output_type": "execute_result"
    }
   ],
   "source": [
    "import numpy as np\n",
    "\n",
    "dados_novos = [0, 0, 0, 1, np.log1p(2), np.log1p(120)]\n",
    "\n",
    "np.expm1(reg.predict([dados_novos]))"
   ]
  }
 ],
 "metadata": {
  "colab": {
   "collapsed_sections": [],
   "name": "3-ml-best-practices.ipynb",
   "provenance": []
  },
  "kernelspec": {
   "display_name": "Python 3",
   "language": "python",
   "name": "python3"
  },
  "language_info": {
   "codemirror_mode": {
    "name": "ipython",
    "version": 3
   },
   "file_extension": ".py",
   "mimetype": "text/x-python",
   "name": "python",
   "nbconvert_exporter": "python",
   "pygments_lexer": "ipython3",
   "version": "3.8.4"
  }
 },
 "nbformat": 4,
 "nbformat_minor": 1
}
