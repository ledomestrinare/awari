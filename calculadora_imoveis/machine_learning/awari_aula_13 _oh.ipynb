{
  "nbformat": 4,
  "nbformat_minor": 0,
  "metadata": {
    "colab": {
      "name": "awari-aula-13.ipynb",
      "provenance": [],
      "collapsed_sections": [
        "yu2tVxfsr3XZ",
        "F6UM6OqPPwMx",
        "MPEtfNB3QD3R",
        "tBVIImZjQJF-",
        "5gV0CilmQPBf",
        "JFOk68d0QprZ",
        "iTnZ4zfYy3h_",
        "qW1fP59V1f4y"
      ]
    },
    "kernelspec": {
      "name": "python3",
      "display_name": "Python 3"
    }
  },
  "cells": [
    {
      "cell_type": "markdown",
      "metadata": {
        "id": "yu2tVxfsr3XZ",
        "colab_type": "text"
      },
      "source": [
        "# Revisão Classificação vs Regressão\n",
        "\n",
        "- https://in.springboard.com/blog/regression-vs-classification-in-machine-learning/\n"
      ]
    },
    {
      "cell_type": "markdown",
      "metadata": {
        "id": "F6UM6OqPPwMx",
        "colab_type": "text"
      },
      "source": [
        "\n",
        "## Quiz: Classificação ou Regressão?\n",
        "1 - Previsão do tempo de 25°C - regressão\n",
        "\n",
        "2 - Previsão do tempo se vai ser quente, frio,... - classificação\n",
        "\n",
        "3 - Detecção de Spam - classificação\n",
        "\n",
        "4 - Preço de um imóvel - regressão\n",
        "\n",
        "5 - Espécie de uma flor baseado em suas medidas - classificação\n",
        "\n",
        "6 - Diabetes com base no histórico médico - classificação\n",
        "\n",
        "7 - Ano que uma música foi criada baseado em [atributos extraídos da própria música](http://millionsongdataset.com/) - classificação\n",
        "\n",
        "8 - [Fotos de dígitos escritos à mão](https://en.wikipedia.org/wiki/MNIST_database) - classificação"
      ]
    },
    {
      "cell_type": "markdown",
      "metadata": {
        "id": "WebJJGsiP8YX",
        "colab_type": "text"
      },
      "source": [
        "# Intuições dos principais estimadores\n",
        "\n",
        "Visualização dos pesos: https://www.desmos.com/calculator/111bwdmrog\n",
        "\n"
      ]
    },
    {
      "cell_type": "markdown",
      "metadata": {
        "id": "MPEtfNB3QD3R",
        "colab_type": "text"
      },
      "source": [
        "## Regressão Linear\n",
        "![](https://sebastianraschka.com/images/faq/closed-form-vs-gd/simple_regression.png)\n"
      ]
    },
    {
      "cell_type": "markdown",
      "metadata": {
        "id": "tBVIImZjQJF-",
        "colab_type": "text"
      },
      "source": [
        "## Regressão Logística\n",
        "![LogReg_1.png](http://www.saedsayad.com/images/LogReg_1.png)\n",
        "\n",
        "- Visualização dos pesos: https://www.desmos.com/calculator/gcswlgxy83\n"
      ]
    },
    {
      "cell_type": "markdown",
      "metadata": {
        "id": "5gV0CilmQPBf",
        "colab_type": "text"
      },
      "source": [
        "## Redes Neurais\n",
        "![](https://www.researchgate.net/profile/Sandra_Vieira5/publication/312205163/figure/fig1/AS:453658144972800@1485171938968/a-The-building-block-of-deep-neural-networks-artificial-neuron-or-node-Each-input-x.png)"
      ]
    },
    {
      "cell_type": "markdown",
      "metadata": {
        "id": "JFOk68d0QprZ",
        "colab_type": "text"
      },
      "source": [
        "## Support Vector Machine\n",
        "O seguinte gif resume o funcionamento de SVM através do uso de margens e *support vectors*:\n",
        "\n",
        "![svm_solve_by_hand-e1496076457793.gif](https://udacity-reviews-uploads.s3.us-west-2.amazonaws.com/_attachments/38140/1514144432/svm_solve_by_hand-e1496076457793.gif)\n",
        "\n",
        "Kernel trick:\n",
        "\n",
        "![rotate.gif](http://blog.pluskid.org/wp-content/uploads/2010/09/rotate.gif)"
      ]
    },
    {
      "cell_type": "markdown",
      "metadata": {
        "id": "b8CzyfFsQuDD",
        "colab_type": "text"
      },
      "source": [
        "# Aprofundando em Árvores de Decisão e Random Forest\n",
        "\n",
        "Iremos fazer um tour em cima dos principais estimadores de classificação do Sklearn. O principal propósito é te dar um pouco de intuição em cima de como funcionam esses estimadores, seus pontos fortes e fracos. Criar essa intuição é importante, uma vez que em termos práticos, a implementação deles é bastante análoga. Por exemplo, no código a seguir estou treinando uma rede neural, um kNN e uma árvore de decisão para prever câncer de mama:"
      ]
    },
    {
      "cell_type": "code",
      "metadata": {
        "id": "6WBGbsFErOVr",
        "colab_type": "code",
        "colab": {}
      },
      "source": [
        "#from sklearn.tree import DecisionTreeClassifier\n",
        "from sklearn.neighbors import KNeighborsClassifier\n",
        "from sklearn.neural_network import MLPClassifier\n",
        "from sklearn.tree import DecisionTreeClassifier\n",
        "from sklearn.datasets import load_breast_cancer\n",
        "from sklearn.model_selection import train_test_split\n",
        "\n",
        "# Carregar dados\n",
        "data = load_breast_cancer()\n",
        "\n",
        "# Divisão treino/teste\n",
        "X_train, X_test, y_train, y_test = train_test_split(data.data, \n",
        "                                                    data.target, \n",
        "                                                    random_state=42)"
      ],
      "execution_count": null,
      "outputs": []
    },
    {
      "cell_type": "code",
      "metadata": {
        "id": "DrZHvER1s7lz",
        "colab_type": "code",
        "colab": {
          "base_uri": "https://localhost:8080/",
          "height": 72
        },
        "outputId": "98065108-1875-4675-a280-ecac4862b392"
      },
      "source": [
        "# Treinar árvore de decisão\n",
        "clf = DecisionTreeClassifier()\n",
        "clf.fit(X_train, y_train) \n",
        "score = clf.score(X_test, y_test)\n",
        "print(f'Pontuação de teste para {clf.__class__.__name__} é {score*100:.2f}%')\n",
        "\n",
        "# Treinar kNN\n",
        "clf = KNeighborsClassifier()\n",
        "clf.fit(X_train, y_train) \n",
        "score = clf.score(X_test, y_test)\n",
        "print(f'Pontuação de teste para {clf.__class__.__name__} é {score*100:.2f}%')\n",
        "\n",
        "# Treinar Rede Neural\n",
        "clf = MLPClassifier()\n",
        "clf.fit(X_train, y_train) \n",
        "score = clf.score(X_test, y_test)\n",
        "print(f'Pontuação de teste para {clf.__class__.__name__} é {score*100:.2f}%')"
      ],
      "execution_count": null,
      "outputs": [
        {
          "output_type": "stream",
          "text": [
            "Pontuação de teste para DecisionTreeClassifier é 95.10%\n",
            "Pontuação de teste para KNeighborsClassifier é 96.50%\n",
            "Pontuação de teste para MLPClassifier é 96.50%\n"
          ],
          "name": "stdout"
        }
      ]
    },
    {
      "cell_type": "markdown",
      "metadata": {
        "id": "5Njji7hhvMC2",
        "colab_type": "text"
      },
      "source": [
        "Podemos perceber que treinamentos de estimadores sempre seguem o mesmo padrão, primeiro você inicializa ele em `clf = NomeEstimador()`, depois você treina ele em `clf.fit(entrada_treino, saida_treino)` e depois você avalia ele em `clf.score(entrada_teste, saida_teste)`. No entanto, o que estamos fazendo ali é tratando cada estimador como se fosse uma caixa preta, o que não são boas práticas. Em especial cada estimador possui parâmetros de entrada que podem influenciar em seu resultado, tomamos a árvore de decisão como exemplo:"
      ]
    },
    {
      "cell_type": "code",
      "metadata": {
        "id": "OnwWBfPIs7aE",
        "colab_type": "code",
        "colab": {
          "base_uri": "https://localhost:8080/",
          "height": 35
        },
        "outputId": "dbb5eb40-1de0-4248-ee65-23ccdac8cd4a"
      },
      "source": [
        "clf = DecisionTreeClassifier(max_depth=6)\n",
        "clf.fit(X_train, y_train) \n",
        "score = clf.score(X_test, y_test)\n",
        "print(f'Pontuação de teste para {clf.__class__.__name__} é {score*100:.2f}%')"
      ],
      "execution_count": null,
      "outputs": [
        {
          "output_type": "stream",
          "text": [
            "Pontuação de teste para DecisionTreeClassifier é 93.01%\n"
          ],
          "name": "stdout"
        }
      ]
    },
    {
      "cell_type": "code",
      "metadata": {
        "id": "p2WDeXeMts94",
        "colab_type": "code",
        "colab": {
          "base_uri": "https://localhost:8080/",
          "height": 454
        },
        "outputId": "df9a9504-5d42-42f1-9d19-4ae1893081f6"
      },
      "source": [
        "lista_max_depths = [None, 1, 2, 3, 4, 5, 6, 7]\n",
        "\n",
        "for profundidade in lista_max_depths:\n",
        "    clf = DecisionTreeClassifier(max_depth=profundidade)\n",
        "    clf.fit(X_train, y_train) \n",
        "    train_score = clf.score(X_train, y_train)\n",
        "    score = clf.score(X_test, y_test)\n",
        "    print(f'Pontuação de treino para {clf.__class__.__name__} quando treinada com profundidade {profundidade} é {train_score*100:.2f}%')\n",
        "    print(f'Pontuação de teste para {clf.__class__.__name__} quando treinada com profundidade {profundidade} é {score*100:.2f}%')\n",
        "    print('='*80)"
      ],
      "execution_count": null,
      "outputs": [
        {
          "output_type": "stream",
          "text": [
            "Pontuação de treino para DecisionTreeClassifier quando treinada com profundidade None é 100.00%\n",
            "Pontuação de teste para DecisionTreeClassifier quando treinada com profundidade None é 95.10%\n",
            "================================================================================\n",
            "Pontuação de treino para DecisionTreeClassifier quando treinada com profundidade 1 é 92.25%\n",
            "Pontuação de teste para DecisionTreeClassifier quando treinada com profundidade 1 é 89.51%\n",
            "================================================================================\n",
            "Pontuação de treino para DecisionTreeClassifier quando treinada com profundidade 2 é 94.60%\n",
            "Pontuação de teste para DecisionTreeClassifier quando treinada com profundidade 2 é 91.61%\n",
            "================================================================================\n",
            "Pontuação de treino para DecisionTreeClassifier quando treinada com profundidade 3 é 97.18%\n",
            "Pontuação de teste para DecisionTreeClassifier quando treinada com profundidade 3 é 95.10%\n",
            "================================================================================\n",
            "Pontuação de treino para DecisionTreeClassifier quando treinada com profundidade 4 é 99.53%\n",
            "Pontuação de teste para DecisionTreeClassifier quando treinada com profundidade 4 é 95.10%\n",
            "================================================================================\n",
            "Pontuação de treino para DecisionTreeClassifier quando treinada com profundidade 5 é 99.53%\n",
            "Pontuação de teste para DecisionTreeClassifier quando treinada com profundidade 5 é 93.71%\n",
            "================================================================================\n",
            "Pontuação de treino para DecisionTreeClassifier quando treinada com profundidade 6 é 99.77%\n",
            "Pontuação de teste para DecisionTreeClassifier quando treinada com profundidade 6 é 94.41%\n",
            "================================================================================\n",
            "Pontuação de treino para DecisionTreeClassifier quando treinada com profundidade 7 é 100.00%\n",
            "Pontuação de teste para DecisionTreeClassifier quando treinada com profundidade 7 é 93.71%\n",
            "================================================================================\n"
          ],
          "name": "stdout"
        }
      ]
    },
    {
      "cell_type": "code",
      "metadata": {
        "id": "5upXbm3pthlU",
        "colab_type": "code",
        "colab": {
          "base_uri": "https://localhost:8080/",
          "height": 126
        },
        "outputId": "f1777c19-8a97-4ad0-de32-a672dff7d782"
      },
      "source": [
        "clf"
      ],
      "execution_count": null,
      "outputs": [
        {
          "output_type": "execute_result",
          "data": {
            "text/plain": [
              "DecisionTreeClassifier(ccp_alpha=0.0, class_weight=None, criterion='gini',\n",
              "                       max_depth=7, max_features=None, max_leaf_nodes=None,\n",
              "                       min_impurity_decrease=0.0, min_impurity_split=None,\n",
              "                       min_samples_leaf=1, min_samples_split=2,\n",
              "                       min_weight_fraction_leaf=0.0, presort='deprecated',\n",
              "                       random_state=None, splitter='best')"
            ]
          },
          "metadata": {
            "tags": []
          },
          "execution_count": 6
        }
      ]
    },
    {
      "cell_type": "markdown",
      "metadata": {
        "id": "lXVD4fUKxg-C",
        "colab_type": "text"
      },
      "source": [
        "Portanto temos que o ajuste de seus parâmetros de inicialização pode influenciar no desempenho do modelo. Outra coisa que não sabemos quando implementamos os modelos como caixa pretas são seus pontos fortes e fracos. Em especial esse ponto é um dos mais importantes, pois sabendo disso já conseguiremos fazer uma pré-triagem de quais modelos testar. Portanto nosso objetivo aqui é fazer um tour em cima dos principais estimadores do sklearn, como eles são construídos e quais são seus principais parâmetros à serem calibrados."
      ]
    },
    {
      "cell_type": "markdown",
      "metadata": {
        "id": "iTnZ4zfYy3h_",
        "colab_type": "text"
      },
      "source": [
        "### 1. Importanto base de dados e análise exploratória\n",
        "Antes de começar vamos importar e dar uma olhada na base de dados que utilizaremos:"
      ]
    },
    {
      "cell_type": "code",
      "metadata": {
        "id": "R7QFMQ8wxgcX",
        "colab_type": "code",
        "colab": {
          "base_uri": "https://localhost:8080/"
        },
        "outputId": "902497c1-ebfa-4d54-bcad-c9323ecb566f"
      },
      "source": [
        "import pandas as pd\n",
        "import seaborn as sns\n",
        "\n",
        "titanic = sns.load_dataset('titanic')"
      ],
      "execution_count": null,
      "outputs": [
        {
          "output_type": "stream",
          "text": [
            "/usr/local/lib/python3.6/dist-packages/statsmodels/tools/_testing.py:19: FutureWarning: pandas.util.testing is deprecated. Use the functions in the public API at pandas.testing instead.\n",
            "  import pandas.util.testing as tm\n"
          ],
          "name": "stderr"
        }
      ]
    },
    {
      "cell_type": "code",
      "metadata": {
        "id": "h784K7vtvWBL",
        "colab_type": "code",
        "colab": {
          "base_uri": "https://localhost:8080/"
        },
        "outputId": "a8d0124a-129f-4fae-cc5e-03b9a7296a38"
      },
      "source": [
        "titanic.head()"
      ],
      "execution_count": null,
      "outputs": [
        {
          "output_type": "execute_result",
          "data": {
            "text/html": [
              "<div>\n",
              "<style scoped>\n",
              "    .dataframe tbody tr th:only-of-type {\n",
              "        vertical-align: middle;\n",
              "    }\n",
              "\n",
              "    .dataframe tbody tr th {\n",
              "        vertical-align: top;\n",
              "    }\n",
              "\n",
              "    .dataframe thead th {\n",
              "        text-align: right;\n",
              "    }\n",
              "</style>\n",
              "<table border=\"1\" class=\"dataframe\">\n",
              "  <thead>\n",
              "    <tr style=\"text-align: right;\">\n",
              "      <th></th>\n",
              "      <th>survived</th>\n",
              "      <th>pclass</th>\n",
              "      <th>sex</th>\n",
              "      <th>age</th>\n",
              "      <th>sibsp</th>\n",
              "      <th>parch</th>\n",
              "      <th>fare</th>\n",
              "      <th>embarked</th>\n",
              "      <th>class</th>\n",
              "      <th>who</th>\n",
              "      <th>adult_male</th>\n",
              "      <th>deck</th>\n",
              "      <th>embark_town</th>\n",
              "      <th>alive</th>\n",
              "      <th>alone</th>\n",
              "    </tr>\n",
              "  </thead>\n",
              "  <tbody>\n",
              "    <tr>\n",
              "      <th>0</th>\n",
              "      <td>0</td>\n",
              "      <td>3</td>\n",
              "      <td>male</td>\n",
              "      <td>22.0</td>\n",
              "      <td>1</td>\n",
              "      <td>0</td>\n",
              "      <td>7.2500</td>\n",
              "      <td>S</td>\n",
              "      <td>Third</td>\n",
              "      <td>man</td>\n",
              "      <td>True</td>\n",
              "      <td>NaN</td>\n",
              "      <td>Southampton</td>\n",
              "      <td>no</td>\n",
              "      <td>False</td>\n",
              "    </tr>\n",
              "    <tr>\n",
              "      <th>1</th>\n",
              "      <td>1</td>\n",
              "      <td>1</td>\n",
              "      <td>female</td>\n",
              "      <td>38.0</td>\n",
              "      <td>1</td>\n",
              "      <td>0</td>\n",
              "      <td>71.2833</td>\n",
              "      <td>C</td>\n",
              "      <td>First</td>\n",
              "      <td>woman</td>\n",
              "      <td>False</td>\n",
              "      <td>C</td>\n",
              "      <td>Cherbourg</td>\n",
              "      <td>yes</td>\n",
              "      <td>False</td>\n",
              "    </tr>\n",
              "    <tr>\n",
              "      <th>2</th>\n",
              "      <td>1</td>\n",
              "      <td>3</td>\n",
              "      <td>female</td>\n",
              "      <td>26.0</td>\n",
              "      <td>0</td>\n",
              "      <td>0</td>\n",
              "      <td>7.9250</td>\n",
              "      <td>S</td>\n",
              "      <td>Third</td>\n",
              "      <td>woman</td>\n",
              "      <td>False</td>\n",
              "      <td>NaN</td>\n",
              "      <td>Southampton</td>\n",
              "      <td>yes</td>\n",
              "      <td>True</td>\n",
              "    </tr>\n",
              "    <tr>\n",
              "      <th>3</th>\n",
              "      <td>1</td>\n",
              "      <td>1</td>\n",
              "      <td>female</td>\n",
              "      <td>35.0</td>\n",
              "      <td>1</td>\n",
              "      <td>0</td>\n",
              "      <td>53.1000</td>\n",
              "      <td>S</td>\n",
              "      <td>First</td>\n",
              "      <td>woman</td>\n",
              "      <td>False</td>\n",
              "      <td>C</td>\n",
              "      <td>Southampton</td>\n",
              "      <td>yes</td>\n",
              "      <td>False</td>\n",
              "    </tr>\n",
              "    <tr>\n",
              "      <th>4</th>\n",
              "      <td>0</td>\n",
              "      <td>3</td>\n",
              "      <td>male</td>\n",
              "      <td>35.0</td>\n",
              "      <td>0</td>\n",
              "      <td>0</td>\n",
              "      <td>8.0500</td>\n",
              "      <td>S</td>\n",
              "      <td>Third</td>\n",
              "      <td>man</td>\n",
              "      <td>True</td>\n",
              "      <td>NaN</td>\n",
              "      <td>Southampton</td>\n",
              "      <td>no</td>\n",
              "      <td>True</td>\n",
              "    </tr>\n",
              "  </tbody>\n",
              "</table>\n",
              "</div>"
            ],
            "text/plain": [
              "   survived  pclass     sex   age  ...  deck  embark_town  alive  alone\n",
              "0         0       3    male  22.0  ...   NaN  Southampton     no  False\n",
              "1         1       1  female  38.0  ...     C    Cherbourg    yes  False\n",
              "2         1       3  female  26.0  ...   NaN  Southampton    yes   True\n",
              "3         1       1  female  35.0  ...     C  Southampton    yes  False\n",
              "4         0       3    male  35.0  ...   NaN  Southampton     no   True\n",
              "\n",
              "[5 rows x 15 columns]"
            ]
          },
          "metadata": {
            "tags": []
          },
          "execution_count": 8
        }
      ]
    },
    {
      "cell_type": "code",
      "metadata": {
        "id": "8a1JrqcUvWc0",
        "colab_type": "code",
        "colab": {
          "base_uri": "https://localhost:8080/"
        },
        "outputId": "db083a94-2556-4b7c-9170-38d643124aa1"
      },
      "source": [
        "titanic.describe().T"
      ],
      "execution_count": null,
      "outputs": [
        {
          "output_type": "execute_result",
          "data": {
            "text/html": [
              "<div>\n",
              "<style scoped>\n",
              "    .dataframe tbody tr th:only-of-type {\n",
              "        vertical-align: middle;\n",
              "    }\n",
              "\n",
              "    .dataframe tbody tr th {\n",
              "        vertical-align: top;\n",
              "    }\n",
              "\n",
              "    .dataframe thead th {\n",
              "        text-align: right;\n",
              "    }\n",
              "</style>\n",
              "<table border=\"1\" class=\"dataframe\">\n",
              "  <thead>\n",
              "    <tr style=\"text-align: right;\">\n",
              "      <th></th>\n",
              "      <th>count</th>\n",
              "      <th>mean</th>\n",
              "      <th>std</th>\n",
              "      <th>min</th>\n",
              "      <th>25%</th>\n",
              "      <th>50%</th>\n",
              "      <th>75%</th>\n",
              "      <th>max</th>\n",
              "    </tr>\n",
              "  </thead>\n",
              "  <tbody>\n",
              "    <tr>\n",
              "      <th>survived</th>\n",
              "      <td>891.0</td>\n",
              "      <td>0.383838</td>\n",
              "      <td>0.486592</td>\n",
              "      <td>0.00</td>\n",
              "      <td>0.0000</td>\n",
              "      <td>0.0000</td>\n",
              "      <td>1.0</td>\n",
              "      <td>1.0000</td>\n",
              "    </tr>\n",
              "    <tr>\n",
              "      <th>pclass</th>\n",
              "      <td>891.0</td>\n",
              "      <td>2.308642</td>\n",
              "      <td>0.836071</td>\n",
              "      <td>1.00</td>\n",
              "      <td>2.0000</td>\n",
              "      <td>3.0000</td>\n",
              "      <td>3.0</td>\n",
              "      <td>3.0000</td>\n",
              "    </tr>\n",
              "    <tr>\n",
              "      <th>age</th>\n",
              "      <td>714.0</td>\n",
              "      <td>29.699118</td>\n",
              "      <td>14.526497</td>\n",
              "      <td>0.42</td>\n",
              "      <td>20.1250</td>\n",
              "      <td>28.0000</td>\n",
              "      <td>38.0</td>\n",
              "      <td>80.0000</td>\n",
              "    </tr>\n",
              "    <tr>\n",
              "      <th>sibsp</th>\n",
              "      <td>891.0</td>\n",
              "      <td>0.523008</td>\n",
              "      <td>1.102743</td>\n",
              "      <td>0.00</td>\n",
              "      <td>0.0000</td>\n",
              "      <td>0.0000</td>\n",
              "      <td>1.0</td>\n",
              "      <td>8.0000</td>\n",
              "    </tr>\n",
              "    <tr>\n",
              "      <th>parch</th>\n",
              "      <td>891.0</td>\n",
              "      <td>0.381594</td>\n",
              "      <td>0.806057</td>\n",
              "      <td>0.00</td>\n",
              "      <td>0.0000</td>\n",
              "      <td>0.0000</td>\n",
              "      <td>0.0</td>\n",
              "      <td>6.0000</td>\n",
              "    </tr>\n",
              "    <tr>\n",
              "      <th>fare</th>\n",
              "      <td>891.0</td>\n",
              "      <td>32.204208</td>\n",
              "      <td>49.693429</td>\n",
              "      <td>0.00</td>\n",
              "      <td>7.9104</td>\n",
              "      <td>14.4542</td>\n",
              "      <td>31.0</td>\n",
              "      <td>512.3292</td>\n",
              "    </tr>\n",
              "  </tbody>\n",
              "</table>\n",
              "</div>"
            ],
            "text/plain": [
              "          count       mean        std   min      25%      50%   75%       max\n",
              "survived  891.0   0.383838   0.486592  0.00   0.0000   0.0000   1.0    1.0000\n",
              "pclass    891.0   2.308642   0.836071  1.00   2.0000   3.0000   3.0    3.0000\n",
              "age       714.0  29.699118  14.526497  0.42  20.1250  28.0000  38.0   80.0000\n",
              "sibsp     891.0   0.523008   1.102743  0.00   0.0000   0.0000   1.0    8.0000\n",
              "parch     891.0   0.381594   0.806057  0.00   0.0000   0.0000   0.0    6.0000\n",
              "fare      891.0  32.204208  49.693429  0.00   7.9104  14.4542  31.0  512.3292"
            ]
          },
          "metadata": {
            "tags": []
          },
          "execution_count": 9
        }
      ]
    },
    {
      "cell_type": "code",
      "metadata": {
        "id": "kY6tyNRrv4kv",
        "colab_type": "code",
        "colab": {
          "base_uri": "https://localhost:8080/"
        },
        "outputId": "963a22a0-ec28-41dd-e24b-164dcd8f3c13"
      },
      "source": [
        "titanic.info()"
      ],
      "execution_count": null,
      "outputs": [
        {
          "output_type": "stream",
          "text": [
            "<class 'pandas.core.frame.DataFrame'>\n",
            "RangeIndex: 891 entries, 0 to 890\n",
            "Data columns (total 15 columns):\n",
            " #   Column       Non-Null Count  Dtype   \n",
            "---  ------       --------------  -----   \n",
            " 0   survived     891 non-null    int64   \n",
            " 1   pclass       891 non-null    int64   \n",
            " 2   sex          891 non-null    object  \n",
            " 3   age          714 non-null    float64 \n",
            " 4   sibsp        891 non-null    int64   \n",
            " 5   parch        891 non-null    int64   \n",
            " 6   fare         891 non-null    float64 \n",
            " 7   embarked     889 non-null    object  \n",
            " 8   class        891 non-null    category\n",
            " 9   who          891 non-null    object  \n",
            " 10  adult_male   891 non-null    bool    \n",
            " 11  deck         203 non-null    category\n",
            " 12  embark_town  889 non-null    object  \n",
            " 13  alive        891 non-null    object  \n",
            " 14  alone        891 non-null    bool    \n",
            "dtypes: bool(2), category(2), float64(2), int64(4), object(5)\n",
            "memory usage: 80.6+ KB\n"
          ],
          "name": "stdout"
        }
      ]
    },
    {
      "cell_type": "code",
      "metadata": {
        "id": "CvkG5rW4Q3FE",
        "colab_type": "code",
        "colab": {}
      },
      "source": [
        "titanic = titanic.drop('alive', axis=1)"
      ],
      "execution_count": null,
      "outputs": []
    },
    {
      "cell_type": "code",
      "metadata": {
        "id": "6KkO7yoIRGsD",
        "colab_type": "code",
        "colab": {
          "base_uri": "https://localhost:8080/"
        },
        "outputId": "34488fb8-1706-4e15-8c8b-d6a1d97eae5a"
      },
      "source": [
        "titanic.head()"
      ],
      "execution_count": null,
      "outputs": [
        {
          "output_type": "execute_result",
          "data": {
            "text/html": [
              "<div>\n",
              "<style scoped>\n",
              "    .dataframe tbody tr th:only-of-type {\n",
              "        vertical-align: middle;\n",
              "    }\n",
              "\n",
              "    .dataframe tbody tr th {\n",
              "        vertical-align: top;\n",
              "    }\n",
              "\n",
              "    .dataframe thead th {\n",
              "        text-align: right;\n",
              "    }\n",
              "</style>\n",
              "<table border=\"1\" class=\"dataframe\">\n",
              "  <thead>\n",
              "    <tr style=\"text-align: right;\">\n",
              "      <th></th>\n",
              "      <th>survived</th>\n",
              "      <th>pclass</th>\n",
              "      <th>sex</th>\n",
              "      <th>age</th>\n",
              "      <th>sibsp</th>\n",
              "      <th>parch</th>\n",
              "      <th>fare</th>\n",
              "      <th>embarked</th>\n",
              "      <th>class</th>\n",
              "      <th>who</th>\n",
              "      <th>adult_male</th>\n",
              "      <th>deck</th>\n",
              "      <th>embark_town</th>\n",
              "      <th>alone</th>\n",
              "    </tr>\n",
              "  </thead>\n",
              "  <tbody>\n",
              "    <tr>\n",
              "      <th>0</th>\n",
              "      <td>0</td>\n",
              "      <td>3</td>\n",
              "      <td>male</td>\n",
              "      <td>22.0</td>\n",
              "      <td>1</td>\n",
              "      <td>0</td>\n",
              "      <td>7.2500</td>\n",
              "      <td>S</td>\n",
              "      <td>Third</td>\n",
              "      <td>man</td>\n",
              "      <td>True</td>\n",
              "      <td>NaN</td>\n",
              "      <td>Southampton</td>\n",
              "      <td>False</td>\n",
              "    </tr>\n",
              "    <tr>\n",
              "      <th>1</th>\n",
              "      <td>1</td>\n",
              "      <td>1</td>\n",
              "      <td>female</td>\n",
              "      <td>38.0</td>\n",
              "      <td>1</td>\n",
              "      <td>0</td>\n",
              "      <td>71.2833</td>\n",
              "      <td>C</td>\n",
              "      <td>First</td>\n",
              "      <td>woman</td>\n",
              "      <td>False</td>\n",
              "      <td>C</td>\n",
              "      <td>Cherbourg</td>\n",
              "      <td>False</td>\n",
              "    </tr>\n",
              "    <tr>\n",
              "      <th>2</th>\n",
              "      <td>1</td>\n",
              "      <td>3</td>\n",
              "      <td>female</td>\n",
              "      <td>26.0</td>\n",
              "      <td>0</td>\n",
              "      <td>0</td>\n",
              "      <td>7.9250</td>\n",
              "      <td>S</td>\n",
              "      <td>Third</td>\n",
              "      <td>woman</td>\n",
              "      <td>False</td>\n",
              "      <td>NaN</td>\n",
              "      <td>Southampton</td>\n",
              "      <td>True</td>\n",
              "    </tr>\n",
              "    <tr>\n",
              "      <th>3</th>\n",
              "      <td>1</td>\n",
              "      <td>1</td>\n",
              "      <td>female</td>\n",
              "      <td>35.0</td>\n",
              "      <td>1</td>\n",
              "      <td>0</td>\n",
              "      <td>53.1000</td>\n",
              "      <td>S</td>\n",
              "      <td>First</td>\n",
              "      <td>woman</td>\n",
              "      <td>False</td>\n",
              "      <td>C</td>\n",
              "      <td>Southampton</td>\n",
              "      <td>False</td>\n",
              "    </tr>\n",
              "    <tr>\n",
              "      <th>4</th>\n",
              "      <td>0</td>\n",
              "      <td>3</td>\n",
              "      <td>male</td>\n",
              "      <td>35.0</td>\n",
              "      <td>0</td>\n",
              "      <td>0</td>\n",
              "      <td>8.0500</td>\n",
              "      <td>S</td>\n",
              "      <td>Third</td>\n",
              "      <td>man</td>\n",
              "      <td>True</td>\n",
              "      <td>NaN</td>\n",
              "      <td>Southampton</td>\n",
              "      <td>True</td>\n",
              "    </tr>\n",
              "  </tbody>\n",
              "</table>\n",
              "</div>"
            ],
            "text/plain": [
              "   survived  pclass     sex   age  ...  adult_male  deck  embark_town  alone\n",
              "0         0       3    male  22.0  ...        True   NaN  Southampton  False\n",
              "1         1       1  female  38.0  ...       False     C    Cherbourg  False\n",
              "2         1       3  female  26.0  ...       False   NaN  Southampton   True\n",
              "3         1       1  female  35.0  ...       False     C  Southampton  False\n",
              "4         0       3    male  35.0  ...        True   NaN  Southampton   True\n",
              "\n",
              "[5 rows x 14 columns]"
            ]
          },
          "metadata": {
            "tags": []
          },
          "execution_count": 12
        }
      ]
    },
    {
      "cell_type": "code",
      "metadata": {
        "id": "KYixfNjcvV1a",
        "colab_type": "code",
        "colab": {}
      },
      "source": [
        "# Divisão treino/teste\n",
        "X = titanic.drop('survived', axis=1)\n",
        "X = pd.get_dummies(X)\n",
        "\n",
        "y = titanic['survived']"
      ],
      "execution_count": null,
      "outputs": []
    },
    {
      "cell_type": "code",
      "metadata": {
        "id": "1RmwHfQ1wL5D",
        "colab_type": "code",
        "colab": {
          "base_uri": "https://localhost:8080/"
        },
        "outputId": "ad876797-0143-4d65-f6eb-c758620dc3c4"
      },
      "source": [
        "X"
      ],
      "execution_count": null,
      "outputs": [
        {
          "output_type": "execute_result",
          "data": {
            "text/html": [
              "<div>\n",
              "<style scoped>\n",
              "    .dataframe tbody tr th:only-of-type {\n",
              "        vertical-align: middle;\n",
              "    }\n",
              "\n",
              "    .dataframe tbody tr th {\n",
              "        vertical-align: top;\n",
              "    }\n",
              "\n",
              "    .dataframe thead th {\n",
              "        text-align: right;\n",
              "    }\n",
              "</style>\n",
              "<table border=\"1\" class=\"dataframe\">\n",
              "  <thead>\n",
              "    <tr style=\"text-align: right;\">\n",
              "      <th></th>\n",
              "      <th>pclass</th>\n",
              "      <th>age</th>\n",
              "      <th>sibsp</th>\n",
              "      <th>parch</th>\n",
              "      <th>fare</th>\n",
              "      <th>adult_male</th>\n",
              "      <th>alone</th>\n",
              "      <th>sex_female</th>\n",
              "      <th>sex_male</th>\n",
              "      <th>embarked_C</th>\n",
              "      <th>embarked_Q</th>\n",
              "      <th>embarked_S</th>\n",
              "      <th>class_First</th>\n",
              "      <th>class_Second</th>\n",
              "      <th>class_Third</th>\n",
              "      <th>who_child</th>\n",
              "      <th>who_man</th>\n",
              "      <th>who_woman</th>\n",
              "      <th>deck_A</th>\n",
              "      <th>deck_B</th>\n",
              "      <th>deck_C</th>\n",
              "      <th>deck_D</th>\n",
              "      <th>deck_E</th>\n",
              "      <th>deck_F</th>\n",
              "      <th>deck_G</th>\n",
              "      <th>embark_town_Cherbourg</th>\n",
              "      <th>embark_town_Queenstown</th>\n",
              "      <th>embark_town_Southampton</th>\n",
              "    </tr>\n",
              "  </thead>\n",
              "  <tbody>\n",
              "    <tr>\n",
              "      <th>0</th>\n",
              "      <td>3</td>\n",
              "      <td>22.0</td>\n",
              "      <td>1</td>\n",
              "      <td>0</td>\n",
              "      <td>7.2500</td>\n",
              "      <td>True</td>\n",
              "      <td>False</td>\n",
              "      <td>0</td>\n",
              "      <td>1</td>\n",
              "      <td>0</td>\n",
              "      <td>0</td>\n",
              "      <td>1</td>\n",
              "      <td>0</td>\n",
              "      <td>0</td>\n",
              "      <td>1</td>\n",
              "      <td>0</td>\n",
              "      <td>1</td>\n",
              "      <td>0</td>\n",
              "      <td>0</td>\n",
              "      <td>0</td>\n",
              "      <td>0</td>\n",
              "      <td>0</td>\n",
              "      <td>0</td>\n",
              "      <td>0</td>\n",
              "      <td>0</td>\n",
              "      <td>0</td>\n",
              "      <td>0</td>\n",
              "      <td>1</td>\n",
              "    </tr>\n",
              "    <tr>\n",
              "      <th>1</th>\n",
              "      <td>1</td>\n",
              "      <td>38.0</td>\n",
              "      <td>1</td>\n",
              "      <td>0</td>\n",
              "      <td>71.2833</td>\n",
              "      <td>False</td>\n",
              "      <td>False</td>\n",
              "      <td>1</td>\n",
              "      <td>0</td>\n",
              "      <td>1</td>\n",
              "      <td>0</td>\n",
              "      <td>0</td>\n",
              "      <td>1</td>\n",
              "      <td>0</td>\n",
              "      <td>0</td>\n",
              "      <td>0</td>\n",
              "      <td>0</td>\n",
              "      <td>1</td>\n",
              "      <td>0</td>\n",
              "      <td>0</td>\n",
              "      <td>1</td>\n",
              "      <td>0</td>\n",
              "      <td>0</td>\n",
              "      <td>0</td>\n",
              "      <td>0</td>\n",
              "      <td>1</td>\n",
              "      <td>0</td>\n",
              "      <td>0</td>\n",
              "    </tr>\n",
              "    <tr>\n",
              "      <th>2</th>\n",
              "      <td>3</td>\n",
              "      <td>26.0</td>\n",
              "      <td>0</td>\n",
              "      <td>0</td>\n",
              "      <td>7.9250</td>\n",
              "      <td>False</td>\n",
              "      <td>True</td>\n",
              "      <td>1</td>\n",
              "      <td>0</td>\n",
              "      <td>0</td>\n",
              "      <td>0</td>\n",
              "      <td>1</td>\n",
              "      <td>0</td>\n",
              "      <td>0</td>\n",
              "      <td>1</td>\n",
              "      <td>0</td>\n",
              "      <td>0</td>\n",
              "      <td>1</td>\n",
              "      <td>0</td>\n",
              "      <td>0</td>\n",
              "      <td>0</td>\n",
              "      <td>0</td>\n",
              "      <td>0</td>\n",
              "      <td>0</td>\n",
              "      <td>0</td>\n",
              "      <td>0</td>\n",
              "      <td>0</td>\n",
              "      <td>1</td>\n",
              "    </tr>\n",
              "    <tr>\n",
              "      <th>3</th>\n",
              "      <td>1</td>\n",
              "      <td>35.0</td>\n",
              "      <td>1</td>\n",
              "      <td>0</td>\n",
              "      <td>53.1000</td>\n",
              "      <td>False</td>\n",
              "      <td>False</td>\n",
              "      <td>1</td>\n",
              "      <td>0</td>\n",
              "      <td>0</td>\n",
              "      <td>0</td>\n",
              "      <td>1</td>\n",
              "      <td>1</td>\n",
              "      <td>0</td>\n",
              "      <td>0</td>\n",
              "      <td>0</td>\n",
              "      <td>0</td>\n",
              "      <td>1</td>\n",
              "      <td>0</td>\n",
              "      <td>0</td>\n",
              "      <td>1</td>\n",
              "      <td>0</td>\n",
              "      <td>0</td>\n",
              "      <td>0</td>\n",
              "      <td>0</td>\n",
              "      <td>0</td>\n",
              "      <td>0</td>\n",
              "      <td>1</td>\n",
              "    </tr>\n",
              "    <tr>\n",
              "      <th>4</th>\n",
              "      <td>3</td>\n",
              "      <td>35.0</td>\n",
              "      <td>0</td>\n",
              "      <td>0</td>\n",
              "      <td>8.0500</td>\n",
              "      <td>True</td>\n",
              "      <td>True</td>\n",
              "      <td>0</td>\n",
              "      <td>1</td>\n",
              "      <td>0</td>\n",
              "      <td>0</td>\n",
              "      <td>1</td>\n",
              "      <td>0</td>\n",
              "      <td>0</td>\n",
              "      <td>1</td>\n",
              "      <td>0</td>\n",
              "      <td>1</td>\n",
              "      <td>0</td>\n",
              "      <td>0</td>\n",
              "      <td>0</td>\n",
              "      <td>0</td>\n",
              "      <td>0</td>\n",
              "      <td>0</td>\n",
              "      <td>0</td>\n",
              "      <td>0</td>\n",
              "      <td>0</td>\n",
              "      <td>0</td>\n",
              "      <td>1</td>\n",
              "    </tr>\n",
              "    <tr>\n",
              "      <th>...</th>\n",
              "      <td>...</td>\n",
              "      <td>...</td>\n",
              "      <td>...</td>\n",
              "      <td>...</td>\n",
              "      <td>...</td>\n",
              "      <td>...</td>\n",
              "      <td>...</td>\n",
              "      <td>...</td>\n",
              "      <td>...</td>\n",
              "      <td>...</td>\n",
              "      <td>...</td>\n",
              "      <td>...</td>\n",
              "      <td>...</td>\n",
              "      <td>...</td>\n",
              "      <td>...</td>\n",
              "      <td>...</td>\n",
              "      <td>...</td>\n",
              "      <td>...</td>\n",
              "      <td>...</td>\n",
              "      <td>...</td>\n",
              "      <td>...</td>\n",
              "      <td>...</td>\n",
              "      <td>...</td>\n",
              "      <td>...</td>\n",
              "      <td>...</td>\n",
              "      <td>...</td>\n",
              "      <td>...</td>\n",
              "      <td>...</td>\n",
              "    </tr>\n",
              "    <tr>\n",
              "      <th>886</th>\n",
              "      <td>2</td>\n",
              "      <td>27.0</td>\n",
              "      <td>0</td>\n",
              "      <td>0</td>\n",
              "      <td>13.0000</td>\n",
              "      <td>True</td>\n",
              "      <td>True</td>\n",
              "      <td>0</td>\n",
              "      <td>1</td>\n",
              "      <td>0</td>\n",
              "      <td>0</td>\n",
              "      <td>1</td>\n",
              "      <td>0</td>\n",
              "      <td>1</td>\n",
              "      <td>0</td>\n",
              "      <td>0</td>\n",
              "      <td>1</td>\n",
              "      <td>0</td>\n",
              "      <td>0</td>\n",
              "      <td>0</td>\n",
              "      <td>0</td>\n",
              "      <td>0</td>\n",
              "      <td>0</td>\n",
              "      <td>0</td>\n",
              "      <td>0</td>\n",
              "      <td>0</td>\n",
              "      <td>0</td>\n",
              "      <td>1</td>\n",
              "    </tr>\n",
              "    <tr>\n",
              "      <th>887</th>\n",
              "      <td>1</td>\n",
              "      <td>19.0</td>\n",
              "      <td>0</td>\n",
              "      <td>0</td>\n",
              "      <td>30.0000</td>\n",
              "      <td>False</td>\n",
              "      <td>True</td>\n",
              "      <td>1</td>\n",
              "      <td>0</td>\n",
              "      <td>0</td>\n",
              "      <td>0</td>\n",
              "      <td>1</td>\n",
              "      <td>1</td>\n",
              "      <td>0</td>\n",
              "      <td>0</td>\n",
              "      <td>0</td>\n",
              "      <td>0</td>\n",
              "      <td>1</td>\n",
              "      <td>0</td>\n",
              "      <td>1</td>\n",
              "      <td>0</td>\n",
              "      <td>0</td>\n",
              "      <td>0</td>\n",
              "      <td>0</td>\n",
              "      <td>0</td>\n",
              "      <td>0</td>\n",
              "      <td>0</td>\n",
              "      <td>1</td>\n",
              "    </tr>\n",
              "    <tr>\n",
              "      <th>888</th>\n",
              "      <td>3</td>\n",
              "      <td>NaN</td>\n",
              "      <td>1</td>\n",
              "      <td>2</td>\n",
              "      <td>23.4500</td>\n",
              "      <td>False</td>\n",
              "      <td>False</td>\n",
              "      <td>1</td>\n",
              "      <td>0</td>\n",
              "      <td>0</td>\n",
              "      <td>0</td>\n",
              "      <td>1</td>\n",
              "      <td>0</td>\n",
              "      <td>0</td>\n",
              "      <td>1</td>\n",
              "      <td>0</td>\n",
              "      <td>0</td>\n",
              "      <td>1</td>\n",
              "      <td>0</td>\n",
              "      <td>0</td>\n",
              "      <td>0</td>\n",
              "      <td>0</td>\n",
              "      <td>0</td>\n",
              "      <td>0</td>\n",
              "      <td>0</td>\n",
              "      <td>0</td>\n",
              "      <td>0</td>\n",
              "      <td>1</td>\n",
              "    </tr>\n",
              "    <tr>\n",
              "      <th>889</th>\n",
              "      <td>1</td>\n",
              "      <td>26.0</td>\n",
              "      <td>0</td>\n",
              "      <td>0</td>\n",
              "      <td>30.0000</td>\n",
              "      <td>True</td>\n",
              "      <td>True</td>\n",
              "      <td>0</td>\n",
              "      <td>1</td>\n",
              "      <td>1</td>\n",
              "      <td>0</td>\n",
              "      <td>0</td>\n",
              "      <td>1</td>\n",
              "      <td>0</td>\n",
              "      <td>0</td>\n",
              "      <td>0</td>\n",
              "      <td>1</td>\n",
              "      <td>0</td>\n",
              "      <td>0</td>\n",
              "      <td>0</td>\n",
              "      <td>1</td>\n",
              "      <td>0</td>\n",
              "      <td>0</td>\n",
              "      <td>0</td>\n",
              "      <td>0</td>\n",
              "      <td>1</td>\n",
              "      <td>0</td>\n",
              "      <td>0</td>\n",
              "    </tr>\n",
              "    <tr>\n",
              "      <th>890</th>\n",
              "      <td>3</td>\n",
              "      <td>32.0</td>\n",
              "      <td>0</td>\n",
              "      <td>0</td>\n",
              "      <td>7.7500</td>\n",
              "      <td>True</td>\n",
              "      <td>True</td>\n",
              "      <td>0</td>\n",
              "      <td>1</td>\n",
              "      <td>0</td>\n",
              "      <td>1</td>\n",
              "      <td>0</td>\n",
              "      <td>0</td>\n",
              "      <td>0</td>\n",
              "      <td>1</td>\n",
              "      <td>0</td>\n",
              "      <td>1</td>\n",
              "      <td>0</td>\n",
              "      <td>0</td>\n",
              "      <td>0</td>\n",
              "      <td>0</td>\n",
              "      <td>0</td>\n",
              "      <td>0</td>\n",
              "      <td>0</td>\n",
              "      <td>0</td>\n",
              "      <td>0</td>\n",
              "      <td>1</td>\n",
              "      <td>0</td>\n",
              "    </tr>\n",
              "  </tbody>\n",
              "</table>\n",
              "<p>891 rows × 28 columns</p>\n",
              "</div>"
            ],
            "text/plain": [
              "     pclass   age  ...  embark_town_Queenstown  embark_town_Southampton\n",
              "0         3  22.0  ...                       0                        1\n",
              "1         1  38.0  ...                       0                        0\n",
              "2         3  26.0  ...                       0                        1\n",
              "3         1  35.0  ...                       0                        1\n",
              "4         3  35.0  ...                       0                        1\n",
              "..      ...   ...  ...                     ...                      ...\n",
              "886       2  27.0  ...                       0                        1\n",
              "887       1  19.0  ...                       0                        1\n",
              "888       3   NaN  ...                       0                        1\n",
              "889       1  26.0  ...                       0                        0\n",
              "890       3  32.0  ...                       1                        0\n",
              "\n",
              "[891 rows x 28 columns]"
            ]
          },
          "metadata": {
            "tags": []
          },
          "execution_count": 14
        }
      ]
    },
    {
      "cell_type": "code",
      "metadata": {
        "id": "yJjAYLeLwDL2",
        "colab_type": "code",
        "colab": {
          "base_uri": "https://localhost:8080/"
        },
        "outputId": "3ae9b05d-90b5-437f-b618-ab64f373b203"
      },
      "source": [
        "X.info()"
      ],
      "execution_count": null,
      "outputs": [
        {
          "output_type": "stream",
          "text": [
            "<class 'pandas.core.frame.DataFrame'>\n",
            "RangeIndex: 891 entries, 0 to 890\n",
            "Data columns (total 28 columns):\n",
            " #   Column                   Non-Null Count  Dtype  \n",
            "---  ------                   --------------  -----  \n",
            " 0   pclass                   891 non-null    int64  \n",
            " 1   age                      714 non-null    float64\n",
            " 2   sibsp                    891 non-null    int64  \n",
            " 3   parch                    891 non-null    int64  \n",
            " 4   fare                     891 non-null    float64\n",
            " 5   adult_male               891 non-null    bool   \n",
            " 6   alone                    891 non-null    bool   \n",
            " 7   sex_female               891 non-null    uint8  \n",
            " 8   sex_male                 891 non-null    uint8  \n",
            " 9   embarked_C               891 non-null    uint8  \n",
            " 10  embarked_Q               891 non-null    uint8  \n",
            " 11  embarked_S               891 non-null    uint8  \n",
            " 12  class_First              891 non-null    uint8  \n",
            " 13  class_Second             891 non-null    uint8  \n",
            " 14  class_Third              891 non-null    uint8  \n",
            " 15  who_child                891 non-null    uint8  \n",
            " 16  who_man                  891 non-null    uint8  \n",
            " 17  who_woman                891 non-null    uint8  \n",
            " 18  deck_A                   891 non-null    uint8  \n",
            " 19  deck_B                   891 non-null    uint8  \n",
            " 20  deck_C                   891 non-null    uint8  \n",
            " 21  deck_D                   891 non-null    uint8  \n",
            " 22  deck_E                   891 non-null    uint8  \n",
            " 23  deck_F                   891 non-null    uint8  \n",
            " 24  deck_G                   891 non-null    uint8  \n",
            " 25  embark_town_Cherbourg    891 non-null    uint8  \n",
            " 26  embark_town_Queenstown   891 non-null    uint8  \n",
            " 27  embark_town_Southampton  891 non-null    uint8  \n",
            "dtypes: bool(2), float64(2), int64(3), uint8(21)\n",
            "memory usage: 54.9 KB\n"
          ],
          "name": "stdout"
        }
      ]
    },
    {
      "cell_type": "code",
      "metadata": {
        "id": "7sw0rWvzwC_4",
        "colab_type": "code",
        "colab": {}
      },
      "source": [
        "from sklearn.model_selection import train_test_split\n",
        "X_train, X_test, y_train, y_test = train_test_split(X, y,\n",
        "                                                    random_state=42)"
      ],
      "execution_count": null,
      "outputs": []
    },
    {
      "cell_type": "code",
      "metadata": {
        "id": "rI-knNA9wq2F",
        "colab_type": "code",
        "colab": {}
      },
      "source": [
        "X_train = X_train.fillna(X_train.median())\n",
        "X_test = X_test.fillna(X_train.median())"
      ],
      "execution_count": null,
      "outputs": []
    },
    {
      "cell_type": "code",
      "metadata": {
        "id": "rQ6fITV1wqWG",
        "colab_type": "code",
        "colab": {
          "base_uri": "https://localhost:8080/"
        },
        "outputId": "257f6e6f-62ba-4789-f59e-ab79d9fca879"
      },
      "source": [
        "X_train.info()"
      ],
      "execution_count": null,
      "outputs": [
        {
          "output_type": "stream",
          "text": [
            "<class 'pandas.core.frame.DataFrame'>\n",
            "Int64Index: 668 entries, 298 to 102\n",
            "Data columns (total 28 columns):\n",
            " #   Column                   Non-Null Count  Dtype  \n",
            "---  ------                   --------------  -----  \n",
            " 0   pclass                   668 non-null    int64  \n",
            " 1   age                      668 non-null    float64\n",
            " 2   sibsp                    668 non-null    int64  \n",
            " 3   parch                    668 non-null    int64  \n",
            " 4   fare                     668 non-null    float64\n",
            " 5   adult_male               668 non-null    bool   \n",
            " 6   alone                    668 non-null    bool   \n",
            " 7   sex_female               668 non-null    uint8  \n",
            " 8   sex_male                 668 non-null    uint8  \n",
            " 9   embarked_C               668 non-null    uint8  \n",
            " 10  embarked_Q               668 non-null    uint8  \n",
            " 11  embarked_S               668 non-null    uint8  \n",
            " 12  class_First              668 non-null    uint8  \n",
            " 13  class_Second             668 non-null    uint8  \n",
            " 14  class_Third              668 non-null    uint8  \n",
            " 15  who_child                668 non-null    uint8  \n",
            " 16  who_man                  668 non-null    uint8  \n",
            " 17  who_woman                668 non-null    uint8  \n",
            " 18  deck_A                   668 non-null    uint8  \n",
            " 19  deck_B                   668 non-null    uint8  \n",
            " 20  deck_C                   668 non-null    uint8  \n",
            " 21  deck_D                   668 non-null    uint8  \n",
            " 22  deck_E                   668 non-null    uint8  \n",
            " 23  deck_F                   668 non-null    uint8  \n",
            " 24  deck_G                   668 non-null    uint8  \n",
            " 25  embark_town_Cherbourg    668 non-null    uint8  \n",
            " 26  embark_town_Queenstown   668 non-null    uint8  \n",
            " 27  embark_town_Southampton  668 non-null    uint8  \n",
            "dtypes: bool(2), float64(2), int64(3), uint8(21)\n",
            "memory usage: 46.3 KB\n"
          ],
          "name": "stdout"
        }
      ]
    },
    {
      "cell_type": "markdown",
      "metadata": {
        "id": "2FW-LxPezzxk",
        "colab_type": "text"
      },
      "source": [
        "## Algoritmos baseados em árvores\n",
        "\n",
        "### Árvore de Decisão\n",
        "\n",
        "For example, you can use this image to illustrate a decision tree:\n",
        "- http://www.r2d3.us/uma-introducao-visual-ao-aprendizado-de-maquina-1/"
      ]
    },
    {
      "cell_type": "code",
      "metadata": {
        "id": "ickarDnibFJs",
        "colab_type": "code",
        "colab": {
          "base_uri": "https://localhost:8080/",
          "height": 35
        },
        "outputId": "83a3e2d8-92fb-4975-a9cc-f59d478772c6"
      },
      "source": [
        "from sklearn.tree import DecisionTreeClassifier\n",
        "\n",
        "# Treinar árvore de decisão\n",
        "clf = DecisionTreeClassifier()\n",
        "clf.fit(X_train, y_train) \n",
        "\n",
        "score = clf.score(X_test, y_test)\n",
        "print(f'Pontuação de teste para {clf.__class__.__name__} é {score*100:.2f}%')"
      ],
      "execution_count": null,
      "outputs": [
        {
          "output_type": "stream",
          "text": [
            "Pontuação de teste para DecisionTreeClassifier é 74.89%\n"
          ],
          "name": "stdout"
        }
      ]
    },
    {
      "cell_type": "code",
      "metadata": {
        "id": "2eLbUCT1x7zg",
        "colab_type": "code",
        "colab": {}
      },
      "source": [
        "from sklearn.tree import plot_tree"
      ],
      "execution_count": null,
      "outputs": []
    },
    {
      "cell_type": "code",
      "metadata": {
        "id": "G27n451BVON1",
        "colab_type": "code",
        "colab": {
          "base_uri": "https://localhost:8080/",
          "height": 126
        },
        "outputId": "b44ef375-a017-4d7e-f897-d7132d8dc2b8"
      },
      "source": [
        "clf"
      ],
      "execution_count": null,
      "outputs": [
        {
          "output_type": "execute_result",
          "data": {
            "text/plain": [
              "DecisionTreeClassifier(ccp_alpha=0.0, class_weight=None, criterion='gini',\n",
              "                       max_depth=None, max_features=None, max_leaf_nodes=None,\n",
              "                       min_impurity_decrease=0.0, min_impurity_split=None,\n",
              "                       min_samples_leaf=1, min_samples_split=2,\n",
              "                       min_weight_fraction_leaf=0.0, presort='deprecated',\n",
              "                       random_state=None, splitter='best')"
            ]
          },
          "metadata": {
            "tags": []
          },
          "execution_count": 21
        }
      ]
    },
    {
      "cell_type": "code",
      "metadata": {
        "id": "hPBtp6r3x7jg",
        "colab_type": "code",
        "colab": {
          "base_uri": "https://localhost:8080/",
          "height": 570
        },
        "outputId": "b09ebf90-3f15-4aec-e716-8a1869291099"
      },
      "source": [
        "import matplotlib.pyplot as plt\n",
        "\n",
        "plt.figure(figsize=(20,10))\n",
        "annotations = plot_tree(clf, feature_names=X_train.columns, filled=True)"
      ],
      "execution_count": null,
      "outputs": [
        {
          "output_type": "display_data",
          "data": {
            "image/png": "[encoded data removed]",
            "text/plain": [
              "<Figure size 1440x720 with 1 Axes>"
            ]
          },
          "metadata": {
            "tags": [],
            "needs_background": "light"
          }
        }
      ]
    },
    {
      "cell_type": "code",
      "metadata": {
        "id": "YUMql28uyD2o",
        "colab_type": "code",
        "colab": {
          "base_uri": "https://localhost:8080/",
          "height": 35
        },
        "outputId": "da42b492-f1a7-4fbe-ef55-a05ca4199e8e"
      },
      "source": [
        "from sklearn.tree import DecisionTreeClassifier\n",
        "\n",
        "# Treinar árvore de decisão\n",
        "clf = DecisionTreeClassifier(max_depth=3)\n",
        "clf.fit(X_train, y_train) \n",
        "\n",
        "score = clf.score(X_test, y_test)\n",
        "print(f'Pontuação de teste para {clf.__class__.__name__} é {score*100:.2f}%')"
      ],
      "execution_count": null,
      "outputs": [
        {
          "output_type": "stream",
          "text": [
            "Pontuação de teste para DecisionTreeClassifier é 81.17%\n"
          ],
          "name": "stdout"
        }
      ]
    },
    {
      "cell_type": "code",
      "metadata": {
        "id": "AeFCarD4x7Uj",
        "colab_type": "code",
        "colab": {
          "base_uri": "https://localhost:8080/",
          "height": 327
        },
        "outputId": "8133bee0-7b50-4d3d-e3c2-154df147f875"
      },
      "source": [
        "import matplotlib.pyplot as plt\n",
        "plt.figure(figsize=(20,10))\n",
        "\n",
        "annotations = plot_tree(clf, feature_names=X_train.columns,\n",
        "                        filled=True)"
      ],
      "execution_count": null,
      "outputs": [
        {
          "output_type": "display_data",
          "data": {
            "image/png": "[encoded data removed]",
            "text/plain": [
              "<Figure size 1440x720 with 1 Axes>"
            ]
          },
          "metadata": {
            "tags": [],
            "needs_background": "light"
          }
        }
      ]
    },
    {
      "cell_type": "code",
      "metadata": {
        "id": "9OIssmbQXgVC",
        "colab_type": "code",
        "colab": {
          "base_uri": "https://localhost:8080/",
          "height": 218
        },
        "outputId": "400891d1-b8d6-4468-b266-1bdb5d6deacb"
      },
      "source": [
        "X_train.head()"
      ],
      "execution_count": null,
      "outputs": [
        {
          "output_type": "execute_result",
          "data": {
            "text/html": [
              "<div>\n",
              "<style scoped>\n",
              "    .dataframe tbody tr th:only-of-type {\n",
              "        vertical-align: middle;\n",
              "    }\n",
              "\n",
              "    .dataframe tbody tr th {\n",
              "        vertical-align: top;\n",
              "    }\n",
              "\n",
              "    .dataframe thead th {\n",
              "        text-align: right;\n",
              "    }\n",
              "</style>\n",
              "<table border=\"1\" class=\"dataframe\">\n",
              "  <thead>\n",
              "    <tr style=\"text-align: right;\">\n",
              "      <th></th>\n",
              "      <th>pclass</th>\n",
              "      <th>age</th>\n",
              "      <th>sibsp</th>\n",
              "      <th>parch</th>\n",
              "      <th>fare</th>\n",
              "      <th>adult_male</th>\n",
              "      <th>alone</th>\n",
              "      <th>sex_female</th>\n",
              "      <th>sex_male</th>\n",
              "      <th>embarked_C</th>\n",
              "      <th>embarked_Q</th>\n",
              "      <th>embarked_S</th>\n",
              "      <th>class_First</th>\n",
              "      <th>class_Second</th>\n",
              "      <th>class_Third</th>\n",
              "      <th>who_child</th>\n",
              "      <th>who_man</th>\n",
              "      <th>who_woman</th>\n",
              "      <th>deck_A</th>\n",
              "      <th>deck_B</th>\n",
              "      <th>deck_C</th>\n",
              "      <th>deck_D</th>\n",
              "      <th>deck_E</th>\n",
              "      <th>deck_F</th>\n",
              "      <th>deck_G</th>\n",
              "      <th>embark_town_Cherbourg</th>\n",
              "      <th>embark_town_Queenstown</th>\n",
              "      <th>embark_town_Southampton</th>\n",
              "    </tr>\n",
              "  </thead>\n",
              "  <tbody>\n",
              "    <tr>\n",
              "      <th>298</th>\n",
              "      <td>1</td>\n",
              "      <td>28.00</td>\n",
              "      <td>0</td>\n",
              "      <td>0</td>\n",
              "      <td>30.5000</td>\n",
              "      <td>True</td>\n",
              "      <td>True</td>\n",
              "      <td>0</td>\n",
              "      <td>1</td>\n",
              "      <td>0</td>\n",
              "      <td>0</td>\n",
              "      <td>1</td>\n",
              "      <td>1</td>\n",
              "      <td>0</td>\n",
              "      <td>0</td>\n",
              "      <td>0</td>\n",
              "      <td>1</td>\n",
              "      <td>0</td>\n",
              "      <td>0</td>\n",
              "      <td>0</td>\n",
              "      <td>1</td>\n",
              "      <td>0</td>\n",
              "      <td>0</td>\n",
              "      <td>0</td>\n",
              "      <td>0</td>\n",
              "      <td>0</td>\n",
              "      <td>0</td>\n",
              "      <td>1</td>\n",
              "    </tr>\n",
              "    <tr>\n",
              "      <th>884</th>\n",
              "      <td>3</td>\n",
              "      <td>25.00</td>\n",
              "      <td>0</td>\n",
              "      <td>0</td>\n",
              "      <td>7.0500</td>\n",
              "      <td>True</td>\n",
              "      <td>True</td>\n",
              "      <td>0</td>\n",
              "      <td>1</td>\n",
              "      <td>0</td>\n",
              "      <td>0</td>\n",
              "      <td>1</td>\n",
              "      <td>0</td>\n",
              "      <td>0</td>\n",
              "      <td>1</td>\n",
              "      <td>0</td>\n",
              "      <td>1</td>\n",
              "      <td>0</td>\n",
              "      <td>0</td>\n",
              "      <td>0</td>\n",
              "      <td>0</td>\n",
              "      <td>0</td>\n",
              "      <td>0</td>\n",
              "      <td>0</td>\n",
              "      <td>0</td>\n",
              "      <td>0</td>\n",
              "      <td>0</td>\n",
              "      <td>1</td>\n",
              "    </tr>\n",
              "    <tr>\n",
              "      <th>247</th>\n",
              "      <td>2</td>\n",
              "      <td>24.00</td>\n",
              "      <td>0</td>\n",
              "      <td>2</td>\n",
              "      <td>14.5000</td>\n",
              "      <td>False</td>\n",
              "      <td>False</td>\n",
              "      <td>1</td>\n",
              "      <td>0</td>\n",
              "      <td>0</td>\n",
              "      <td>0</td>\n",
              "      <td>1</td>\n",
              "      <td>0</td>\n",
              "      <td>1</td>\n",
              "      <td>0</td>\n",
              "      <td>0</td>\n",
              "      <td>0</td>\n",
              "      <td>1</td>\n",
              "      <td>0</td>\n",
              "      <td>0</td>\n",
              "      <td>0</td>\n",
              "      <td>0</td>\n",
              "      <td>0</td>\n",
              "      <td>0</td>\n",
              "      <td>0</td>\n",
              "      <td>0</td>\n",
              "      <td>0</td>\n",
              "      <td>1</td>\n",
              "    </tr>\n",
              "    <tr>\n",
              "      <th>478</th>\n",
              "      <td>3</td>\n",
              "      <td>22.00</td>\n",
              "      <td>0</td>\n",
              "      <td>0</td>\n",
              "      <td>7.5208</td>\n",
              "      <td>True</td>\n",
              "      <td>True</td>\n",
              "      <td>0</td>\n",
              "      <td>1</td>\n",
              "      <td>0</td>\n",
              "      <td>0</td>\n",
              "      <td>1</td>\n",
              "      <td>0</td>\n",
              "      <td>0</td>\n",
              "      <td>1</td>\n",
              "      <td>0</td>\n",
              "      <td>1</td>\n",
              "      <td>0</td>\n",
              "      <td>0</td>\n",
              "      <td>0</td>\n",
              "      <td>0</td>\n",
              "      <td>0</td>\n",
              "      <td>0</td>\n",
              "      <td>0</td>\n",
              "      <td>0</td>\n",
              "      <td>0</td>\n",
              "      <td>0</td>\n",
              "      <td>1</td>\n",
              "    </tr>\n",
              "    <tr>\n",
              "      <th>305</th>\n",
              "      <td>1</td>\n",
              "      <td>0.92</td>\n",
              "      <td>1</td>\n",
              "      <td>2</td>\n",
              "      <td>151.5500</td>\n",
              "      <td>False</td>\n",
              "      <td>False</td>\n",
              "      <td>0</td>\n",
              "      <td>1</td>\n",
              "      <td>0</td>\n",
              "      <td>0</td>\n",
              "      <td>1</td>\n",
              "      <td>1</td>\n",
              "      <td>0</td>\n",
              "      <td>0</td>\n",
              "      <td>1</td>\n",
              "      <td>0</td>\n",
              "      <td>0</td>\n",
              "      <td>0</td>\n",
              "      <td>0</td>\n",
              "      <td>1</td>\n",
              "      <td>0</td>\n",
              "      <td>0</td>\n",
              "      <td>0</td>\n",
              "      <td>0</td>\n",
              "      <td>0</td>\n",
              "      <td>0</td>\n",
              "      <td>1</td>\n",
              "    </tr>\n",
              "  </tbody>\n",
              "</table>\n",
              "</div>"
            ],
            "text/plain": [
              "     pclass    age  ...  embark_town_Queenstown  embark_town_Southampton\n",
              "298       1  28.00  ...                       0                        1\n",
              "884       3  25.00  ...                       0                        1\n",
              "247       2  24.00  ...                       0                        1\n",
              "478       3  22.00  ...                       0                        1\n",
              "305       1   0.92  ...                       0                        1\n",
              "\n",
              "[5 rows x 28 columns]"
            ]
          },
          "metadata": {
            "tags": []
          },
          "execution_count": 25
        }
      ]
    },
    {
      "cell_type": "code",
      "metadata": {
        "id": "Z4ZFMdyGx6fh",
        "colab_type": "code",
        "colab": {
          "base_uri": "https://localhost:8080/",
          "height": 126
        },
        "outputId": "4c1dbb19-2b80-46c9-8502-6851cb5853ac"
      },
      "source": [
        "clf.feature_importances_"
      ],
      "execution_count": null,
      "outputs": [
        {
          "output_type": "execute_result",
          "data": {
            "text/plain": [
              "array([0.21142086, 0.        , 0.        , 0.        , 0.13583183,\n",
              "       0.        , 0.        , 0.        , 0.        , 0.        ,\n",
              "       0.        , 0.        , 0.        , 0.01642989, 0.        ,\n",
              "       0.        , 0.62264255, 0.        , 0.        , 0.        ,\n",
              "       0.00352726, 0.01014761, 0.        , 0.        , 0.        ,\n",
              "       0.        , 0.        , 0.        ])"
            ]
          },
          "metadata": {
            "tags": []
          },
          "execution_count": 26
        }
      ]
    },
    {
      "cell_type": "code",
      "metadata": {
        "id": "EJZvhsRWXwZa",
        "colab_type": "code",
        "colab": {
          "base_uri": "https://localhost:8080/",
          "height": 126
        },
        "outputId": "0bf6dd6c-9414-4926-bfb3-9e01a07b9514"
      },
      "source": [
        "X_train.columns.values"
      ],
      "execution_count": null,
      "outputs": [
        {
          "output_type": "execute_result",
          "data": {
            "text/plain": [
              "array(['pclass', 'age', 'sibsp', 'parch', 'fare', 'adult_male', 'alone',\n",
              "       'sex_female', 'sex_male', 'embarked_C', 'embarked_Q', 'embarked_S',\n",
              "       'class_First', 'class_Second', 'class_Third', 'who_child',\n",
              "       'who_man', 'who_woman', 'deck_A', 'deck_B', 'deck_C', 'deck_D',\n",
              "       'deck_E', 'deck_F', 'deck_G', 'embark_town_Cherbourg',\n",
              "       'embark_town_Queenstown', 'embark_town_Southampton'], dtype=object)"
            ]
          },
          "metadata": {
            "tags": []
          },
          "execution_count": 27
        }
      ]
    },
    {
      "cell_type": "code",
      "metadata": {
        "id": "urrmruUQ0Mf9",
        "colab_type": "code",
        "colab": {
          "base_uri": "https://localhost:8080/",
          "height": 1000
        },
        "outputId": "0e26084b-c184-4828-c431-d0fddc119f4c"
      },
      "source": [
        "for i in zip(X_train.columns.values, clf.feature_importances_):\n",
        "  print(i)\n",
        "  print('----')"
      ],
      "execution_count": null,
      "outputs": [
        {
          "output_type": "stream",
          "text": [
            "('pclass', 0.21142086338969723)\n",
            "----\n",
            "('age', 0.0)\n",
            "----\n",
            "('sibsp', 0.0)\n",
            "----\n",
            "('parch', 0.0)\n",
            "----\n",
            "('fare', 0.13583182963064072)\n",
            "----\n",
            "('adult_male', 0.0)\n",
            "----\n",
            "('alone', 0.0)\n",
            "----\n",
            "('sex_female', 0.0)\n",
            "----\n",
            "('sex_male', 0.0)\n",
            "----\n",
            "('embarked_C', 0.0)\n",
            "----\n",
            "('embarked_Q', 0.0)\n",
            "----\n",
            "('embarked_S', 0.0)\n",
            "----\n",
            "('class_First', 0.0)\n",
            "----\n",
            "('class_Second', 0.016429886080910512)\n",
            "----\n",
            "('class_Third', 0.0)\n",
            "----\n",
            "('who_child', 0.0)\n",
            "----\n",
            "('who_man', 0.6226425511084173)\n",
            "----\n",
            "('who_woman', 0.0)\n",
            "----\n",
            "('deck_A', 0.0)\n",
            "----\n",
            "('deck_B', 0.0)\n",
            "----\n",
            "('deck_C', 0.0035272589108698562)\n",
            "----\n",
            "('deck_D', 0.010147610879464378)\n",
            "----\n",
            "('deck_E', 0.0)\n",
            "----\n",
            "('deck_F', 0.0)\n",
            "----\n",
            "('deck_G', 0.0)\n",
            "----\n",
            "('embark_town_Cherbourg', 0.0)\n",
            "----\n",
            "('embark_town_Queenstown', 0.0)\n",
            "----\n",
            "('embark_town_Southampton', 0.0)\n",
            "----\n"
          ],
          "name": "stdout"
        }
      ]
    },
    {
      "cell_type": "markdown",
      "metadata": {
        "id": "dozjybS31d5-",
        "colab_type": "text"
      },
      "source": [
        "## Entendendo Random Forest\n",
        "\n",
        "\n",
        "![1_i0o8mjFfCn-uD79-F1Cqkw.png](https://udacity-reviews-uploads.s3.us-west-2.amazonaws.com/_attachments/38140/1532554113/1_i0o8mjFfCn-uD79-F1Cqkw.png)\n"
      ]
    },
    {
      "cell_type": "code",
      "metadata": {
        "id": "w5UwbyRCbNKc",
        "colab_type": "code",
        "colab": {
          "base_uri": "https://localhost:8080/",
          "height": 35
        },
        "outputId": "bd853ed7-bee9-45f4-ab6a-9e027a60ff08"
      },
      "source": [
        "from sklearn.ensemble import RandomForestClassifier\n",
        "\n",
        "clf = RandomForestClassifier(n_estimators=3, max_depth=2) # hiperparâmetros\n",
        "clf.fit(X_train, y_train) \n",
        "score = clf.score(X_test, y_test)\n",
        "print(f'Pontuação de teste para {clf.__class__.__name__} é {score*100:.2f}%')"
      ],
      "execution_count": null,
      "outputs": [
        {
          "output_type": "stream",
          "text": [
            "Pontuação de teste para RandomForestClassifier é 79.37%\n"
          ],
          "name": "stdout"
        }
      ]
    },
    {
      "cell_type": "code",
      "metadata": {
        "id": "Uqxdhtf2OeFK",
        "colab_type": "code",
        "colab": {
          "base_uri": "https://localhost:8080/",
          "height": 345
        },
        "outputId": "133c6676-27a3-4199-d12f-ab63d10401b5"
      },
      "source": [
        "clf.estimators_"
      ],
      "execution_count": null,
      "outputs": [
        {
          "output_type": "execute_result",
          "data": {
            "text/plain": [
              "[DecisionTreeClassifier(ccp_alpha=0.0, class_weight=None, criterion='gini',\n",
              "                        max_depth=2, max_features='auto', max_leaf_nodes=None,\n",
              "                        min_impurity_decrease=0.0, min_impurity_split=None,\n",
              "                        min_samples_leaf=1, min_samples_split=2,\n",
              "                        min_weight_fraction_leaf=0.0, presort='deprecated',\n",
              "                        random_state=817981351, splitter='best'),\n",
              " DecisionTreeClassifier(ccp_alpha=0.0, class_weight=None, criterion='gini',\n",
              "                        max_depth=2, max_features='auto', max_leaf_nodes=None,\n",
              "                        min_impurity_decrease=0.0, min_impurity_split=None,\n",
              "                        min_samples_leaf=1, min_samples_split=2,\n",
              "                        min_weight_fraction_leaf=0.0, presort='deprecated',\n",
              "                        random_state=660749623, splitter='best'),\n",
              " DecisionTreeClassifier(ccp_alpha=0.0, class_weight=None, criterion='gini',\n",
              "                        max_depth=2, max_features='auto', max_leaf_nodes=None,\n",
              "                        min_impurity_decrease=0.0, min_impurity_split=None,\n",
              "                        min_samples_leaf=1, min_samples_split=2,\n",
              "                        min_weight_fraction_leaf=0.0, presort='deprecated',\n",
              "                        random_state=1649818964, splitter='best')]"
            ]
          },
          "metadata": {
            "tags": []
          },
          "execution_count": 39
        }
      ]
    },
    {
      "cell_type": "code",
      "metadata": {
        "id": "ZhAasElWOrgd",
        "colab_type": "code",
        "colab": {
          "base_uri": "https://localhost:8080/",
          "height": 345
        },
        "outputId": "8cf9aa51-8a84-4b89-aa5f-c21e00105b49"
      },
      "source": [
        "for indice, arvore in enumerate(clf.estimators_):\n",
        "  print(indice, arvore)"
      ],
      "execution_count": null,
      "outputs": [
        {
          "output_type": "stream",
          "text": [
            "0 DecisionTreeClassifier(ccp_alpha=0.0, class_weight=None, criterion='gini',\n",
            "                       max_depth=2, max_features='auto', max_leaf_nodes=None,\n",
            "                       min_impurity_decrease=0.0, min_impurity_split=None,\n",
            "                       min_samples_leaf=1, min_samples_split=2,\n",
            "                       min_weight_fraction_leaf=0.0, presort='deprecated',\n",
            "                       random_state=817981351, splitter='best')\n",
            "1 DecisionTreeClassifier(ccp_alpha=0.0, class_weight=None, criterion='gini',\n",
            "                       max_depth=2, max_features='auto', max_leaf_nodes=None,\n",
            "                       min_impurity_decrease=0.0, min_impurity_split=None,\n",
            "                       min_samples_leaf=1, min_samples_split=2,\n",
            "                       min_weight_fraction_leaf=0.0, presort='deprecated',\n",
            "                       random_state=660749623, splitter='best')\n",
            "2 DecisionTreeClassifier(ccp_alpha=0.0, class_weight=None, criterion='gini',\n",
            "                       max_depth=2, max_features='auto', max_leaf_nodes=None,\n",
            "                       min_impurity_decrease=0.0, min_impurity_split=None,\n",
            "                       min_samples_leaf=1, min_samples_split=2,\n",
            "                       min_weight_fraction_leaf=0.0, presort='deprecated',\n",
            "                       random_state=1649818964, splitter='best')\n"
          ],
          "name": "stdout"
        }
      ]
    },
    {
      "cell_type": "code",
      "metadata": {
        "id": "rXNv7jOp2xbc",
        "colab_type": "code",
        "colab": {
          "base_uri": "https://localhost:8080/",
          "height": 246
        },
        "outputId": "1098ae0d-4dc7-496f-9925-de84559df191"
      },
      "source": [
        "plt.figure(figsize=(20, 4))\n",
        "\n",
        "for indice, arvore in enumerate(clf.estimators_):\n",
        "    plt.subplot(1, 3, indice+1)    \n",
        "    _ = plot_tree(arvore, feature_names=X_train.columns, impurity=False, filled=True)\n",
        "    "
      ],
      "execution_count": null,
      "outputs": [
        {
          "output_type": "display_data",
          "data": {
            "image/png": "[encoded data removed]",
            "text/plain": [
              "<Figure size 1440x288 with 3 Axes>"
            ]
          },
          "metadata": {
            "tags": [],
            "needs_background": "light"
          }
        }
      ]
    },
    {
      "cell_type": "code",
      "metadata": {
        "id": "kGjjOFhWQVXl",
        "colab_type": "code",
        "colab": {}
      },
      "source": [
        "#plot_tree?"
      ],
      "execution_count": null,
      "outputs": []
    },
    {
      "cell_type": "code",
      "metadata": {
        "id": "SVWWFE9Y3Zgz",
        "colab_type": "code",
        "colab": {}
      },
      "source": [
        "#RandomForestClassifier?"
      ],
      "execution_count": null,
      "outputs": []
    },
    {
      "cell_type": "code",
      "metadata": {
        "id": "6nw3y-1f2ryX",
        "colab_type": "code",
        "colab": {}
      },
      "source": [
        "# constantes são declaradas com uppercase e geralmente ficam no início do código\n",
        "N_ESTIMATORS=5\n",
        "MAX_DEPTH=2\n",
        "N_FEATURES = len(X_train.columns)\n",
        "MAX_FEATURES = int(N_FEATURES**0.5) #sqrt(n_features)"
      ],
      "execution_count": null,
      "outputs": []
    },
    {
      "cell_type": "code",
      "metadata": {
        "id": "eT10eBfr3P1y",
        "colab_type": "code",
        "colab": {}
      },
      "source": [
        "estimators_ = []\n",
        "features_ = []\n",
        "\n",
        "for i in range(N_ESTIMATORS):\n",
        "    X_sampled = X_train.sample(MAX_FEATURES, axis=1)\n",
        "    X_sampled = X_sampled.sample(len(X_sampled), replace=True)\n",
        "    y_sampled = y_train[X_sampled.index]\n",
        "\n",
        "    clf = DecisionTreeClassifier(max_depth=MAX_DEPTH)\n",
        "    clf.fit(X_sampled, y_sampled) \n",
        "    \n",
        "    estimators_.append(clf)\n",
        "    features_.append(X_sampled.columns)"
      ],
      "execution_count": null,
      "outputs": []
    },
    {
      "cell_type": "code",
      "metadata": {
        "id": "FJR8azWX39fo",
        "colab_type": "code",
        "colab": {
          "base_uri": "https://localhost:8080/",
          "height": 246
        },
        "outputId": "f96e77b2-dbee-4831-a66d-45d2b81255ca"
      },
      "source": [
        "plt.figure(figsize=(20, 4))\n",
        "\n",
        "for i, c in enumerate(estimators_):\n",
        "    plt.subplot(1, 5, i+1)    \n",
        "    annotations = plot_tree(c, feature_names=features_[i],\n",
        "                            impurity=False,\n",
        "                            filled=True)"
      ],
      "execution_count": null,
      "outputs": [
        {
          "output_type": "display_data",
          "data": {
            "image/png": "[encoded data removed]",
            "text/plain": [
              "<Figure size 1440x288 with 5 Axes>"
            ]
          },
          "metadata": {
            "tags": [],
            "needs_background": "light"
          }
        }
      ]
    },
    {
      "cell_type": "markdown",
      "metadata": {
        "id": "GyDV0yRHbcju",
        "colab_type": "text"
      },
      "source": [
        "## Usando GridSearchCV"
      ]
    },
    {
      "cell_type": "code",
      "metadata": {
        "id": "yXf7VNx4TdGF",
        "colab_type": "code",
        "colab": {
          "base_uri": "https://localhost:8080/",
          "height": 163
        },
        "outputId": "fb2bece2-f2a0-4b3a-9b3f-dad1245321ef"
      },
      "source": [
        "rf"
      ],
      "execution_count": null,
      "outputs": [
        {
          "output_type": "execute_result",
          "data": {
            "text/plain": [
              "RandomForestClassifier(bootstrap=True, ccp_alpha=0.0, class_weight=None,\n",
              "                       criterion='gini', max_depth=2, max_features='auto',\n",
              "                       max_leaf_nodes=None, max_samples=None,\n",
              "                       min_impurity_decrease=0.0, min_impurity_split=None,\n",
              "                       min_samples_leaf=1, min_samples_split=2,\n",
              "                       min_weight_fraction_leaf=0.0, n_estimators=3,\n",
              "                       n_jobs=None, oob_score=False, random_state=None,\n",
              "                       verbose=0, warm_start=False)"
            ]
          },
          "metadata": {
            "tags": []
          },
          "execution_count": 56
        }
      ]
    },
    {
      "cell_type": "code",
      "metadata": {
        "id": "xG0u1vvv3PoX",
        "colab_type": "code",
        "colab": {
          "base_uri": "https://localhost:8080/",
          "height": 381
        },
        "outputId": "6c7f346e-5c1c-4719-8e33-47a2319ad611"
      },
      "source": [
        "# busca de hiperparâmetros com o Grid Search - CV - cross validation\n",
        "from sklearn.model_selection import GridSearchCV\n",
        "\n",
        "parameters = {'n_estimators':[1, 3, 6], 'max_depth':[3, 5, 10]}\n",
        "\n",
        "rf = RandomForestClassifier()\n",
        "\n",
        "clf = GridSearchCV(rf, parameters)\n",
        "\n",
        "clf.fit(X_train, y_train)"
      ],
      "execution_count": null,
      "outputs": [
        {
          "output_type": "execute_result",
          "data": {
            "text/plain": [
              "GridSearchCV(cv=None, error_score=nan,\n",
              "             estimator=RandomForestClassifier(bootstrap=True, ccp_alpha=0.0,\n",
              "                                              class_weight=None,\n",
              "                                              criterion='gini', max_depth=None,\n",
              "                                              max_features='auto',\n",
              "                                              max_leaf_nodes=None,\n",
              "                                              max_samples=None,\n",
              "                                              min_impurity_decrease=0.0,\n",
              "                                              min_impurity_split=None,\n",
              "                                              min_samples_leaf=1,\n",
              "                                              min_samples_split=2,\n",
              "                                              min_weight_fraction_leaf=0.0,\n",
              "                                              n_estimators=100, n_jobs=None,\n",
              "                                              oob_score=False,\n",
              "                                              random_state=None, verbose=0,\n",
              "                                              warm_start=False),\n",
              "             iid='deprecated', n_jobs=None,\n",
              "             param_grid={'max_depth': [3, 5, 10], 'n_estimators': [1, 3, 6]},\n",
              "             pre_dispatch='2*n_jobs', refit=True, return_train_score=False,\n",
              "             scoring=None, verbose=0)"
            ]
          },
          "metadata": {
            "tags": []
          },
          "execution_count": 57
        }
      ]
    },
    {
      "cell_type": "code",
      "metadata": {
        "id": "dG3pgkTkaeDi",
        "colab_type": "code",
        "colab": {
          "base_uri": "https://localhost:8080/",
          "height": 35
        },
        "outputId": "2f378e60-72d7-40bd-88e8-dbb5c07d032f"
      },
      "source": [
        "clf.best_params_"
      ],
      "execution_count": null,
      "outputs": [
        {
          "output_type": "execute_result",
          "data": {
            "text/plain": [
              "{'max_depth': 10, 'n_estimators': 6}"
            ]
          },
          "metadata": {
            "tags": []
          },
          "execution_count": 59
        }
      ]
    },
    {
      "cell_type": "code",
      "metadata": {
        "id": "7622SjgD5BES",
        "colab_type": "code",
        "colab": {
          "base_uri": "https://localhost:8080/",
          "height": 163
        },
        "outputId": "32e4cead-1df7-4b44-f618-eba05e6271b8"
      },
      "source": [
        "clf.best_estimator_"
      ],
      "execution_count": null,
      "outputs": [
        {
          "output_type": "execute_result",
          "data": {
            "text/plain": [
              "RandomForestClassifier(bootstrap=True, ccp_alpha=0.0, class_weight=None,\n",
              "                       criterion='gini', max_depth=10, max_features='auto',\n",
              "                       max_leaf_nodes=None, max_samples=None,\n",
              "                       min_impurity_decrease=0.0, min_impurity_split=None,\n",
              "                       min_samples_leaf=1, min_samples_split=2,\n",
              "                       min_weight_fraction_leaf=0.0, n_estimators=6,\n",
              "                       n_jobs=None, oob_score=False, random_state=None,\n",
              "                       verbose=0, warm_start=False)"
            ]
          },
          "metadata": {
            "tags": []
          },
          "execution_count": 58
        }
      ]
    },
    {
      "cell_type": "code",
      "metadata": {
        "id": "NxQtSqNSa2S_",
        "colab_type": "code",
        "colab": {
          "base_uri": "https://localhost:8080/",
          "height": 435
        },
        "outputId": "51c98967-cba1-4aed-95ea-7967a84ca416"
      },
      "source": [
        "# usando verbose para ver o que está acontecendo em cada fold por debaixo dos panos\n",
        "clf = GridSearchCV(rf, parameters, verbose=1)\n",
        "clf.fit(X_train, y_train)"
      ],
      "execution_count": null,
      "outputs": [
        {
          "output_type": "stream",
          "text": [
            "Fitting 5 folds for each of 9 candidates, totalling 45 fits\n"
          ],
          "name": "stdout"
        },
        {
          "output_type": "stream",
          "text": [
            "[Parallel(n_jobs=1)]: Using backend SequentialBackend with 1 concurrent workers.\n",
            "[Parallel(n_jobs=1)]: Done  45 out of  45 | elapsed:    0.5s finished\n"
          ],
          "name": "stderr"
        },
        {
          "output_type": "execute_result",
          "data": {
            "text/plain": [
              "GridSearchCV(cv=None, error_score=nan,\n",
              "             estimator=RandomForestClassifier(bootstrap=True, ccp_alpha=0.0,\n",
              "                                              class_weight=None,\n",
              "                                              criterion='gini', max_depth=None,\n",
              "                                              max_features='auto',\n",
              "                                              max_leaf_nodes=None,\n",
              "                                              max_samples=None,\n",
              "                                              min_impurity_decrease=0.0,\n",
              "                                              min_impurity_split=None,\n",
              "                                              min_samples_leaf=1,\n",
              "                                              min_samples_split=2,\n",
              "                                              min_weight_fraction_leaf=0.0,\n",
              "                                              n_estimators=100, n_jobs=None,\n",
              "                                              oob_score=False,\n",
              "                                              random_state=None, verbose=0,\n",
              "                                              warm_start=False),\n",
              "             iid='deprecated', n_jobs=None,\n",
              "             param_grid={'max_depth': [3, 5, 10], 'n_estimators': [1, 3, 6]},\n",
              "             pre_dispatch='2*n_jobs', refit=True, return_train_score=False,\n",
              "             scoring=None, verbose=1)"
            ]
          },
          "metadata": {
            "tags": []
          },
          "execution_count": 68
        }
      ]
    },
    {
      "cell_type": "code",
      "metadata": {
        "id": "USci_AeGc1JH",
        "colab_type": "code",
        "colab": {
          "base_uri": "https://localhost:8080/",
          "height": 619
        },
        "outputId": "f55231d9-d67d-4992-aa87-8b2210ffeeb1"
      },
      "source": [
        "# usando retornando o score de treinamento para o cv_results\n",
        "clf = GridSearchCV(rf, parameters, verbose=1, return_train_score=True)\n",
        "clf.fit(X_train, y_train)\n",
        "print(clf.cv_results_)"
      ],
      "execution_count": null,
      "outputs": [
        {
          "output_type": "stream",
          "text": [
            "Fitting 5 folds for each of 9 candidates, totalling 45 fits\n"
          ],
          "name": "stdout"
        },
        {
          "output_type": "stream",
          "text": [
            "[Parallel(n_jobs=1)]: Using backend SequentialBackend with 1 concurrent workers.\n"
          ],
          "name": "stderr"
        },
        {
          "output_type": "stream",
          "text": [
            "{'mean_fit_time': array([0.00600977, 0.00715923, 0.01087427, 0.00475297, 0.0071023 ,\n",
            "       0.0112144 , 0.00461216, 0.00738287, 0.01175594]), 'std_fit_time': array([2.10482084e-03, 4.19297503e-04, 2.12490376e-04, 4.87894496e-04,\n",
            "       8.06668959e-05, 2.29802347e-04, 1.87864969e-04, 6.94758449e-05,\n",
            "       1.31682620e-04]), 'mean_score_time': array([0.00253072, 0.00168686, 0.00215549, 0.00167866, 0.00167251,\n",
            "       0.00207224, 0.00149288, 0.00170827, 0.00206685]), 'std_score_time': array([1.97754993e-03, 8.42011794e-05, 2.47152634e-04, 4.70089409e-04,\n",
            "       3.01359575e-05, 8.59017343e-05, 4.48309607e-05, 4.13255814e-05,\n",
            "       2.47266620e-05]), 'param_max_depth': masked_array(data=[3, 3, 3, 5, 5, 5, 10, 10, 10],\n",
            "             mask=[False, False, False, False, False, False, False, False,\n",
            "                   False],\n",
            "       fill_value='?',\n",
            "            dtype=object), 'param_n_estimators': masked_array(data=[1, 3, 6, 1, 3, 6, 1, 3, 6],\n",
            "             mask=[False, False, False, False, False, False, False, False,\n",
            "                   False],\n",
            "       fill_value='?',\n",
            "            dtype=object), 'params': [{'max_depth': 3, 'n_estimators': 1}, {'max_depth': 3, 'n_estimators': 3}, {'max_depth': 3, 'n_estimators': 6}, {'max_depth': 5, 'n_estimators': 1}, {'max_depth': 5, 'n_estimators': 3}, {'max_depth': 5, 'n_estimators': 6}, {'max_depth': 10, 'n_estimators': 1}, {'max_depth': 10, 'n_estimators': 3}, {'max_depth': 10, 'n_estimators': 6}], 'split0_test_score': array([0.73134328, 0.80597015, 0.79850746, 0.81343284, 0.78358209,\n",
            "       0.79850746, 0.73134328, 0.73880597, 0.76865672]), 'split1_test_score': array([0.85820896, 0.85074627, 0.87313433, 0.84328358, 0.85820896,\n",
            "       0.88059701, 0.85820896, 0.82089552, 0.85820896]), 'split2_test_score': array([0.74626866, 0.7238806 , 0.81343284, 0.76119403, 0.76865672,\n",
            "       0.80597015, 0.7761194 , 0.78358209, 0.80597015]), 'split3_test_score': array([0.77443609, 0.79699248, 0.76691729, 0.7593985 , 0.81203008,\n",
            "       0.80451128, 0.78947368, 0.79699248, 0.81203008]), 'split4_test_score': array([0.82706767, 0.81203008, 0.81954887, 0.83458647, 0.83458647,\n",
            "       0.81954887, 0.83458647, 0.81954887, 0.81203008]), 'mean_test_score': array([0.78746493, 0.79792391, 0.81430816, 0.80237908, 0.81141286,\n",
            "       0.82182696, 0.79794636, 0.79196499, 0.81137919]), 'std_test_score': array([0.04814482, 0.0413212 , 0.03459568, 0.03571055, 0.03264938,\n",
            "       0.03018006, 0.04462791, 0.03006419, 0.02845467]), 'rank_test_score': array([9, 7, 2, 5, 3, 1, 6, 8, 4], dtype=int32), 'split0_train_score': array([0.79775281, 0.84082397, 0.84831461, 0.81835206, 0.85580524,\n",
            "       0.84644195, 0.90262172, 0.91385768, 0.94007491]), 'split1_train_score': array([0.79213483, 0.79588015, 0.81835206, 0.83333333, 0.83895131,\n",
            "       0.85393258, 0.89138577, 0.90449438, 0.91947566]), 'split2_train_score': array([0.80898876, 0.80898876, 0.84269663, 0.83333333, 0.85580524,\n",
            "       0.84831461, 0.89138577, 0.917603  , 0.92134831]), 'split3_train_score': array([0.81308411, 0.82990654, 0.83925234, 0.80560748, 0.85233645,\n",
            "       0.85420561, 0.87663551, 0.90654206, 0.91962617]), 'split4_train_score': array([0.78130841, 0.82616822, 0.80186916, 0.81495327, 0.81869159,\n",
            "       0.85607477, 0.87102804, 0.88598131, 0.91401869]), 'mean_train_score': array([0.79865379, 0.82035353, 0.83009696, 0.82111589, 0.84431797,\n",
            "       0.8517939 , 0.88661136, 0.90569568, 0.92290875]), 'std_train_score': array([0.0114823 , 0.01595126, 0.01737358, 0.0108135 , 0.01423884,\n",
            "       0.00372733, 0.01135147, 0.01094731, 0.0089298 ])}\n"
          ],
          "name": "stdout"
        },
        {
          "output_type": "stream",
          "text": [
            "[Parallel(n_jobs=1)]: Done  45 out of  45 | elapsed:    0.6s finished\n"
          ],
          "name": "stderr"
        }
      ]
    },
    {
      "cell_type": "markdown",
      "metadata": {
        "id": "qW1fP59V1f4y",
        "colab_type": "text"
      },
      "source": [
        "## Random forest, AdaBoost e XGBoost\n",
        "\n",
        "![boosting.png](https://udacity-github-sync-content.s3.amazonaws.com/_attachments/38140/1486523094/boosting.png)\n"
      ]
    },
    {
      "cell_type": "code",
      "metadata": {
        "id": "pyc94a77dFgk",
        "colab_type": "code",
        "colab": {}
      },
      "source": [
        ""
      ],
      "execution_count": null,
      "outputs": []
    }
  ]
}