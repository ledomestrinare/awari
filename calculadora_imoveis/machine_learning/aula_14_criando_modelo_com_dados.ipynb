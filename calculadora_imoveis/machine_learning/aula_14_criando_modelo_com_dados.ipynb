{
  "nbformat": 4,
  "nbformat_minor": 0,
  "metadata": {
    "kernelspec": {
      "display_name": "Python 3",
      "language": "python",
      "name": "python3"
    },
    "language_info": {
      "codemirror_mode": {
        "name": "ipython",
        "version": 3
      },
      "file_extension": ".py",
      "mimetype": "text/x-python",
      "name": "python",
      "nbconvert_exporter": "python",
      "pygments_lexer": "ipython3",
      "version": "3.8.4"
    },
    "colab": {
      "name": "aula_14_criando_modelo_com_dados.ipynb",
      "provenance": [],
      "collapsed_sections": []
    }
  },
  "cells": [
    {
      "cell_type": "markdown",
      "metadata": {
        "id": "6ukK9segLIhA"
      },
      "source": [
        "## 1. Dividindo os dados entre treino e teste"
      ]
    },
    {
      "cell_type": "code",
      "metadata": {
        "id": "Iq39kw8LLIhD"
      },
      "source": [
        "import pandas as pd"
      ],
      "execution_count": 1,
      "outputs": []
    },
    {
      "cell_type": "code",
      "metadata": {
        "id": "Gkzs3ovtLIhO"
      },
      "source": [
        "treino = pd.read_csv('https://raw.githubusercontent.com/cassiasamp/calculadora-de-imoveis-jun-20/master/analise_e_preprocessamento/treino_preprocessado.csv')\n",
        "teste = pd.read_csv('https://raw.githubusercontent.com/cassiasamp/calculadora-de-imoveis-jun-20/master/analise_e_preprocessamento/teste_preprocessado.csv')"
      ],
      "execution_count": 2,
      "outputs": []
    },
    {
      "cell_type": "code",
      "metadata": {
        "id": "Tqgi_-eSLIhS",
        "outputId": "dd1cb8f4-9ce6-4cde-d9e2-fd23648c9ae0",
        "colab": {
          "base_uri": "https://localhost:8080/",
          "height": 198
        }
      },
      "source": [
        "treino.head()"
      ],
      "execution_count": 3,
      "outputs": [
        {
          "output_type": "execute_result",
          "data": {
            "text/html": [
              "<div>\n",
              "<style scoped>\n",
              "    .dataframe tbody tr th:only-of-type {\n",
              "        vertical-align: middle;\n",
              "    }\n",
              "\n",
              "    .dataframe tbody tr th {\n",
              "        vertical-align: top;\n",
              "    }\n",
              "\n",
              "    .dataframe thead th {\n",
              "        text-align: right;\n",
              "    }\n",
              "</style>\n",
              "<table border=\"1\" class=\"dataframe\">\n",
              "  <thead>\n",
              "    <tr style=\"text-align: right;\">\n",
              "      <th></th>\n",
              "      <th>zona_leste</th>\n",
              "      <th>zona_norte</th>\n",
              "      <th>zona_oeste</th>\n",
              "      <th>zona_sul</th>\n",
              "      <th>quartos</th>\n",
              "      <th>area</th>\n",
              "      <th>preco</th>\n",
              "    </tr>\n",
              "  </thead>\n",
              "  <tbody>\n",
              "    <tr>\n",
              "      <th>0</th>\n",
              "      <td>0</td>\n",
              "      <td>1</td>\n",
              "      <td>0</td>\n",
              "      <td>0</td>\n",
              "      <td>0.693147</td>\n",
              "      <td>3.713572</td>\n",
              "      <td>6.621406</td>\n",
              "    </tr>\n",
              "    <tr>\n",
              "      <th>1</th>\n",
              "      <td>1</td>\n",
              "      <td>0</td>\n",
              "      <td>0</td>\n",
              "      <td>0</td>\n",
              "      <td>1.098612</td>\n",
              "      <td>5.198497</td>\n",
              "      <td>7.601402</td>\n",
              "    </tr>\n",
              "    <tr>\n",
              "      <th>2</th>\n",
              "      <td>0</td>\n",
              "      <td>0</td>\n",
              "      <td>0</td>\n",
              "      <td>1</td>\n",
              "      <td>1.386294</td>\n",
              "      <td>6.216606</td>\n",
              "      <td>8.699681</td>\n",
              "    </tr>\n",
              "    <tr>\n",
              "      <th>3</th>\n",
              "      <td>0</td>\n",
              "      <td>1</td>\n",
              "      <td>0</td>\n",
              "      <td>0</td>\n",
              "      <td>1.098612</td>\n",
              "      <td>4.262680</td>\n",
              "      <td>7.090910</td>\n",
              "    </tr>\n",
              "    <tr>\n",
              "      <th>4</th>\n",
              "      <td>1</td>\n",
              "      <td>0</td>\n",
              "      <td>0</td>\n",
              "      <td>0</td>\n",
              "      <td>1.098612</td>\n",
              "      <td>4.189655</td>\n",
              "      <td>7.313887</td>\n",
              "    </tr>\n",
              "  </tbody>\n",
              "</table>\n",
              "</div>"
            ],
            "text/plain": [
              "   zona_leste  zona_norte  zona_oeste  zona_sul   quartos      area     preco\n",
              "0           0           1           0         0  0.693147  3.713572  6.621406\n",
              "1           1           0           0         0  1.098612  5.198497  7.601402\n",
              "2           0           0           0         1  1.386294  6.216606  8.699681\n",
              "3           0           1           0         0  1.098612  4.262680  7.090910\n",
              "4           1           0           0         0  1.098612  4.189655  7.313887"
            ]
          },
          "metadata": {
            "tags": []
          },
          "execution_count": 3
        }
      ]
    },
    {
      "cell_type": "code",
      "metadata": {
        "id": "hz8yvIeoLIhX",
        "outputId": "930f0c78-3b3a-4178-b9d5-a08bc9e067a5",
        "colab": {
          "base_uri": "https://localhost:8080/",
          "height": 198
        }
      },
      "source": [
        "teste.head()"
      ],
      "execution_count": null,
      "outputs": [
        {
          "output_type": "execute_result",
          "data": {
            "text/html": [
              "<div>\n",
              "<style scoped>\n",
              "    .dataframe tbody tr th:only-of-type {\n",
              "        vertical-align: middle;\n",
              "    }\n",
              "\n",
              "    .dataframe tbody tr th {\n",
              "        vertical-align: top;\n",
              "    }\n",
              "\n",
              "    .dataframe thead th {\n",
              "        text-align: right;\n",
              "    }\n",
              "</style>\n",
              "<table border=\"1\" class=\"dataframe\">\n",
              "  <thead>\n",
              "    <tr style=\"text-align: right;\">\n",
              "      <th></th>\n",
              "      <th>zona_leste</th>\n",
              "      <th>zona_norte</th>\n",
              "      <th>zona_oeste</th>\n",
              "      <th>zona_sul</th>\n",
              "      <th>quartos</th>\n",
              "      <th>area</th>\n",
              "      <th>preco</th>\n",
              "    </tr>\n",
              "  </thead>\n",
              "  <tbody>\n",
              "    <tr>\n",
              "      <th>0</th>\n",
              "      <td>0</td>\n",
              "      <td>1</td>\n",
              "      <td>0</td>\n",
              "      <td>0</td>\n",
              "      <td>1.098612</td>\n",
              "      <td>6.111467</td>\n",
              "      <td>9.903538</td>\n",
              "    </tr>\n",
              "    <tr>\n",
              "      <th>1</th>\n",
              "      <td>1</td>\n",
              "      <td>0</td>\n",
              "      <td>0</td>\n",
              "      <td>0</td>\n",
              "      <td>1.098612</td>\n",
              "      <td>5.525453</td>\n",
              "      <td>8.853808</td>\n",
              "    </tr>\n",
              "    <tr>\n",
              "      <th>2</th>\n",
              "      <td>0</td>\n",
              "      <td>0</td>\n",
              "      <td>1</td>\n",
              "      <td>0</td>\n",
              "      <td>1.609438</td>\n",
              "      <td>5.802118</td>\n",
              "      <td>9.852247</td>\n",
              "    </tr>\n",
              "    <tr>\n",
              "      <th>3</th>\n",
              "      <td>0</td>\n",
              "      <td>0</td>\n",
              "      <td>0</td>\n",
              "      <td>1</td>\n",
              "      <td>1.386294</td>\n",
              "      <td>5.888878</td>\n",
              "      <td>9.350189</td>\n",
              "    </tr>\n",
              "    <tr>\n",
              "      <th>4</th>\n",
              "      <td>0</td>\n",
              "      <td>1</td>\n",
              "      <td>0</td>\n",
              "      <td>0</td>\n",
              "      <td>1.386294</td>\n",
              "      <td>4.394449</td>\n",
              "      <td>7.003974</td>\n",
              "    </tr>\n",
              "  </tbody>\n",
              "</table>\n",
              "</div>"
            ],
            "text/plain": [
              "   zona_leste  zona_norte  zona_oeste  zona_sul   quartos      area     preco\n",
              "0           0           1           0         0  1.098612  6.111467  9.903538\n",
              "1           1           0           0         0  1.098612  5.525453  8.853808\n",
              "2           0           0           1         0  1.609438  5.802118  9.852247\n",
              "3           0           0           0         1  1.386294  5.888878  9.350189\n",
              "4           0           1           0         0  1.386294  4.394449  7.003974"
            ]
          },
          "metadata": {
            "tags": []
          },
          "execution_count": 59
        }
      ]
    },
    {
      "cell_type": "code",
      "metadata": {
        "id": "JEdWuKm-LIhb"
      },
      "source": [
        "X_treino = treino.drop('preco', axis=1)"
      ],
      "execution_count": 14,
      "outputs": []
    },
    {
      "cell_type": "code",
      "metadata": {
        "id": "odhZMI_ILIhj",
        "outputId": "8f14b8e5-e10a-46b5-8001-da590eb8273e",
        "colab": {
          "base_uri": "https://localhost:8080/",
          "height": 198
        }
      },
      "source": [
        "X_treino.head()"
      ],
      "execution_count": null,
      "outputs": [
        {
          "output_type": "execute_result",
          "data": {
            "text/html": [
              "<div>\n",
              "<style scoped>\n",
              "    .dataframe tbody tr th:only-of-type {\n",
              "        vertical-align: middle;\n",
              "    }\n",
              "\n",
              "    .dataframe tbody tr th {\n",
              "        vertical-align: top;\n",
              "    }\n",
              "\n",
              "    .dataframe thead th {\n",
              "        text-align: right;\n",
              "    }\n",
              "</style>\n",
              "<table border=\"1\" class=\"dataframe\">\n",
              "  <thead>\n",
              "    <tr style=\"text-align: right;\">\n",
              "      <th></th>\n",
              "      <th>zona_leste</th>\n",
              "      <th>zona_norte</th>\n",
              "      <th>zona_oeste</th>\n",
              "      <th>zona_sul</th>\n",
              "      <th>quartos</th>\n",
              "      <th>area</th>\n",
              "    </tr>\n",
              "  </thead>\n",
              "  <tbody>\n",
              "    <tr>\n",
              "      <th>0</th>\n",
              "      <td>0</td>\n",
              "      <td>1</td>\n",
              "      <td>0</td>\n",
              "      <td>0</td>\n",
              "      <td>0.693147</td>\n",
              "      <td>3.713572</td>\n",
              "    </tr>\n",
              "    <tr>\n",
              "      <th>1</th>\n",
              "      <td>1</td>\n",
              "      <td>0</td>\n",
              "      <td>0</td>\n",
              "      <td>0</td>\n",
              "      <td>1.098612</td>\n",
              "      <td>5.198497</td>\n",
              "    </tr>\n",
              "    <tr>\n",
              "      <th>2</th>\n",
              "      <td>0</td>\n",
              "      <td>0</td>\n",
              "      <td>0</td>\n",
              "      <td>1</td>\n",
              "      <td>1.386294</td>\n",
              "      <td>6.216606</td>\n",
              "    </tr>\n",
              "    <tr>\n",
              "      <th>3</th>\n",
              "      <td>0</td>\n",
              "      <td>1</td>\n",
              "      <td>0</td>\n",
              "      <td>0</td>\n",
              "      <td>1.098612</td>\n",
              "      <td>4.262680</td>\n",
              "    </tr>\n",
              "    <tr>\n",
              "      <th>4</th>\n",
              "      <td>1</td>\n",
              "      <td>0</td>\n",
              "      <td>0</td>\n",
              "      <td>0</td>\n",
              "      <td>1.098612</td>\n",
              "      <td>4.189655</td>\n",
              "    </tr>\n",
              "  </tbody>\n",
              "</table>\n",
              "</div>"
            ],
            "text/plain": [
              "   zona_leste  zona_norte  zona_oeste  zona_sul   quartos      area\n",
              "0           0           1           0         0  0.693147  3.713572\n",
              "1           1           0           0         0  1.098612  5.198497\n",
              "2           0           0           0         1  1.386294  6.216606\n",
              "3           0           1           0         0  1.098612  4.262680\n",
              "4           1           0           0         0  1.098612  4.189655"
            ]
          },
          "metadata": {
            "tags": []
          },
          "execution_count": 61
        }
      ]
    },
    {
      "cell_type": "code",
      "metadata": {
        "id": "x8XxB0MlLIht"
      },
      "source": [
        "y_treino = treino['preco']"
      ],
      "execution_count": 4,
      "outputs": []
    },
    {
      "cell_type": "code",
      "metadata": {
        "id": "cU-APRYGLIhx",
        "outputId": "0378afe1-4fe0-4758-f3cf-2cae6f8cabb6",
        "colab": {
          "base_uri": "https://localhost:8080/",
          "height": 126
        }
      },
      "source": [
        "y_treino.head()"
      ],
      "execution_count": null,
      "outputs": [
        {
          "output_type": "execute_result",
          "data": {
            "text/plain": [
              "0    6.621406\n",
              "1    7.601402\n",
              "2    8.699681\n",
              "3    7.090910\n",
              "4    7.313887\n",
              "Name: preco, dtype: float64"
            ]
          },
          "metadata": {
            "tags": []
          },
          "execution_count": 63
        }
      ]
    },
    {
      "cell_type": "code",
      "metadata": {
        "id": "_n3cIGapLIh1"
      },
      "source": [
        "X_teste = teste.drop('preco', axis=1)\n",
        "y_teste = teste['preco']"
      ],
      "execution_count": 5,
      "outputs": []
    },
    {
      "cell_type": "markdown",
      "metadata": {
        "id": "LvMMJslTLIh4"
      },
      "source": [
        "## 2. Criando um modelo de regressão linear"
      ]
    },
    {
      "cell_type": "code",
      "metadata": {
        "id": "ojxDXzFCLIh5"
      },
      "source": [
        "from sklearn.linear_model import LinearRegression"
      ],
      "execution_count": 7,
      "outputs": []
    },
    {
      "cell_type": "code",
      "metadata": {
        "id": "6dViyFEwLIh8"
      },
      "source": [
        "reg = LinearRegression()"
      ],
      "execution_count": 8,
      "outputs": []
    },
    {
      "cell_type": "code",
      "metadata": {
        "id": "NR4uQqp3LIh_",
        "outputId": "078923c7-285f-43b0-f02a-9a470f44c46b",
        "colab": {
          "base_uri": "https://localhost:8080/",
          "height": 35
        }
      },
      "source": [
        "reg.fit(X_treino, y_treino)"
      ],
      "execution_count": 15,
      "outputs": [
        {
          "output_type": "execute_result",
          "data": {
            "text/plain": [
              "LinearRegression(copy_X=True, fit_intercept=True, n_jobs=None, normalize=False)"
            ]
          },
          "metadata": {
            "tags": []
          },
          "execution_count": 15
        }
      ]
    },
    {
      "cell_type": "code",
      "metadata": {
        "id": "aSU9dZNNLIiD"
      },
      "source": [
        "import numpy as np\n",
        "\n",
        "# reg.predict(X_teste)\n",
        "n_quartos = 3\n",
        "area = 100\n",
        "\n",
        "log1_pred = reg.predict([[0, 1, 0, 0, np.log1p(n_quartos), np.log1p(area)]])"
      ],
      "execution_count": 16,
      "outputs": []
    },
    {
      "cell_type": "markdown",
      "metadata": {
        "id": "NwhFJ4YsLIiG"
      },
      "source": [
        "Estamos lidando com um modelo que é log-log, mais especificamente, log + 1 de entrada e exponencial - 1 de saída."
      ]
    },
    {
      "cell_type": "code",
      "metadata": {
        "id": "RjdV2c4hLIiH",
        "outputId": "d71a9054-58ac-49f8-f561-6caeb6d5761c",
        "colab": {
          "base_uri": "https://localhost:8080/",
          "height": 35
        }
      },
      "source": [
        "np.expm1(log1_pred)"
      ],
      "execution_count": 17,
      "outputs": [
        {
          "output_type": "execute_result",
          "data": {
            "text/plain": [
              "array([2016.01706802])"
            ]
          },
          "metadata": {
            "tags": []
          },
          "execution_count": 17
        }
      ]
    },
    {
      "cell_type": "code",
      "metadata": {
        "id": "bsi_NqHKLIiK"
      },
      "source": [
        "log1_predicoes = reg.predict(X_teste)"
      ],
      "execution_count": 18,
      "outputs": []
    },
    {
      "cell_type": "code",
      "metadata": {
        "id": "u_fC4jNSLIiN"
      },
      "source": [
        "predicoes = np.expm1(log1_predicoes)"
      ],
      "execution_count": 19,
      "outputs": []
    },
    {
      "cell_type": "code",
      "metadata": {
        "id": "J3kvY21ALIiT",
        "outputId": "3c96efa1-9deb-408b-b419-51558c1dc94b",
        "colab": {
          "base_uri": "https://localhost:8080/",
          "height": 198
        }
      },
      "source": [
        "X_teste.head()"
      ],
      "execution_count": null,
      "outputs": [
        {
          "output_type": "execute_result",
          "data": {
            "text/html": [
              "<div>\n",
              "<style scoped>\n",
              "    .dataframe tbody tr th:only-of-type {\n",
              "        vertical-align: middle;\n",
              "    }\n",
              "\n",
              "    .dataframe tbody tr th {\n",
              "        vertical-align: top;\n",
              "    }\n",
              "\n",
              "    .dataframe thead th {\n",
              "        text-align: right;\n",
              "    }\n",
              "</style>\n",
              "<table border=\"1\" class=\"dataframe\">\n",
              "  <thead>\n",
              "    <tr style=\"text-align: right;\">\n",
              "      <th></th>\n",
              "      <th>zona_leste</th>\n",
              "      <th>zona_norte</th>\n",
              "      <th>zona_oeste</th>\n",
              "      <th>zona_sul</th>\n",
              "      <th>quartos</th>\n",
              "      <th>area</th>\n",
              "    </tr>\n",
              "  </thead>\n",
              "  <tbody>\n",
              "    <tr>\n",
              "      <th>0</th>\n",
              "      <td>0</td>\n",
              "      <td>1</td>\n",
              "      <td>0</td>\n",
              "      <td>0</td>\n",
              "      <td>1.098612</td>\n",
              "      <td>6.111467</td>\n",
              "    </tr>\n",
              "    <tr>\n",
              "      <th>1</th>\n",
              "      <td>1</td>\n",
              "      <td>0</td>\n",
              "      <td>0</td>\n",
              "      <td>0</td>\n",
              "      <td>1.098612</td>\n",
              "      <td>5.525453</td>\n",
              "    </tr>\n",
              "    <tr>\n",
              "      <th>2</th>\n",
              "      <td>0</td>\n",
              "      <td>0</td>\n",
              "      <td>1</td>\n",
              "      <td>0</td>\n",
              "      <td>1.609438</td>\n",
              "      <td>5.802118</td>\n",
              "    </tr>\n",
              "    <tr>\n",
              "      <th>3</th>\n",
              "      <td>0</td>\n",
              "      <td>0</td>\n",
              "      <td>0</td>\n",
              "      <td>1</td>\n",
              "      <td>1.386294</td>\n",
              "      <td>5.888878</td>\n",
              "    </tr>\n",
              "    <tr>\n",
              "      <th>4</th>\n",
              "      <td>0</td>\n",
              "      <td>1</td>\n",
              "      <td>0</td>\n",
              "      <td>0</td>\n",
              "      <td>1.386294</td>\n",
              "      <td>4.394449</td>\n",
              "    </tr>\n",
              "  </tbody>\n",
              "</table>\n",
              "</div>"
            ],
            "text/plain": [
              "   zona_leste  zona_norte  zona_oeste  zona_sul   quartos      area\n",
              "0           0           1           0         0  1.098612  6.111467\n",
              "1           1           0           0         0  1.098612  5.525453\n",
              "2           0           0           1         0  1.609438  5.802118\n",
              "3           0           0           0         1  1.386294  5.888878\n",
              "4           0           1           0         0  1.386294  4.394449"
            ]
          },
          "metadata": {
            "tags": []
          },
          "execution_count": 72
        }
      ]
    },
    {
      "cell_type": "code",
      "metadata": {
        "id": "l9Qxm65HLIiW",
        "outputId": "11f8844a-555f-4b6e-e2c0-b72858c72401",
        "colab": {
          "base_uri": "https://localhost:8080/",
          "height": 126
        }
      },
      "source": [
        "y_teste.head()"
      ],
      "execution_count": 12,
      "outputs": [
        {
          "output_type": "execute_result",
          "data": {
            "text/plain": [
              "0    9.903538\n",
              "1    8.853808\n",
              "2    9.852247\n",
              "3    9.350189\n",
              "4    7.003974\n",
              "Name: preco, dtype: float64"
            ]
          },
          "metadata": {
            "tags": []
          },
          "execution_count": 12
        }
      ]
    },
    {
      "cell_type": "code",
      "metadata": {
        "id": "RAqoOXO1LIiZ",
        "outputId": "b5862045-9402-44a4-e694-c67201cd253a",
        "colab": {
          "base_uri": "https://localhost:8080/",
          "height": 35
        }
      },
      "source": [
        "np.log1p(predicoes[0])"
      ],
      "execution_count": 20,
      "outputs": [
        {
          "output_type": "execute_result",
          "data": {
            "text/plain": [
              "8.59375"
            ]
          },
          "metadata": {
            "tags": []
          },
          "execution_count": 20
        }
      ]
    },
    {
      "cell_type": "code",
      "metadata": {
        "id": "4vtipu1-LIie",
        "outputId": "f9d341bb-4007-4fdc-e563-dd5fa7600ae5",
        "colab": {
          "base_uri": "https://localhost:8080/",
          "height": 35
        }
      },
      "source": [
        "9.9 - 8.5"
      ],
      "execution_count": null,
      "outputs": [
        {
          "output_type": "execute_result",
          "data": {
            "text/plain": [
              "1.4000000000000004"
            ]
          },
          "metadata": {
            "tags": []
          },
          "execution_count": 75
        }
      ]
    },
    {
      "cell_type": "code",
      "metadata": {
        "id": "xSmuO6qeLIih",
        "outputId": "68a93ef0-9272-426a-ee8d-6e12cbcca69e",
        "colab": {
          "base_uri": "https://localhost:8080/",
          "height": 35
        }
      },
      "source": [
        "reg.score(X_teste, y_teste) # r quadrado da regressão linear"
      ],
      "execution_count": 21,
      "outputs": [
        {
          "output_type": "execute_result",
          "data": {
            "text/plain": [
              "0.7460404920512879"
            ]
          },
          "metadata": {
            "tags": []
          },
          "execution_count": 21
        }
      ]
    },
    {
      "cell_type": "markdown",
      "metadata": {
        "id": "_FhEpxpXLIil"
      },
      "source": [
        "## 3. Criando um modelo de base (baseline, benchmark)"
      ]
    },
    {
      "cell_type": "code",
      "metadata": {
        "id": "lmVbnkM_LIim"
      },
      "source": [
        "# modelo que preveja a média\n",
        "from sklearn.dummy import DummyRegressor"
      ],
      "execution_count": 22,
      "outputs": []
    },
    {
      "cell_type": "code",
      "metadata": {
        "id": "BmLWCXVwLIiq"
      },
      "source": [
        "regressor_boboca = DummyRegressor(strategy='mean')"
      ],
      "execution_count": 23,
      "outputs": []
    },
    {
      "cell_type": "code",
      "metadata": {
        "id": "BspPL1o3LIiu",
        "outputId": "c89e2bb3-181d-4611-d7e5-9f1eceed911e",
        "colab": {
          "base_uri": "https://localhost:8080/",
          "height": 35
        }
      },
      "source": [
        "regressor_boboca.fit(X_treino, y_treino)"
      ],
      "execution_count": 24,
      "outputs": [
        {
          "output_type": "execute_result",
          "data": {
            "text/plain": [
              "DummyRegressor(constant=None, quantile=None, strategy='mean')"
            ]
          },
          "metadata": {
            "tags": []
          },
          "execution_count": 24
        }
      ]
    },
    {
      "cell_type": "code",
      "metadata": {
        "id": "DNN5yP8WLIiy",
        "outputId": "82564532-f41c-4200-bf2e-08bb8afa3310",
        "colab": {
          "base_uri": "https://localhost:8080/",
          "height": 35
        }
      },
      "source": [
        "regressor_boboca.score(X_teste, y_teste) # quando a gente faz o score, usamos x e y de teste"
      ],
      "execution_count": 25,
      "outputs": [
        {
          "output_type": "execute_result",
          "data": {
            "text/plain": [
              "-0.007175323673028533"
            ]
          },
          "metadata": {
            "tags": []
          },
          "execution_count": 25
        }
      ]
    },
    {
      "cell_type": "code",
      "metadata": {
        "id": "sBP1hqa8LIi2"
      },
      "source": [
        "pred_boboca = regressor_boboca.predict(X_teste) # quando a gente faz a predição, só passamos o x de teste"
      ],
      "execution_count": 26,
      "outputs": []
    },
    {
      "cell_type": "markdown",
      "metadata": {
        "id": "XIT6rcUILIi5"
      },
      "source": [
        "Quando a gente usa o R² de dentro do pacote de métricas do sklearn (ou qualquer outra métrica do pacote metrics) passamos o y_true (y_teste) e os valores preditos (y_pred).\n",
        "\n",
        "O .score é o R² do pacote de métricas."
      ]
    },
    {
      "cell_type": "code",
      "metadata": {
        "id": "MMpRuKc1LIi5",
        "outputId": "06a1bd88-eb3f-4341-b5df-99cf96f4cda2",
        "colab": {
          "base_uri": "https://localhost:8080/",
          "height": 35
        }
      },
      "source": [
        "from sklearn.metrics import r2_score\n",
        "\n",
        "r2_score(y_teste, pred_boboca)"
      ],
      "execution_count": 27,
      "outputs": [
        {
          "output_type": "execute_result",
          "data": {
            "text/plain": [
              "-0.007175323673028533"
            ]
          },
          "metadata": {
            "tags": []
          },
          "execution_count": 27
        }
      ]
    },
    {
      "cell_type": "code",
      "metadata": {
        "id": "ridqWId-LIi9",
        "outputId": "8b67df40-111d-4997-c79f-0f35d5cc2f7f",
        "colab": {
          "base_uri": "https://localhost:8080/",
          "height": 35
        }
      },
      "source": [
        "from sklearn.ensemble import RandomForestRegressor\n",
        "\n",
        "rfn = RandomForestRegressor(random_state=100)\n",
        "rfn.fit(X_treino, y_treino)\n",
        "rfn.score(X_teste, y_teste)"
      ],
      "execution_count": 28,
      "outputs": [
        {
          "output_type": "execute_result",
          "data": {
            "text/plain": [
              "0.7435630181216769"
            ]
          },
          "metadata": {
            "tags": []
          },
          "execution_count": 28
        }
      ]
    },
    {
      "cell_type": "code",
      "metadata": {
        "id": "Rqau-rmkFvW5",
        "outputId": "0849fa70-68f3-49cb-8b5e-68829a18a943",
        "colab": {
          "base_uri": "https://localhost:8080/",
          "height": 145
        }
      },
      "source": [
        "rfn"
      ],
      "execution_count": 29,
      "outputs": [
        {
          "output_type": "execute_result",
          "data": {
            "text/plain": [
              "RandomForestRegressor(bootstrap=True, ccp_alpha=0.0, criterion='mse',\n",
              "                      max_depth=None, max_features='auto', max_leaf_nodes=None,\n",
              "                      max_samples=None, min_impurity_decrease=0.0,\n",
              "                      min_impurity_split=None, min_samples_leaf=1,\n",
              "                      min_samples_split=2, min_weight_fraction_leaf=0.0,\n",
              "                      n_estimators=100, n_jobs=None, oob_score=False,\n",
              "                      random_state=100, verbose=0, warm_start=False)"
            ]
          },
          "metadata": {
            "tags": []
          },
          "execution_count": 29
        }
      ]
    },
    {
      "cell_type": "code",
      "metadata": {
        "id": "QDahii6BLIjA",
        "outputId": "0f001545-45dd-4feb-b783-c207b0ad50b5",
        "colab": {
          "base_uri": "https://localhost:8080/",
          "height": 1000
        }
      },
      "source": [
        "# 42, 1, 100, 0 .... # vemos na próxima aula\n",
        "from sklearn.model_selection import GridSearchCV\n",
        "\n",
        "parametros = {'n_estimators':[50, 100, 150, 200], \n",
        "              'max_depth':[3, 5, 10, 15, 30], \n",
        "              'random_state': [20, 50, 42, 100]} \n",
        "\n",
        "# instancia um objeto grid search\n",
        "grid = GridSearchCV(rfn, parametros, verbose=2).fit(X_treino, y_treino)"
      ],
      "execution_count": null,
      "outputs": [
        {
          "output_type": "stream",
          "text": [
            "Fitting 5 folds for each of 80 candidates, totalling 400 fits\n",
            "[CV] max_depth=3, n_estimators=50, random_state=20 ...................\n",
            "[CV] .... max_depth=3, n_estimators=50, random_state=20, total=   0.1s\n",
            "[CV] max_depth=3, n_estimators=50, random_state=20 ...................\n",
            "[CV] .... max_depth=3, n_estimators=50, random_state=20, total=   0.1s\n",
            "[CV] max_depth=3, n_estimators=50, random_state=20 ...................\n"
          ],
          "name": "stdout"
        },
        {
          "output_type": "stream",
          "text": [
            "[Parallel(n_jobs=1)]: Using backend SequentialBackend with 1 concurrent workers.\n",
            "[Parallel(n_jobs=1)]: Done   1 out of   1 | elapsed:    0.1s remaining:    0.0s\n"
          ],
          "name": "stderr"
        },
        {
          "output_type": "stream",
          "text": [
            "[CV] .... max_depth=3, n_estimators=50, random_state=20, total=   0.1s\n",
            "[CV] max_depth=3, n_estimators=50, random_state=20 ...................\n",
            "[CV] .... max_depth=3, n_estimators=50, random_state=20, total=   0.1s\n",
            "[CV] max_depth=3, n_estimators=50, random_state=20 ...................\n",
            "[CV] .... max_depth=3, n_estimators=50, random_state=20, total=   0.1s\n",
            "[CV] max_depth=3, n_estimators=50, random_state=50 ...................\n",
            "[CV] .... max_depth=3, n_estimators=50, random_state=50, total=   0.1s\n",
            "[CV] max_depth=3, n_estimators=50, random_state=50 ...................\n",
            "[CV] .... max_depth=3, n_estimators=50, random_state=50, total=   0.1s\n",
            "[CV] max_depth=3, n_estimators=50, random_state=50 ...................\n",
            "[CV] .... max_depth=3, n_estimators=50, random_state=50, total=   0.1s\n",
            "[CV] max_depth=3, n_estimators=50, random_state=50 ...................\n",
            "[CV] .... max_depth=3, n_estimators=50, random_state=50, total=   0.1s\n",
            "[CV] max_depth=3, n_estimators=50, random_state=50 ...................\n",
            "[CV] .... max_depth=3, n_estimators=50, random_state=50, total=   0.1s\n",
            "[CV] max_depth=3, n_estimators=50, random_state=42 ...................\n",
            "[CV] .... max_depth=3, n_estimators=50, random_state=42, total=   0.1s\n",
            "[CV] max_depth=3, n_estimators=50, random_state=42 ...................\n",
            "[CV] .... max_depth=3, n_estimators=50, random_state=42, total=   0.1s\n",
            "[CV] max_depth=3, n_estimators=50, random_state=42 ...................\n",
            "[CV] .... max_depth=3, n_estimators=50, random_state=42, total=   0.1s\n",
            "[CV] max_depth=3, n_estimators=50, random_state=42 ...................\n",
            "[CV] .... max_depth=3, n_estimators=50, random_state=42, total=   0.1s\n",
            "[CV] max_depth=3, n_estimators=50, random_state=42 ...................\n",
            "[CV] .... max_depth=3, n_estimators=50, random_state=42, total=   0.1s\n",
            "[CV] max_depth=3, n_estimators=50, random_state=100 ..................\n",
            "[CV] ... max_depth=3, n_estimators=50, random_state=100, total=   0.1s\n",
            "[CV] max_depth=3, n_estimators=50, random_state=100 ..................\n",
            "[CV] ... max_depth=3, n_estimators=50, random_state=100, total=   0.1s\n",
            "[CV] max_depth=3, n_estimators=50, random_state=100 ..................\n",
            "[CV] ... max_depth=3, n_estimators=50, random_state=100, total=   0.1s\n",
            "[CV] max_depth=3, n_estimators=50, random_state=100 ..................\n",
            "[CV] ... max_depth=3, n_estimators=50, random_state=100, total=   0.1s\n",
            "[CV] max_depth=3, n_estimators=50, random_state=100 ..................\n",
            "[CV] ... max_depth=3, n_estimators=50, random_state=100, total=   0.1s\n",
            "[CV] max_depth=3, n_estimators=100, random_state=20 ..................\n",
            "[CV] ... max_depth=3, n_estimators=100, random_state=20, total=   0.1s\n",
            "[CV] max_depth=3, n_estimators=100, random_state=20 ..................\n",
            "[CV] ... max_depth=3, n_estimators=100, random_state=20, total=   0.1s\n",
            "[CV] max_depth=3, n_estimators=100, random_state=20 ..................\n",
            "[CV] ... max_depth=3, n_estimators=100, random_state=20, total=   0.1s\n",
            "[CV] max_depth=3, n_estimators=100, random_state=20 ..................\n",
            "[CV] ... max_depth=3, n_estimators=100, random_state=20, total=   0.1s\n",
            "[CV] max_depth=3, n_estimators=100, random_state=20 ..................\n",
            "[CV] ... max_depth=3, n_estimators=100, random_state=20, total=   0.1s\n",
            "[CV] max_depth=3, n_estimators=100, random_state=50 ..................\n",
            "[CV] ... max_depth=3, n_estimators=100, random_state=50, total=   0.1s\n",
            "[CV] max_depth=3, n_estimators=100, random_state=50 ..................\n",
            "[CV] ... max_depth=3, n_estimators=100, random_state=50, total=   0.1s\n",
            "[CV] max_depth=3, n_estimators=100, random_state=50 ..................\n",
            "[CV] ... max_depth=3, n_estimators=100, random_state=50, total=   0.1s\n",
            "[CV] max_depth=3, n_estimators=100, random_state=50 ..................\n",
            "[CV] ... max_depth=3, n_estimators=100, random_state=50, total=   0.2s\n",
            "[CV] max_depth=3, n_estimators=100, random_state=50 ..................\n",
            "[CV] ... max_depth=3, n_estimators=100, random_state=50, total=   0.1s\n",
            "[CV] max_depth=3, n_estimators=100, random_state=42 ..................\n",
            "[CV] ... max_depth=3, n_estimators=100, random_state=42, total=   0.1s\n",
            "[CV] max_depth=3, n_estimators=100, random_state=42 ..................\n",
            "[CV] ... max_depth=3, n_estimators=100, random_state=42, total=   0.1s\n",
            "[CV] max_depth=3, n_estimators=100, random_state=42 ..................\n",
            "[CV] ... max_depth=3, n_estimators=100, random_state=42, total=   0.1s\n",
            "[CV] max_depth=3, n_estimators=100, random_state=42 ..................\n",
            "[CV] ... max_depth=3, n_estimators=100, random_state=42, total=   0.1s\n",
            "[CV] max_depth=3, n_estimators=100, random_state=42 ..................\n",
            "[CV] ... max_depth=3, n_estimators=100, random_state=42, total=   0.1s\n",
            "[CV] max_depth=3, n_estimators=100, random_state=100 .................\n",
            "[CV] .. max_depth=3, n_estimators=100, random_state=100, total=   0.1s\n",
            "[CV] max_depth=3, n_estimators=100, random_state=100 .................\n",
            "[CV] .. max_depth=3, n_estimators=100, random_state=100, total=   0.1s\n",
            "[CV] max_depth=3, n_estimators=100, random_state=100 .................\n",
            "[CV] .. max_depth=3, n_estimators=100, random_state=100, total=   0.1s\n",
            "[CV] max_depth=3, n_estimators=100, random_state=100 .................\n",
            "[CV] .. max_depth=3, n_estimators=100, random_state=100, total=   0.1s\n",
            "[CV] max_depth=3, n_estimators=100, random_state=100 .................\n",
            "[CV] .. max_depth=3, n_estimators=100, random_state=100, total=   0.1s\n",
            "[CV] max_depth=3, n_estimators=150, random_state=20 ..................\n",
            "[CV] ... max_depth=3, n_estimators=150, random_state=20, total=   0.2s\n",
            "[CV] max_depth=3, n_estimators=150, random_state=20 ..................\n",
            "[CV] ... max_depth=3, n_estimators=150, random_state=20, total=   0.2s\n",
            "[CV] max_depth=3, n_estimators=150, random_state=20 ..................\n",
            "[CV] ... max_depth=3, n_estimators=150, random_state=20, total=   0.2s\n",
            "[CV] max_depth=3, n_estimators=150, random_state=20 ..................\n",
            "[CV] ... max_depth=3, n_estimators=150, random_state=20, total=   0.2s\n",
            "[CV] max_depth=3, n_estimators=150, random_state=20 ..................\n",
            "[CV] ... max_depth=3, n_estimators=150, random_state=20, total=   0.2s\n",
            "[CV] max_depth=3, n_estimators=150, random_state=50 ..................\n",
            "[CV] ... max_depth=3, n_estimators=150, random_state=50, total=   0.2s\n",
            "[CV] max_depth=3, n_estimators=150, random_state=50 ..................\n",
            "[CV] ... max_depth=3, n_estimators=150, random_state=50, total=   0.2s\n",
            "[CV] max_depth=3, n_estimators=150, random_state=50 ..................\n",
            "[CV] ... max_depth=3, n_estimators=150, random_state=50, total=   0.2s\n",
            "[CV] max_depth=3, n_estimators=150, random_state=50 ..................\n",
            "[CV] ... max_depth=3, n_estimators=150, random_state=50, total=   0.2s\n",
            "[CV] max_depth=3, n_estimators=150, random_state=50 ..................\n",
            "[CV] ... max_depth=3, n_estimators=150, random_state=50, total=   0.2s\n",
            "[CV] max_depth=3, n_estimators=150, random_state=42 ..................\n",
            "[CV] ... max_depth=3, n_estimators=150, random_state=42, total=   0.2s\n",
            "[CV] max_depth=3, n_estimators=150, random_state=42 ..................\n",
            "[CV] ... max_depth=3, n_estimators=150, random_state=42, total=   0.2s\n",
            "[CV] max_depth=3, n_estimators=150, random_state=42 ..................\n",
            "[CV] ... max_depth=3, n_estimators=150, random_state=42, total=   0.2s\n",
            "[CV] max_depth=3, n_estimators=150, random_state=42 ..................\n",
            "[CV] ... max_depth=3, n_estimators=150, random_state=42, total=   0.2s\n",
            "[CV] max_depth=3, n_estimators=150, random_state=42 ..................\n",
            "[CV] ... max_depth=3, n_estimators=150, random_state=42, total=   0.2s\n",
            "[CV] max_depth=3, n_estimators=150, random_state=100 .................\n",
            "[CV] .. max_depth=3, n_estimators=150, random_state=100, total=   0.2s\n",
            "[CV] max_depth=3, n_estimators=150, random_state=100 .................\n",
            "[CV] .. max_depth=3, n_estimators=150, random_state=100, total=   0.2s\n",
            "[CV] max_depth=3, n_estimators=150, random_state=100 .................\n",
            "[CV] .. max_depth=3, n_estimators=150, random_state=100, total=   0.2s\n",
            "[CV] max_depth=3, n_estimators=150, random_state=100 .................\n",
            "[CV] .. max_depth=3, n_estimators=150, random_state=100, total=   0.2s\n",
            "[CV] max_depth=3, n_estimators=150, random_state=100 .................\n",
            "[CV] .. max_depth=3, n_estimators=150, random_state=100, total=   0.2s\n",
            "[CV] max_depth=3, n_estimators=200, random_state=20 ..................\n",
            "[CV] ... max_depth=3, n_estimators=200, random_state=20, total=   0.3s\n",
            "[CV] max_depth=3, n_estimators=200, random_state=20 ..................\n",
            "[CV] ... max_depth=3, n_estimators=200, random_state=20, total=   0.3s\n",
            "[CV] max_depth=3, n_estimators=200, random_state=20 ..................\n",
            "[CV] ... max_depth=3, n_estimators=200, random_state=20, total=   0.3s\n",
            "[CV] max_depth=3, n_estimators=200, random_state=20 ..................\n",
            "[CV] ... max_depth=3, n_estimators=200, random_state=20, total=   0.3s\n",
            "[CV] max_depth=3, n_estimators=200, random_state=20 ..................\n",
            "[CV] ... max_depth=3, n_estimators=200, random_state=20, total=   0.3s\n",
            "[CV] max_depth=3, n_estimators=200, random_state=50 ..................\n",
            "[CV] ... max_depth=3, n_estimators=200, random_state=50, total=   0.3s\n",
            "[CV] max_depth=3, n_estimators=200, random_state=50 ..................\n",
            "[CV] ... max_depth=3, n_estimators=200, random_state=50, total=   0.3s\n",
            "[CV] max_depth=3, n_estimators=200, random_state=50 ..................\n",
            "[CV] ... max_depth=3, n_estimators=200, random_state=50, total=   0.3s\n",
            "[CV] max_depth=3, n_estimators=200, random_state=50 ..................\n",
            "[CV] ... max_depth=3, n_estimators=200, random_state=50, total=   0.3s\n",
            "[CV] max_depth=3, n_estimators=200, random_state=50 ..................\n",
            "[CV] ... max_depth=3, n_estimators=200, random_state=50, total=   0.3s\n",
            "[CV] max_depth=3, n_estimators=200, random_state=42 ..................\n",
            "[CV] ... max_depth=3, n_estimators=200, random_state=42, total=   0.3s\n",
            "[CV] max_depth=3, n_estimators=200, random_state=42 ..................\n",
            "[CV] ... max_depth=3, n_estimators=200, random_state=42, total=   0.3s\n",
            "[CV] max_depth=3, n_estimators=200, random_state=42 ..................\n",
            "[CV] ... max_depth=3, n_estimators=200, random_state=42, total=   0.3s\n",
            "[CV] max_depth=3, n_estimators=200, random_state=42 ..................\n",
            "[CV] ... max_depth=3, n_estimators=200, random_state=42, total=   0.3s\n",
            "[CV] max_depth=3, n_estimators=200, random_state=42 ..................\n",
            "[CV] ... max_depth=3, n_estimators=200, random_state=42, total=   0.3s\n",
            "[CV] max_depth=3, n_estimators=200, random_state=100 .................\n",
            "[CV] .. max_depth=3, n_estimators=200, random_state=100, total=   0.3s\n",
            "[CV] max_depth=3, n_estimators=200, random_state=100 .................\n",
            "[CV] .. max_depth=3, n_estimators=200, random_state=100, total=   0.3s\n",
            "[CV] max_depth=3, n_estimators=200, random_state=100 .................\n",
            "[CV] .. max_depth=3, n_estimators=200, random_state=100, total=   0.3s\n",
            "[CV] max_depth=3, n_estimators=200, random_state=100 .................\n",
            "[CV] .. max_depth=3, n_estimators=200, random_state=100, total=   0.3s\n",
            "[CV] max_depth=3, n_estimators=200, random_state=100 .................\n",
            "[CV] .. max_depth=3, n_estimators=200, random_state=100, total=   0.3s\n",
            "[CV] max_depth=5, n_estimators=50, random_state=20 ...................\n",
            "[CV] .... max_depth=5, n_estimators=50, random_state=20, total=   0.1s\n",
            "[CV] max_depth=5, n_estimators=50, random_state=20 ...................\n",
            "[CV] .... max_depth=5, n_estimators=50, random_state=20, total=   0.1s\n",
            "[CV] max_depth=5, n_estimators=50, random_state=20 ...................\n",
            "[CV] .... max_depth=5, n_estimators=50, random_state=20, total=   0.1s\n",
            "[CV] max_depth=5, n_estimators=50, random_state=20 ...................\n",
            "[CV] .... max_depth=5, n_estimators=50, random_state=20, total=   0.1s\n",
            "[CV] max_depth=5, n_estimators=50, random_state=20 ...................\n",
            "[CV] .... max_depth=5, n_estimators=50, random_state=20, total=   0.1s\n",
            "[CV] max_depth=5, n_estimators=50, random_state=50 ...................\n",
            "[CV] .... max_depth=5, n_estimators=50, random_state=50, total=   0.1s\n",
            "[CV] max_depth=5, n_estimators=50, random_state=50 ...................\n",
            "[CV] .... max_depth=5, n_estimators=50, random_state=50, total=   0.1s\n",
            "[CV] max_depth=5, n_estimators=50, random_state=50 ...................\n",
            "[CV] .... max_depth=5, n_estimators=50, random_state=50, total=   0.1s\n",
            "[CV] max_depth=5, n_estimators=50, random_state=50 ...................\n",
            "[CV] .... max_depth=5, n_estimators=50, random_state=50, total=   0.1s\n",
            "[CV] max_depth=5, n_estimators=50, random_state=50 ...................\n",
            "[CV] .... max_depth=5, n_estimators=50, random_state=50, total=   0.1s\n",
            "[CV] max_depth=5, n_estimators=50, random_state=42 ...................\n",
            "[CV] .... max_depth=5, n_estimators=50, random_state=42, total=   0.1s\n",
            "[CV] max_depth=5, n_estimators=50, random_state=42 ...................\n",
            "[CV] .... max_depth=5, n_estimators=50, random_state=42, total=   0.1s\n",
            "[CV] max_depth=5, n_estimators=50, random_state=42 ...................\n",
            "[CV] .... max_depth=5, n_estimators=50, random_state=42, total=   0.1s\n",
            "[CV] max_depth=5, n_estimators=50, random_state=42 ...................\n",
            "[CV] .... max_depth=5, n_estimators=50, random_state=42, total=   0.1s\n",
            "[CV] max_depth=5, n_estimators=50, random_state=42 ...................\n",
            "[CV] .... max_depth=5, n_estimators=50, random_state=42, total=   0.1s\n",
            "[CV] max_depth=5, n_estimators=50, random_state=100 ..................\n",
            "[CV] ... max_depth=5, n_estimators=50, random_state=100, total=   0.1s\n",
            "[CV] max_depth=5, n_estimators=50, random_state=100 ..................\n",
            "[CV] ... max_depth=5, n_estimators=50, random_state=100, total=   0.1s\n",
            "[CV] max_depth=5, n_estimators=50, random_state=100 ..................\n",
            "[CV] ... max_depth=5, n_estimators=50, random_state=100, total=   0.1s\n",
            "[CV] max_depth=5, n_estimators=50, random_state=100 ..................\n",
            "[CV] ... max_depth=5, n_estimators=50, random_state=100, total=   0.1s\n",
            "[CV] max_depth=5, n_estimators=50, random_state=100 ..................\n",
            "[CV] ... max_depth=5, n_estimators=50, random_state=100, total=   0.1s\n",
            "[CV] max_depth=5, n_estimators=100, random_state=20 ..................\n",
            "[CV] ... max_depth=5, n_estimators=100, random_state=20, total=   0.2s\n",
            "[CV] max_depth=5, n_estimators=100, random_state=20 ..................\n",
            "[CV] ... max_depth=5, n_estimators=100, random_state=20, total=   0.2s\n",
            "[CV] max_depth=5, n_estimators=100, random_state=20 ..................\n",
            "[CV] ... max_depth=5, n_estimators=100, random_state=20, total=   0.2s\n",
            "[CV] max_depth=5, n_estimators=100, random_state=20 ..................\n",
            "[CV] ... max_depth=5, n_estimators=100, random_state=20, total=   0.1s\n",
            "[CV] max_depth=5, n_estimators=100, random_state=20 ..................\n",
            "[CV] ... max_depth=5, n_estimators=100, random_state=20, total=   0.2s\n",
            "[CV] max_depth=5, n_estimators=100, random_state=50 ..................\n",
            "[CV] ... max_depth=5, n_estimators=100, random_state=50, total=   0.2s\n",
            "[CV] max_depth=5, n_estimators=100, random_state=50 ..................\n",
            "[CV] ... max_depth=5, n_estimators=100, random_state=50, total=   0.2s\n",
            "[CV] max_depth=5, n_estimators=100, random_state=50 ..................\n",
            "[CV] ... max_depth=5, n_estimators=100, random_state=50, total=   0.2s\n",
            "[CV] max_depth=5, n_estimators=100, random_state=50 ..................\n",
            "[CV] ... max_depth=5, n_estimators=100, random_state=50, total=   0.2s\n",
            "[CV] max_depth=5, n_estimators=100, random_state=50 ..................\n",
            "[CV] ... max_depth=5, n_estimators=100, random_state=50, total=   0.1s\n",
            "[CV] max_depth=5, n_estimators=100, random_state=42 ..................\n",
            "[CV] ... max_depth=5, n_estimators=100, random_state=42, total=   0.2s\n",
            "[CV] max_depth=5, n_estimators=100, random_state=42 ..................\n",
            "[CV] ... max_depth=5, n_estimators=100, random_state=42, total=   0.2s\n",
            "[CV] max_depth=5, n_estimators=100, random_state=42 ..................\n",
            "[CV] ... max_depth=5, n_estimators=100, random_state=42, total=   0.2s\n",
            "[CV] max_depth=5, n_estimators=100, random_state=42 ..................\n",
            "[CV] ... max_depth=5, n_estimators=100, random_state=42, total=   0.1s\n",
            "[CV] max_depth=5, n_estimators=100, random_state=42 ..................\n",
            "[CV] ... max_depth=5, n_estimators=100, random_state=42, total=   0.2s\n",
            "[CV] max_depth=5, n_estimators=100, random_state=100 .................\n",
            "[CV] .. max_depth=5, n_estimators=100, random_state=100, total=   0.2s\n",
            "[CV] max_depth=5, n_estimators=100, random_state=100 .................\n",
            "[CV] .. max_depth=5, n_estimators=100, random_state=100, total=   0.2s\n",
            "[CV] max_depth=5, n_estimators=100, random_state=100 .................\n",
            "[CV] .. max_depth=5, n_estimators=100, random_state=100, total=   0.1s\n",
            "[CV] max_depth=5, n_estimators=100, random_state=100 .................\n",
            "[CV] .. max_depth=5, n_estimators=100, random_state=100, total=   0.2s\n",
            "[CV] max_depth=5, n_estimators=100, random_state=100 .................\n",
            "[CV] .. max_depth=5, n_estimators=100, random_state=100, total=   0.1s\n",
            "[CV] max_depth=5, n_estimators=150, random_state=20 ..................\n",
            "[CV] ... max_depth=5, n_estimators=150, random_state=20, total=   0.2s\n",
            "[CV] max_depth=5, n_estimators=150, random_state=20 ..................\n",
            "[CV] ... max_depth=5, n_estimators=150, random_state=20, total=   0.2s\n",
            "[CV] max_depth=5, n_estimators=150, random_state=20 ..................\n",
            "[CV] ... max_depth=5, n_estimators=150, random_state=20, total=   0.2s\n",
            "[CV] max_depth=5, n_estimators=150, random_state=20 ..................\n",
            "[CV] ... max_depth=5, n_estimators=150, random_state=20, total=   0.2s\n",
            "[CV] max_depth=5, n_estimators=150, random_state=20 ..................\n",
            "[CV] ... max_depth=5, n_estimators=150, random_state=20, total=   0.2s\n",
            "[CV] max_depth=5, n_estimators=150, random_state=50 ..................\n",
            "[CV] ... max_depth=5, n_estimators=150, random_state=50, total=   0.2s\n",
            "[CV] max_depth=5, n_estimators=150, random_state=50 ..................\n",
            "[CV] ... max_depth=5, n_estimators=150, random_state=50, total=   0.2s\n",
            "[CV] max_depth=5, n_estimators=150, random_state=50 ..................\n",
            "[CV] ... max_depth=5, n_estimators=150, random_state=50, total=   0.2s\n",
            "[CV] max_depth=5, n_estimators=150, random_state=50 ..................\n",
            "[CV] ... max_depth=5, n_estimators=150, random_state=50, total=   0.2s\n",
            "[CV] max_depth=5, n_estimators=150, random_state=50 ..................\n",
            "[CV] ... max_depth=5, n_estimators=150, random_state=50, total=   0.2s\n",
            "[CV] max_depth=5, n_estimators=150, random_state=42 ..................\n",
            "[CV] ... max_depth=5, n_estimators=150, random_state=42, total=   0.2s\n",
            "[CV] max_depth=5, n_estimators=150, random_state=42 ..................\n",
            "[CV] ... max_depth=5, n_estimators=150, random_state=42, total=   0.2s\n",
            "[CV] max_depth=5, n_estimators=150, random_state=42 ..................\n",
            "[CV] ... max_depth=5, n_estimators=150, random_state=42, total=   0.2s\n",
            "[CV] max_depth=5, n_estimators=150, random_state=42 ..................\n",
            "[CV] ... max_depth=5, n_estimators=150, random_state=42, total=   0.2s\n",
            "[CV] max_depth=5, n_estimators=150, random_state=42 ..................\n",
            "[CV] ... max_depth=5, n_estimators=150, random_state=42, total=   0.2s\n",
            "[CV] max_depth=5, n_estimators=150, random_state=100 .................\n",
            "[CV] .. max_depth=5, n_estimators=150, random_state=100, total=   0.2s\n",
            "[CV] max_depth=5, n_estimators=150, random_state=100 .................\n",
            "[CV] .. max_depth=5, n_estimators=150, random_state=100, total=   0.2s\n",
            "[CV] max_depth=5, n_estimators=150, random_state=100 .................\n",
            "[CV] .. max_depth=5, n_estimators=150, random_state=100, total=   0.2s\n",
            "[CV] max_depth=5, n_estimators=150, random_state=100 .................\n",
            "[CV] .. max_depth=5, n_estimators=150, random_state=100, total=   0.2s\n",
            "[CV] max_depth=5, n_estimators=150, random_state=100 .................\n",
            "[CV] .. max_depth=5, n_estimators=150, random_state=100, total=   0.2s\n",
            "[CV] max_depth=5, n_estimators=200, random_state=20 ..................\n",
            "[CV] ... max_depth=5, n_estimators=200, random_state=20, total=   0.3s\n",
            "[CV] max_depth=5, n_estimators=200, random_state=20 ..................\n",
            "[CV] ... max_depth=5, n_estimators=200, random_state=20, total=   0.3s\n",
            "[CV] max_depth=5, n_estimators=200, random_state=20 ..................\n",
            "[CV] ... max_depth=5, n_estimators=200, random_state=20, total=   0.3s\n",
            "[CV] max_depth=5, n_estimators=200, random_state=20 ..................\n",
            "[CV] ... max_depth=5, n_estimators=200, random_state=20, total=   0.3s\n",
            "[CV] max_depth=5, n_estimators=200, random_state=20 ..................\n",
            "[CV] ... max_depth=5, n_estimators=200, random_state=20, total=   0.3s\n",
            "[CV] max_depth=5, n_estimators=200, random_state=50 ..................\n",
            "[CV] ... max_depth=5, n_estimators=200, random_state=50, total=   0.3s\n",
            "[CV] max_depth=5, n_estimators=200, random_state=50 ..................\n",
            "[CV] ... max_depth=5, n_estimators=200, random_state=50, total=   0.3s\n",
            "[CV] max_depth=5, n_estimators=200, random_state=50 ..................\n",
            "[CV] ... max_depth=5, n_estimators=200, random_state=50, total=   0.3s\n",
            "[CV] max_depth=5, n_estimators=200, random_state=50 ..................\n",
            "[CV] ... max_depth=5, n_estimators=200, random_state=50, total=   0.3s\n",
            "[CV] max_depth=5, n_estimators=200, random_state=50 ..................\n",
            "[CV] ... max_depth=5, n_estimators=200, random_state=50, total=   0.3s\n",
            "[CV] max_depth=5, n_estimators=200, random_state=42 ..................\n",
            "[CV] ... max_depth=5, n_estimators=200, random_state=42, total=   0.3s\n",
            "[CV] max_depth=5, n_estimators=200, random_state=42 ..................\n",
            "[CV] ... max_depth=5, n_estimators=200, random_state=42, total=   0.3s\n",
            "[CV] max_depth=5, n_estimators=200, random_state=42 ..................\n",
            "[CV] ... max_depth=5, n_estimators=200, random_state=42, total=   0.3s\n",
            "[CV] max_depth=5, n_estimators=200, random_state=42 ..................\n",
            "[CV] ... max_depth=5, n_estimators=200, random_state=42, total=   0.3s\n",
            "[CV] max_depth=5, n_estimators=200, random_state=42 ..................\n",
            "[CV] ... max_depth=5, n_estimators=200, random_state=42, total=   0.3s\n",
            "[CV] max_depth=5, n_estimators=200, random_state=100 .................\n",
            "[CV] .. max_depth=5, n_estimators=200, random_state=100, total=   0.3s\n",
            "[CV] max_depth=5, n_estimators=200, random_state=100 .................\n",
            "[CV] .. max_depth=5, n_estimators=200, random_state=100, total=   0.3s\n",
            "[CV] max_depth=5, n_estimators=200, random_state=100 .................\n",
            "[CV] .. max_depth=5, n_estimators=200, random_state=100, total=   0.3s\n",
            "[CV] max_depth=5, n_estimators=200, random_state=100 .................\n",
            "[CV] .. max_depth=5, n_estimators=200, random_state=100, total=   0.3s\n",
            "[CV] max_depth=5, n_estimators=200, random_state=100 .................\n",
            "[CV] .. max_depth=5, n_estimators=200, random_state=100, total=   0.3s\n",
            "[CV] max_depth=10, n_estimators=50, random_state=20 ..................\n",
            "[CV] ... max_depth=10, n_estimators=50, random_state=20, total=   0.1s\n",
            "[CV] max_depth=10, n_estimators=50, random_state=20 ..................\n",
            "[CV] ... max_depth=10, n_estimators=50, random_state=20, total=   0.1s\n",
            "[CV] max_depth=10, n_estimators=50, random_state=20 ..................\n",
            "[CV] ... max_depth=10, n_estimators=50, random_state=20, total=   0.1s\n",
            "[CV] max_depth=10, n_estimators=50, random_state=20 ..................\n",
            "[CV] ... max_depth=10, n_estimators=50, random_state=20, total=   0.1s\n",
            "[CV] max_depth=10, n_estimators=50, random_state=20 ..................\n",
            "[CV] ... max_depth=10, n_estimators=50, random_state=20, total=   0.1s\n",
            "[CV] max_depth=10, n_estimators=50, random_state=50 ..................\n",
            "[CV] ... max_depth=10, n_estimators=50, random_state=50, total=   0.1s\n",
            "[CV] max_depth=10, n_estimators=50, random_state=50 ..................\n",
            "[CV] ... max_depth=10, n_estimators=50, random_state=50, total=   0.1s\n",
            "[CV] max_depth=10, n_estimators=50, random_state=50 ..................\n",
            "[CV] ... max_depth=10, n_estimators=50, random_state=50, total=   0.1s\n",
            "[CV] max_depth=10, n_estimators=50, random_state=50 ..................\n",
            "[CV] ... max_depth=10, n_estimators=50, random_state=50, total=   0.1s\n",
            "[CV] max_depth=10, n_estimators=50, random_state=50 ..................\n",
            "[CV] ... max_depth=10, n_estimators=50, random_state=50, total=   0.1s\n",
            "[CV] max_depth=10, n_estimators=50, random_state=42 ..................\n",
            "[CV] ... max_depth=10, n_estimators=50, random_state=42, total=   0.1s\n",
            "[CV] max_depth=10, n_estimators=50, random_state=42 ..................\n",
            "[CV] ... max_depth=10, n_estimators=50, random_state=42, total=   0.1s\n",
            "[CV] max_depth=10, n_estimators=50, random_state=42 ..................\n",
            "[CV] ... max_depth=10, n_estimators=50, random_state=42, total=   0.1s\n",
            "[CV] max_depth=10, n_estimators=50, random_state=42 ..................\n",
            "[CV] ... max_depth=10, n_estimators=50, random_state=42, total=   0.1s\n",
            "[CV] max_depth=10, n_estimators=50, random_state=42 ..................\n",
            "[CV] ... max_depth=10, n_estimators=50, random_state=42, total=   0.1s\n",
            "[CV] max_depth=10, n_estimators=50, random_state=100 .................\n",
            "[CV] .. max_depth=10, n_estimators=50, random_state=100, total=   0.1s\n",
            "[CV] max_depth=10, n_estimators=50, random_state=100 .................\n",
            "[CV] .. max_depth=10, n_estimators=50, random_state=100, total=   0.1s\n",
            "[CV] max_depth=10, n_estimators=50, random_state=100 .................\n",
            "[CV] .. max_depth=10, n_estimators=50, random_state=100, total=   0.1s\n",
            "[CV] max_depth=10, n_estimators=50, random_state=100 .................\n",
            "[CV] .. max_depth=10, n_estimators=50, random_state=100, total=   0.1s\n",
            "[CV] max_depth=10, n_estimators=50, random_state=100 .................\n",
            "[CV] .. max_depth=10, n_estimators=50, random_state=100, total=   0.1s\n",
            "[CV] max_depth=10, n_estimators=100, random_state=20 .................\n",
            "[CV] .. max_depth=10, n_estimators=100, random_state=20, total=   0.2s\n",
            "[CV] max_depth=10, n_estimators=100, random_state=20 .................\n",
            "[CV] .. max_depth=10, n_estimators=100, random_state=20, total=   0.2s\n",
            "[CV] max_depth=10, n_estimators=100, random_state=20 .................\n",
            "[CV] .. max_depth=10, n_estimators=100, random_state=20, total=   0.2s\n",
            "[CV] max_depth=10, n_estimators=100, random_state=20 .................\n",
            "[CV] .. max_depth=10, n_estimators=100, random_state=20, total=   0.2s\n",
            "[CV] max_depth=10, n_estimators=100, random_state=20 .................\n",
            "[CV] .. max_depth=10, n_estimators=100, random_state=20, total=   0.2s\n",
            "[CV] max_depth=10, n_estimators=100, random_state=50 .................\n",
            "[CV] .. max_depth=10, n_estimators=100, random_state=50, total=   0.2s\n",
            "[CV] max_depth=10, n_estimators=100, random_state=50 .................\n",
            "[CV] .. max_depth=10, n_estimators=100, random_state=50, total=   0.2s\n",
            "[CV] max_depth=10, n_estimators=100, random_state=50 .................\n",
            "[CV] .. max_depth=10, n_estimators=100, random_state=50, total=   0.2s\n",
            "[CV] max_depth=10, n_estimators=100, random_state=50 .................\n",
            "[CV] .. max_depth=10, n_estimators=100, random_state=50, total=   0.2s\n",
            "[CV] max_depth=10, n_estimators=100, random_state=50 .................\n",
            "[CV] .. max_depth=10, n_estimators=100, random_state=50, total=   0.2s\n",
            "[CV] max_depth=10, n_estimators=100, random_state=42 .................\n",
            "[CV] .. max_depth=10, n_estimators=100, random_state=42, total=   0.2s\n",
            "[CV] max_depth=10, n_estimators=100, random_state=42 .................\n",
            "[CV] .. max_depth=10, n_estimators=100, random_state=42, total=   0.2s\n",
            "[CV] max_depth=10, n_estimators=100, random_state=42 .................\n",
            "[CV] .. max_depth=10, n_estimators=100, random_state=42, total=   0.2s\n",
            "[CV] max_depth=10, n_estimators=100, random_state=42 .................\n",
            "[CV] .. max_depth=10, n_estimators=100, random_state=42, total=   0.2s\n",
            "[CV] max_depth=10, n_estimators=100, random_state=42 .................\n",
            "[CV] .. max_depth=10, n_estimators=100, random_state=42, total=   0.2s\n",
            "[CV] max_depth=10, n_estimators=100, random_state=100 ................\n",
            "[CV] . max_depth=10, n_estimators=100, random_state=100, total=   0.2s\n",
            "[CV] max_depth=10, n_estimators=100, random_state=100 ................\n",
            "[CV] . max_depth=10, n_estimators=100, random_state=100, total=   0.2s\n",
            "[CV] max_depth=10, n_estimators=100, random_state=100 ................\n",
            "[CV] . max_depth=10, n_estimators=100, random_state=100, total=   0.2s\n",
            "[CV] max_depth=10, n_estimators=100, random_state=100 ................\n",
            "[CV] . max_depth=10, n_estimators=100, random_state=100, total=   0.2s\n",
            "[CV] max_depth=10, n_estimators=100, random_state=100 ................\n",
            "[CV] . max_depth=10, n_estimators=100, random_state=100, total=   0.2s\n",
            "[CV] max_depth=10, n_estimators=150, random_state=20 .................\n",
            "[CV] .. max_depth=10, n_estimators=150, random_state=20, total=   0.3s\n",
            "[CV] max_depth=10, n_estimators=150, random_state=20 .................\n",
            "[CV] .. max_depth=10, n_estimators=150, random_state=20, total=   0.3s\n",
            "[CV] max_depth=10, n_estimators=150, random_state=20 .................\n",
            "[CV] .. max_depth=10, n_estimators=150, random_state=20, total=   0.3s\n",
            "[CV] max_depth=10, n_estimators=150, random_state=20 .................\n",
            "[CV] .. max_depth=10, n_estimators=150, random_state=20, total=   0.3s\n",
            "[CV] max_depth=10, n_estimators=150, random_state=20 .................\n",
            "[CV] .. max_depth=10, n_estimators=150, random_state=20, total=   0.3s\n",
            "[CV] max_depth=10, n_estimators=150, random_state=50 .................\n",
            "[CV] .. max_depth=10, n_estimators=150, random_state=50, total=   0.3s\n",
            "[CV] max_depth=10, n_estimators=150, random_state=50 .................\n",
            "[CV] .. max_depth=10, n_estimators=150, random_state=50, total=   0.3s\n",
            "[CV] max_depth=10, n_estimators=150, random_state=50 .................\n",
            "[CV] .. max_depth=10, n_estimators=150, random_state=50, total=   0.3s\n",
            "[CV] max_depth=10, n_estimators=150, random_state=50 .................\n",
            "[CV] .. max_depth=10, n_estimators=150, random_state=50, total=   0.3s\n",
            "[CV] max_depth=10, n_estimators=150, random_state=50 .................\n",
            "[CV] .. max_depth=10, n_estimators=150, random_state=50, total=   0.3s\n",
            "[CV] max_depth=10, n_estimators=150, random_state=42 .................\n",
            "[CV] .. max_depth=10, n_estimators=150, random_state=42, total=   0.3s\n",
            "[CV] max_depth=10, n_estimators=150, random_state=42 .................\n",
            "[CV] .. max_depth=10, n_estimators=150, random_state=42, total=   0.3s\n",
            "[CV] max_depth=10, n_estimators=150, random_state=42 .................\n",
            "[CV] .. max_depth=10, n_estimators=150, random_state=42, total=   0.3s\n",
            "[CV] max_depth=10, n_estimators=150, random_state=42 .................\n",
            "[CV] .. max_depth=10, n_estimators=150, random_state=42, total=   0.3s\n",
            "[CV] max_depth=10, n_estimators=150, random_state=42 .................\n",
            "[CV] .. max_depth=10, n_estimators=150, random_state=42, total=   0.3s\n",
            "[CV] max_depth=10, n_estimators=150, random_state=100 ................\n",
            "[CV] . max_depth=10, n_estimators=150, random_state=100, total=   0.3s\n",
            "[CV] max_depth=10, n_estimators=150, random_state=100 ................\n",
            "[CV] . max_depth=10, n_estimators=150, random_state=100, total=   0.3s\n",
            "[CV] max_depth=10, n_estimators=150, random_state=100 ................\n",
            "[CV] . max_depth=10, n_estimators=150, random_state=100, total=   0.3s\n",
            "[CV] max_depth=10, n_estimators=150, random_state=100 ................\n",
            "[CV] . max_depth=10, n_estimators=150, random_state=100, total=   0.3s\n",
            "[CV] max_depth=10, n_estimators=150, random_state=100 ................\n",
            "[CV] . max_depth=10, n_estimators=150, random_state=100, total=   0.3s\n",
            "[CV] max_depth=10, n_estimators=200, random_state=20 .................\n",
            "[CV] .. max_depth=10, n_estimators=200, random_state=20, total=   0.4s\n",
            "[CV] max_depth=10, n_estimators=200, random_state=20 .................\n",
            "[CV] .. max_depth=10, n_estimators=200, random_state=20, total=   0.4s\n",
            "[CV] max_depth=10, n_estimators=200, random_state=20 .................\n",
            "[CV] .. max_depth=10, n_estimators=200, random_state=20, total=   0.4s\n",
            "[CV] max_depth=10, n_estimators=200, random_state=20 .................\n",
            "[CV] .. max_depth=10, n_estimators=200, random_state=20, total=   0.4s\n",
            "[CV] max_depth=10, n_estimators=200, random_state=20 .................\n",
            "[CV] .. max_depth=10, n_estimators=200, random_state=20, total=   0.4s\n",
            "[CV] max_depth=10, n_estimators=200, random_state=50 .................\n",
            "[CV] .. max_depth=10, n_estimators=200, random_state=50, total=   0.4s\n",
            "[CV] max_depth=10, n_estimators=200, random_state=50 .................\n",
            "[CV] .. max_depth=10, n_estimators=200, random_state=50, total=   0.4s\n",
            "[CV] max_depth=10, n_estimators=200, random_state=50 .................\n",
            "[CV] .. max_depth=10, n_estimators=200, random_state=50, total=   0.4s\n",
            "[CV] max_depth=10, n_estimators=200, random_state=50 .................\n",
            "[CV] .. max_depth=10, n_estimators=200, random_state=50, total=   0.4s\n",
            "[CV] max_depth=10, n_estimators=200, random_state=50 .................\n",
            "[CV] .. max_depth=10, n_estimators=200, random_state=50, total=   0.4s\n",
            "[CV] max_depth=10, n_estimators=200, random_state=42 .................\n",
            "[CV] .. max_depth=10, n_estimators=200, random_state=42, total=   0.4s\n",
            "[CV] max_depth=10, n_estimators=200, random_state=42 .................\n",
            "[CV] .. max_depth=10, n_estimators=200, random_state=42, total=   0.4s\n",
            "[CV] max_depth=10, n_estimators=200, random_state=42 .................\n",
            "[CV] .. max_depth=10, n_estimators=200, random_state=42, total=   0.4s\n",
            "[CV] max_depth=10, n_estimators=200, random_state=42 .................\n",
            "[CV] .. max_depth=10, n_estimators=200, random_state=42, total=   0.4s\n",
            "[CV] max_depth=10, n_estimators=200, random_state=42 .................\n",
            "[CV] .. max_depth=10, n_estimators=200, random_state=42, total=   0.4s\n",
            "[CV] max_depth=10, n_estimators=200, random_state=100 ................\n",
            "[CV] . max_depth=10, n_estimators=200, random_state=100, total=   0.4s\n",
            "[CV] max_depth=10, n_estimators=200, random_state=100 ................\n",
            "[CV] . max_depth=10, n_estimators=200, random_state=100, total=   0.4s\n",
            "[CV] max_depth=10, n_estimators=200, random_state=100 ................\n",
            "[CV] . max_depth=10, n_estimators=200, random_state=100, total=   0.4s\n",
            "[CV] max_depth=10, n_estimators=200, random_state=100 ................\n",
            "[CV] . max_depth=10, n_estimators=200, random_state=100, total=   0.4s\n",
            "[CV] max_depth=10, n_estimators=200, random_state=100 ................\n",
            "[CV] . max_depth=10, n_estimators=200, random_state=100, total=   0.4s\n",
            "[CV] max_depth=15, n_estimators=50, random_state=20 ..................\n",
            "[CV] ... max_depth=15, n_estimators=50, random_state=20, total=   0.1s\n",
            "[CV] max_depth=15, n_estimators=50, random_state=20 ..................\n",
            "[CV] ... max_depth=15, n_estimators=50, random_state=20, total=   0.1s\n",
            "[CV] max_depth=15, n_estimators=50, random_state=20 ..................\n",
            "[CV] ... max_depth=15, n_estimators=50, random_state=20, total=   0.1s\n",
            "[CV] max_depth=15, n_estimators=50, random_state=20 ..................\n",
            "[CV] ... max_depth=15, n_estimators=50, random_state=20, total=   0.1s\n",
            "[CV] max_depth=15, n_estimators=50, random_state=20 ..................\n",
            "[CV] ... max_depth=15, n_estimators=50, random_state=20, total=   0.1s\n",
            "[CV] max_depth=15, n_estimators=50, random_state=50 ..................\n",
            "[CV] ... max_depth=15, n_estimators=50, random_state=50, total=   0.1s\n",
            "[CV] max_depth=15, n_estimators=50, random_state=50 ..................\n",
            "[CV] ... max_depth=15, n_estimators=50, random_state=50, total=   0.1s\n",
            "[CV] max_depth=15, n_estimators=50, random_state=50 ..................\n",
            "[CV] ... max_depth=15, n_estimators=50, random_state=50, total=   0.1s\n",
            "[CV] max_depth=15, n_estimators=50, random_state=50 ..................\n",
            "[CV] ... max_depth=15, n_estimators=50, random_state=50, total=   0.1s\n",
            "[CV] max_depth=15, n_estimators=50, random_state=50 ..................\n",
            "[CV] ... max_depth=15, n_estimators=50, random_state=50, total=   0.1s\n",
            "[CV] max_depth=15, n_estimators=50, random_state=42 ..................\n",
            "[CV] ... max_depth=15, n_estimators=50, random_state=42, total=   0.1s\n",
            "[CV] max_depth=15, n_estimators=50, random_state=42 ..................\n",
            "[CV] ... max_depth=15, n_estimators=50, random_state=42, total=   0.1s\n",
            "[CV] max_depth=15, n_estimators=50, random_state=42 ..................\n",
            "[CV] ... max_depth=15, n_estimators=50, random_state=42, total=   0.1s\n",
            "[CV] max_depth=15, n_estimators=50, random_state=42 ..................\n",
            "[CV] ... max_depth=15, n_estimators=50, random_state=42, total=   0.1s\n",
            "[CV] max_depth=15, n_estimators=50, random_state=42 ..................\n",
            "[CV] ... max_depth=15, n_estimators=50, random_state=42, total=   0.1s\n",
            "[CV] max_depth=15, n_estimators=50, random_state=100 .................\n",
            "[CV] .. max_depth=15, n_estimators=50, random_state=100, total=   0.1s\n",
            "[CV] max_depth=15, n_estimators=50, random_state=100 .................\n",
            "[CV] .. max_depth=15, n_estimators=50, random_state=100, total=   0.1s\n",
            "[CV] max_depth=15, n_estimators=50, random_state=100 .................\n",
            "[CV] .. max_depth=15, n_estimators=50, random_state=100, total=   0.1s\n",
            "[CV] max_depth=15, n_estimators=50, random_state=100 .................\n",
            "[CV] .. max_depth=15, n_estimators=50, random_state=100, total=   0.1s\n",
            "[CV] max_depth=15, n_estimators=50, random_state=100 .................\n",
            "[CV] .. max_depth=15, n_estimators=50, random_state=100, total=   0.1s\n",
            "[CV] max_depth=15, n_estimators=100, random_state=20 .................\n",
            "[CV] .. max_depth=15, n_estimators=100, random_state=20, total=   0.2s\n",
            "[CV] max_depth=15, n_estimators=100, random_state=20 .................\n",
            "[CV] .. max_depth=15, n_estimators=100, random_state=20, total=   0.2s\n",
            "[CV] max_depth=15, n_estimators=100, random_state=20 .................\n",
            "[CV] .. max_depth=15, n_estimators=100, random_state=20, total=   0.2s\n",
            "[CV] max_depth=15, n_estimators=100, random_state=20 .................\n",
            "[CV] .. max_depth=15, n_estimators=100, random_state=20, total=   0.2s\n",
            "[CV] max_depth=15, n_estimators=100, random_state=20 .................\n",
            "[CV] .. max_depth=15, n_estimators=100, random_state=20, total=   0.2s\n",
            "[CV] max_depth=15, n_estimators=100, random_state=50 .................\n",
            "[CV] .. max_depth=15, n_estimators=100, random_state=50, total=   0.2s\n",
            "[CV] max_depth=15, n_estimators=100, random_state=50 .................\n",
            "[CV] .. max_depth=15, n_estimators=100, random_state=50, total=   0.2s\n",
            "[CV] max_depth=15, n_estimators=100, random_state=50 .................\n",
            "[CV] .. max_depth=15, n_estimators=100, random_state=50, total=   0.2s\n",
            "[CV] max_depth=15, n_estimators=100, random_state=50 .................\n",
            "[CV] .. max_depth=15, n_estimators=100, random_state=50, total=   0.2s\n",
            "[CV] max_depth=15, n_estimators=100, random_state=50 .................\n",
            "[CV] .. max_depth=15, n_estimators=100, random_state=50, total=   0.2s\n",
            "[CV] max_depth=15, n_estimators=100, random_state=42 .................\n",
            "[CV] .. max_depth=15, n_estimators=100, random_state=42, total=   0.2s\n",
            "[CV] max_depth=15, n_estimators=100, random_state=42 .................\n",
            "[CV] .. max_depth=15, n_estimators=100, random_state=42, total=   0.2s\n",
            "[CV] max_depth=15, n_estimators=100, random_state=42 .................\n",
            "[CV] .. max_depth=15, n_estimators=100, random_state=42, total=   0.2s\n",
            "[CV] max_depth=15, n_estimators=100, random_state=42 .................\n",
            "[CV] .. max_depth=15, n_estimators=100, random_state=42, total=   0.2s\n",
            "[CV] max_depth=15, n_estimators=100, random_state=42 .................\n",
            "[CV] .. max_depth=15, n_estimators=100, random_state=42, total=   0.2s\n",
            "[CV] max_depth=15, n_estimators=100, random_state=100 ................\n",
            "[CV] . max_depth=15, n_estimators=100, random_state=100, total=   0.2s\n",
            "[CV] max_depth=15, n_estimators=100, random_state=100 ................\n",
            "[CV] . max_depth=15, n_estimators=100, random_state=100, total=   0.2s\n",
            "[CV] max_depth=15, n_estimators=100, random_state=100 ................\n",
            "[CV] . max_depth=15, n_estimators=100, random_state=100, total=   0.2s\n",
            "[CV] max_depth=15, n_estimators=100, random_state=100 ................\n",
            "[CV] . max_depth=15, n_estimators=100, random_state=100, total=   0.2s\n",
            "[CV] max_depth=15, n_estimators=100, random_state=100 ................\n",
            "[CV] . max_depth=15, n_estimators=100, random_state=100, total=   0.2s\n",
            "[CV] max_depth=15, n_estimators=150, random_state=20 .................\n",
            "[CV] .. max_depth=15, n_estimators=150, random_state=20, total=   0.3s\n",
            "[CV] max_depth=15, n_estimators=150, random_state=20 .................\n",
            "[CV] .. max_depth=15, n_estimators=150, random_state=20, total=   0.3s\n",
            "[CV] max_depth=15, n_estimators=150, random_state=20 .................\n",
            "[CV] .. max_depth=15, n_estimators=150, random_state=20, total=   0.3s\n",
            "[CV] max_depth=15, n_estimators=150, random_state=20 .................\n",
            "[CV] .. max_depth=15, n_estimators=150, random_state=20, total=   0.3s\n",
            "[CV] max_depth=15, n_estimators=150, random_state=20 .................\n",
            "[CV] .. max_depth=15, n_estimators=150, random_state=20, total=   0.3s\n",
            "[CV] max_depth=15, n_estimators=150, random_state=50 .................\n",
            "[CV] .. max_depth=15, n_estimators=150, random_state=50, total=   0.3s\n",
            "[CV] max_depth=15, n_estimators=150, random_state=50 .................\n",
            "[CV] .. max_depth=15, n_estimators=150, random_state=50, total=   0.3s\n",
            "[CV] max_depth=15, n_estimators=150, random_state=50 .................\n",
            "[CV] .. max_depth=15, n_estimators=150, random_state=50, total=   0.3s\n",
            "[CV] max_depth=15, n_estimators=150, random_state=50 .................\n",
            "[CV] .. max_depth=15, n_estimators=150, random_state=50, total=   0.3s\n",
            "[CV] max_depth=15, n_estimators=150, random_state=50 .................\n",
            "[CV] .. max_depth=15, n_estimators=150, random_state=50, total=   0.3s\n",
            "[CV] max_depth=15, n_estimators=150, random_state=42 .................\n",
            "[CV] .. max_depth=15, n_estimators=150, random_state=42, total=   0.3s\n",
            "[CV] max_depth=15, n_estimators=150, random_state=42 .................\n",
            "[CV] .. max_depth=15, n_estimators=150, random_state=42, total=   0.3s\n",
            "[CV] max_depth=15, n_estimators=150, random_state=42 .................\n",
            "[CV] .. max_depth=15, n_estimators=150, random_state=42, total=   0.3s\n",
            "[CV] max_depth=15, n_estimators=150, random_state=42 .................\n",
            "[CV] .. max_depth=15, n_estimators=150, random_state=42, total=   0.3s\n",
            "[CV] max_depth=15, n_estimators=150, random_state=42 .................\n",
            "[CV] .. max_depth=15, n_estimators=150, random_state=42, total=   0.3s\n",
            "[CV] max_depth=15, n_estimators=150, random_state=100 ................\n",
            "[CV] . max_depth=15, n_estimators=150, random_state=100, total=   0.3s\n",
            "[CV] max_depth=15, n_estimators=150, random_state=100 ................\n",
            "[CV] . max_depth=15, n_estimators=150, random_state=100, total=   0.3s\n",
            "[CV] max_depth=15, n_estimators=150, random_state=100 ................\n",
            "[CV] . max_depth=15, n_estimators=150, random_state=100, total=   0.3s\n",
            "[CV] max_depth=15, n_estimators=150, random_state=100 ................\n",
            "[CV] . max_depth=15, n_estimators=150, random_state=100, total=   0.3s\n",
            "[CV] max_depth=15, n_estimators=150, random_state=100 ................\n",
            "[CV] . max_depth=15, n_estimators=150, random_state=100, total=   0.3s\n",
            "[CV] max_depth=15, n_estimators=200, random_state=20 .................\n",
            "[CV] .. max_depth=15, n_estimators=200, random_state=20, total=   0.4s\n",
            "[CV] max_depth=15, n_estimators=200, random_state=20 .................\n",
            "[CV] .. max_depth=15, n_estimators=200, random_state=20, total=   0.4s\n",
            "[CV] max_depth=15, n_estimators=200, random_state=20 .................\n",
            "[CV] .. max_depth=15, n_estimators=200, random_state=20, total=   0.4s\n",
            "[CV] max_depth=15, n_estimators=200, random_state=20 .................\n",
            "[CV] .. max_depth=15, n_estimators=200, random_state=20, total=   0.4s\n",
            "[CV] max_depth=15, n_estimators=200, random_state=20 .................\n",
            "[CV] .. max_depth=15, n_estimators=200, random_state=20, total=   0.4s\n",
            "[CV] max_depth=15, n_estimators=200, random_state=50 .................\n",
            "[CV] .. max_depth=15, n_estimators=200, random_state=50, total=   0.4s\n",
            "[CV] max_depth=15, n_estimators=200, random_state=50 .................\n",
            "[CV] .. max_depth=15, n_estimators=200, random_state=50, total=   0.4s\n",
            "[CV] max_depth=15, n_estimators=200, random_state=50 .................\n",
            "[CV] .. max_depth=15, n_estimators=200, random_state=50, total=   0.4s\n",
            "[CV] max_depth=15, n_estimators=200, random_state=50 .................\n",
            "[CV] .. max_depth=15, n_estimators=200, random_state=50, total=   0.4s\n",
            "[CV] max_depth=15, n_estimators=200, random_state=50 .................\n",
            "[CV] .. max_depth=15, n_estimators=200, random_state=50, total=   0.4s\n",
            "[CV] max_depth=15, n_estimators=200, random_state=42 .................\n",
            "[CV] .. max_depth=15, n_estimators=200, random_state=42, total=   0.4s\n",
            "[CV] max_depth=15, n_estimators=200, random_state=42 .................\n",
            "[CV] .. max_depth=15, n_estimators=200, random_state=42, total=   0.4s\n",
            "[CV] max_depth=15, n_estimators=200, random_state=42 .................\n",
            "[CV] .. max_depth=15, n_estimators=200, random_state=42, total=   0.4s\n",
            "[CV] max_depth=15, n_estimators=200, random_state=42 .................\n",
            "[CV] .. max_depth=15, n_estimators=200, random_state=42, total=   0.4s\n",
            "[CV] max_depth=15, n_estimators=200, random_state=42 .................\n",
            "[CV] .. max_depth=15, n_estimators=200, random_state=42, total=   0.4s\n",
            "[CV] max_depth=15, n_estimators=200, random_state=100 ................\n",
            "[CV] . max_depth=15, n_estimators=200, random_state=100, total=   0.4s\n",
            "[CV] max_depth=15, n_estimators=200, random_state=100 ................\n",
            "[CV] . max_depth=15, n_estimators=200, random_state=100, total=   0.4s\n",
            "[CV] max_depth=15, n_estimators=200, random_state=100 ................\n",
            "[CV] . max_depth=15, n_estimators=200, random_state=100, total=   0.4s\n",
            "[CV] max_depth=15, n_estimators=200, random_state=100 ................\n",
            "[CV] . max_depth=15, n_estimators=200, random_state=100, total=   0.4s\n",
            "[CV] max_depth=15, n_estimators=200, random_state=100 ................\n",
            "[CV] . max_depth=15, n_estimators=200, random_state=100, total=   0.4s\n",
            "[CV] max_depth=30, n_estimators=50, random_state=20 ..................\n",
            "[CV] ... max_depth=30, n_estimators=50, random_state=20, total=   0.1s\n",
            "[CV] max_depth=30, n_estimators=50, random_state=20 ..................\n",
            "[CV] ... max_depth=30, n_estimators=50, random_state=20, total=   0.1s\n",
            "[CV] max_depth=30, n_estimators=50, random_state=20 ..................\n",
            "[CV] ... max_depth=30, n_estimators=50, random_state=20, total=   0.1s\n",
            "[CV] max_depth=30, n_estimators=50, random_state=20 ..................\n",
            "[CV] ... max_depth=30, n_estimators=50, random_state=20, total=   0.1s\n",
            "[CV] max_depth=30, n_estimators=50, random_state=20 ..................\n",
            "[CV] ... max_depth=30, n_estimators=50, random_state=20, total=   0.1s\n",
            "[CV] max_depth=30, n_estimators=50, random_state=50 ..................\n",
            "[CV] ... max_depth=30, n_estimators=50, random_state=50, total=   0.1s\n",
            "[CV] max_depth=30, n_estimators=50, random_state=50 ..................\n",
            "[CV] ... max_depth=30, n_estimators=50, random_state=50, total=   0.1s\n",
            "[CV] max_depth=30, n_estimators=50, random_state=50 ..................\n",
            "[CV] ... max_depth=30, n_estimators=50, random_state=50, total=   0.1s\n",
            "[CV] max_depth=30, n_estimators=50, random_state=50 ..................\n",
            "[CV] ... max_depth=30, n_estimators=50, random_state=50, total=   0.1s\n",
            "[CV] max_depth=30, n_estimators=50, random_state=50 ..................\n",
            "[CV] ... max_depth=30, n_estimators=50, random_state=50, total=   0.1s\n",
            "[CV] max_depth=30, n_estimators=50, random_state=42 ..................\n",
            "[CV] ... max_depth=30, n_estimators=50, random_state=42, total=   0.1s\n",
            "[CV] max_depth=30, n_estimators=50, random_state=42 ..................\n",
            "[CV] ... max_depth=30, n_estimators=50, random_state=42, total=   0.1s\n",
            "[CV] max_depth=30, n_estimators=50, random_state=42 ..................\n",
            "[CV] ... max_depth=30, n_estimators=50, random_state=42, total=   0.1s\n",
            "[CV] max_depth=30, n_estimators=50, random_state=42 ..................\n",
            "[CV] ... max_depth=30, n_estimators=50, random_state=42, total=   0.1s\n",
            "[CV] max_depth=30, n_estimators=50, random_state=42 ..................\n",
            "[CV] ... max_depth=30, n_estimators=50, random_state=42, total=   0.1s\n",
            "[CV] max_depth=30, n_estimators=50, random_state=100 .................\n",
            "[CV] .. max_depth=30, n_estimators=50, random_state=100, total=   0.1s\n",
            "[CV] max_depth=30, n_estimators=50, random_state=100 .................\n",
            "[CV] .. max_depth=30, n_estimators=50, random_state=100, total=   0.1s\n",
            "[CV] max_depth=30, n_estimators=50, random_state=100 .................\n",
            "[CV] .. max_depth=30, n_estimators=50, random_state=100, total=   0.1s\n",
            "[CV] max_depth=30, n_estimators=50, random_state=100 .................\n",
            "[CV] .. max_depth=30, n_estimators=50, random_state=100, total=   0.1s\n",
            "[CV] max_depth=30, n_estimators=50, random_state=100 .................\n",
            "[CV] .. max_depth=30, n_estimators=50, random_state=100, total=   0.1s\n",
            "[CV] max_depth=30, n_estimators=100, random_state=20 .................\n",
            "[CV] .. max_depth=30, n_estimators=100, random_state=20, total=   0.2s\n",
            "[CV] max_depth=30, n_estimators=100, random_state=20 .................\n",
            "[CV] .. max_depth=30, n_estimators=100, random_state=20, total=   0.2s\n",
            "[CV] max_depth=30, n_estimators=100, random_state=20 .................\n",
            "[CV] .. max_depth=30, n_estimators=100, random_state=20, total=   0.2s\n",
            "[CV] max_depth=30, n_estimators=100, random_state=20 .................\n",
            "[CV] .. max_depth=30, n_estimators=100, random_state=20, total=   0.2s\n",
            "[CV] max_depth=30, n_estimators=100, random_state=20 .................\n",
            "[CV] .. max_depth=30, n_estimators=100, random_state=20, total=   0.2s\n",
            "[CV] max_depth=30, n_estimators=100, random_state=50 .................\n",
            "[CV] .. max_depth=30, n_estimators=100, random_state=50, total=   0.2s\n",
            "[CV] max_depth=30, n_estimators=100, random_state=50 .................\n",
            "[CV] .. max_depth=30, n_estimators=100, random_state=50, total=   0.2s\n",
            "[CV] max_depth=30, n_estimators=100, random_state=50 .................\n",
            "[CV] .. max_depth=30, n_estimators=100, random_state=50, total=   0.2s\n",
            "[CV] max_depth=30, n_estimators=100, random_state=50 .................\n",
            "[CV] .. max_depth=30, n_estimators=100, random_state=50, total=   0.2s\n",
            "[CV] max_depth=30, n_estimators=100, random_state=50 .................\n",
            "[CV] .. max_depth=30, n_estimators=100, random_state=50, total=   0.2s\n",
            "[CV] max_depth=30, n_estimators=100, random_state=42 .................\n",
            "[CV] .. max_depth=30, n_estimators=100, random_state=42, total=   0.2s\n",
            "[CV] max_depth=30, n_estimators=100, random_state=42 .................\n",
            "[CV] .. max_depth=30, n_estimators=100, random_state=42, total=   0.2s\n",
            "[CV] max_depth=30, n_estimators=100, random_state=42 .................\n",
            "[CV] .. max_depth=30, n_estimators=100, random_state=42, total=   0.2s\n",
            "[CV] max_depth=30, n_estimators=100, random_state=42 .................\n",
            "[CV] .. max_depth=30, n_estimators=100, random_state=42, total=   0.2s\n",
            "[CV] max_depth=30, n_estimators=100, random_state=42 .................\n",
            "[CV] .. max_depth=30, n_estimators=100, random_state=42, total=   0.2s\n",
            "[CV] max_depth=30, n_estimators=100, random_state=100 ................\n",
            "[CV] . max_depth=30, n_estimators=100, random_state=100, total=   0.2s\n",
            "[CV] max_depth=30, n_estimators=100, random_state=100 ................\n",
            "[CV] . max_depth=30, n_estimators=100, random_state=100, total=   0.2s\n",
            "[CV] max_depth=30, n_estimators=100, random_state=100 ................\n",
            "[CV] . max_depth=30, n_estimators=100, random_state=100, total=   0.2s\n",
            "[CV] max_depth=30, n_estimators=100, random_state=100 ................\n",
            "[CV] . max_depth=30, n_estimators=100, random_state=100, total=   0.2s\n",
            "[CV] max_depth=30, n_estimators=100, random_state=100 ................\n",
            "[CV] . max_depth=30, n_estimators=100, random_state=100, total=   0.2s\n",
            "[CV] max_depth=30, n_estimators=150, random_state=20 .................\n",
            "[CV] .. max_depth=30, n_estimators=150, random_state=20, total=   0.3s\n",
            "[CV] max_depth=30, n_estimators=150, random_state=20 .................\n",
            "[CV] .. max_depth=30, n_estimators=150, random_state=20, total=   0.3s\n",
            "[CV] max_depth=30, n_estimators=150, random_state=20 .................\n",
            "[CV] .. max_depth=30, n_estimators=150, random_state=20, total=   0.3s\n",
            "[CV] max_depth=30, n_estimators=150, random_state=20 .................\n",
            "[CV] .. max_depth=30, n_estimators=150, random_state=20, total=   0.3s\n",
            "[CV] max_depth=30, n_estimators=150, random_state=20 .................\n",
            "[CV] .. max_depth=30, n_estimators=150, random_state=20, total=   0.3s\n",
            "[CV] max_depth=30, n_estimators=150, random_state=50 .................\n",
            "[CV] .. max_depth=30, n_estimators=150, random_state=50, total=   0.3s\n",
            "[CV] max_depth=30, n_estimators=150, random_state=50 .................\n",
            "[CV] .. max_depth=30, n_estimators=150, random_state=50, total=   0.3s\n",
            "[CV] max_depth=30, n_estimators=150, random_state=50 .................\n",
            "[CV] .. max_depth=30, n_estimators=150, random_state=50, total=   0.3s\n",
            "[CV] max_depth=30, n_estimators=150, random_state=50 .................\n",
            "[CV] .. max_depth=30, n_estimators=150, random_state=50, total=   0.3s\n",
            "[CV] max_depth=30, n_estimators=150, random_state=50 .................\n",
            "[CV] .. max_depth=30, n_estimators=150, random_state=50, total=   0.3s\n",
            "[CV] max_depth=30, n_estimators=150, random_state=42 .................\n",
            "[CV] .. max_depth=30, n_estimators=150, random_state=42, total=   0.3s\n",
            "[CV] max_depth=30, n_estimators=150, random_state=42 .................\n",
            "[CV] .. max_depth=30, n_estimators=150, random_state=42, total=   0.3s\n",
            "[CV] max_depth=30, n_estimators=150, random_state=42 .................\n",
            "[CV] .. max_depth=30, n_estimators=150, random_state=42, total=   0.3s\n",
            "[CV] max_depth=30, n_estimators=150, random_state=42 .................\n",
            "[CV] .. max_depth=30, n_estimators=150, random_state=42, total=   0.3s\n",
            "[CV] max_depth=30, n_estimators=150, random_state=42 .................\n",
            "[CV] .. max_depth=30, n_estimators=150, random_state=42, total=   0.3s\n",
            "[CV] max_depth=30, n_estimators=150, random_state=100 ................\n",
            "[CV] . max_depth=30, n_estimators=150, random_state=100, total=   0.3s\n",
            "[CV] max_depth=30, n_estimators=150, random_state=100 ................\n",
            "[CV] . max_depth=30, n_estimators=150, random_state=100, total=   0.3s\n",
            "[CV] max_depth=30, n_estimators=150, random_state=100 ................\n",
            "[CV] . max_depth=30, n_estimators=150, random_state=100, total=   0.3s\n",
            "[CV] max_depth=30, n_estimators=150, random_state=100 ................\n",
            "[CV] . max_depth=30, n_estimators=150, random_state=100, total=   0.3s\n",
            "[CV] max_depth=30, n_estimators=150, random_state=100 ................\n",
            "[CV] . max_depth=30, n_estimators=150, random_state=100, total=   0.3s\n",
            "[CV] max_depth=30, n_estimators=200, random_state=20 .................\n",
            "[CV] .. max_depth=30, n_estimators=200, random_state=20, total=   0.4s\n",
            "[CV] max_depth=30, n_estimators=200, random_state=20 .................\n",
            "[CV] .. max_depth=30, n_estimators=200, random_state=20, total=   0.4s\n",
            "[CV] max_depth=30, n_estimators=200, random_state=20 .................\n",
            "[CV] .. max_depth=30, n_estimators=200, random_state=20, total=   0.4s\n",
            "[CV] max_depth=30, n_estimators=200, random_state=20 .................\n",
            "[CV] .. max_depth=30, n_estimators=200, random_state=20, total=   0.4s\n",
            "[CV] max_depth=30, n_estimators=200, random_state=20 .................\n",
            "[CV] .. max_depth=30, n_estimators=200, random_state=20, total=   0.4s\n",
            "[CV] max_depth=30, n_estimators=200, random_state=50 .................\n",
            "[CV] .. max_depth=30, n_estimators=200, random_state=50, total=   0.4s\n",
            "[CV] max_depth=30, n_estimators=200, random_state=50 .................\n",
            "[CV] .. max_depth=30, n_estimators=200, random_state=50, total=   0.4s\n",
            "[CV] max_depth=30, n_estimators=200, random_state=50 .................\n",
            "[CV] .. max_depth=30, n_estimators=200, random_state=50, total=   0.4s\n",
            "[CV] max_depth=30, n_estimators=200, random_state=50 .................\n",
            "[CV] .. max_depth=30, n_estimators=200, random_state=50, total=   0.4s\n",
            "[CV] max_depth=30, n_estimators=200, random_state=50 .................\n",
            "[CV] .. max_depth=30, n_estimators=200, random_state=50, total=   0.4s\n",
            "[CV] max_depth=30, n_estimators=200, random_state=42 .................\n",
            "[CV] .. max_depth=30, n_estimators=200, random_state=42, total=   0.4s\n",
            "[CV] max_depth=30, n_estimators=200, random_state=42 .................\n",
            "[CV] .. max_depth=30, n_estimators=200, random_state=42, total=   0.4s\n",
            "[CV] max_depth=30, n_estimators=200, random_state=42 .................\n",
            "[CV] .. max_depth=30, n_estimators=200, random_state=42, total=   0.4s\n",
            "[CV] max_depth=30, n_estimators=200, random_state=42 .................\n",
            "[CV] .. max_depth=30, n_estimators=200, random_state=42, total=   0.4s\n",
            "[CV] max_depth=30, n_estimators=200, random_state=42 .................\n",
            "[CV] .. max_depth=30, n_estimators=200, random_state=42, total=   0.4s\n",
            "[CV] max_depth=30, n_estimators=200, random_state=100 ................\n",
            "[CV] . max_depth=30, n_estimators=200, random_state=100, total=   0.4s\n",
            "[CV] max_depth=30, n_estimators=200, random_state=100 ................\n",
            "[CV] . max_depth=30, n_estimators=200, random_state=100, total=   0.4s\n",
            "[CV] max_depth=30, n_estimators=200, random_state=100 ................\n",
            "[CV] . max_depth=30, n_estimators=200, random_state=100, total=   0.4s\n",
            "[CV] max_depth=30, n_estimators=200, random_state=100 ................\n",
            "[CV] . max_depth=30, n_estimators=200, random_state=100, total=   0.4s\n",
            "[CV] max_depth=30, n_estimators=200, random_state=100 ................\n",
            "[CV] . max_depth=30, n_estimators=200, random_state=100, total=   0.4s\n"
          ],
          "name": "stdout"
        },
        {
          "output_type": "stream",
          "text": [
            "[Parallel(n_jobs=1)]: Done 400 out of 400 | elapsed:  1.5min finished\n"
          ],
          "name": "stderr"
        }
      ]
    },
    {
      "cell_type": "code",
      "metadata": {
        "id": "dqq9NJATD-9o",
        "outputId": "feb9ac9d-e99d-4404-a01d-1e9afbf7b0af",
        "colab": {
          "base_uri": "https://localhost:8080/",
          "height": 145
        }
      },
      "source": [
        "grid.best_estimator_"
      ],
      "execution_count": null,
      "outputs": [
        {
          "output_type": "execute_result",
          "data": {
            "text/plain": [
              "RandomForestRegressor(bootstrap=True, ccp_alpha=0.0, criterion='mse',\n",
              "                      max_depth=5, max_features='auto', max_leaf_nodes=None,\n",
              "                      max_samples=None, min_impurity_decrease=0.0,\n",
              "                      min_impurity_split=None, min_samples_leaf=1,\n",
              "                      min_samples_split=2, min_weight_fraction_leaf=0.0,\n",
              "                      n_estimators=150, n_jobs=None, oob_score=False,\n",
              "                      random_state=50, verbose=0, warm_start=False)"
            ]
          },
          "metadata": {
            "tags": []
          },
          "execution_count": 117
        }
      ]
    },
    {
      "cell_type": "code",
      "metadata": {
        "id": "HjW3Gi5jEKZ-",
        "outputId": "9be5b881-f794-4bdd-ea7b-38665fbdbfb0",
        "colab": {
          "base_uri": "https://localhost:8080/",
          "height": 35
        }
      },
      "source": [
        "grid.best_params_"
      ],
      "execution_count": null,
      "outputs": [
        {
          "output_type": "execute_result",
          "data": {
            "text/plain": [
              "{'max_depth': 5, 'n_estimators': 150, 'random_state': 50}"
            ]
          },
          "metadata": {
            "tags": []
          },
          "execution_count": 118
        }
      ]
    },
    {
      "cell_type": "code",
      "metadata": {
        "id": "-BtgKyw4EOWt",
        "outputId": "68795641-372e-4a8d-baf6-48306de12890",
        "colab": {
          "base_uri": "https://localhost:8080/",
          "height": 35
        }
      },
      "source": [
        "grid.best_score_"
      ],
      "execution_count": null,
      "outputs": [
        {
          "output_type": "execute_result",
          "data": {
            "text/plain": [
              "0.7308914131005916"
            ]
          },
          "metadata": {
            "tags": []
          },
          "execution_count": 119
        }
      ]
    },
    {
      "cell_type": "code",
      "metadata": {
        "id": "X3AMj4N6EUdX"
      },
      "source": [
        "resultados_cv = pd.DataFrame(grid.cv_results_)"
      ],
      "execution_count": null,
      "outputs": []
    },
    {
      "cell_type": "code",
      "metadata": {
        "id": "TMV1Ex35EgIT",
        "outputId": "5eceb5c1-5bea-4565-f279-ee454653c89a",
        "colab": {
          "base_uri": "https://localhost:8080/",
          "height": 564
        }
      },
      "source": [
        "resultados_cv.head()"
      ],
      "execution_count": null,
      "outputs": [
        {
          "output_type": "execute_result",
          "data": {
            "text/html": [
              "<div>\n",
              "<style scoped>\n",
              "    .dataframe tbody tr th:only-of-type {\n",
              "        vertical-align: middle;\n",
              "    }\n",
              "\n",
              "    .dataframe tbody tr th {\n",
              "        vertical-align: top;\n",
              "    }\n",
              "\n",
              "    .dataframe thead th {\n",
              "        text-align: right;\n",
              "    }\n",
              "</style>\n",
              "<table border=\"1\" class=\"dataframe\">\n",
              "  <thead>\n",
              "    <tr style=\"text-align: right;\">\n",
              "      <th></th>\n",
              "      <th>mean_fit_time</th>\n",
              "      <th>std_fit_time</th>\n",
              "      <th>mean_score_time</th>\n",
              "      <th>std_score_time</th>\n",
              "      <th>param_max_depth</th>\n",
              "      <th>param_n_estimators</th>\n",
              "      <th>param_random_state</th>\n",
              "      <th>params</th>\n",
              "      <th>split0_test_score</th>\n",
              "      <th>split1_test_score</th>\n",
              "      <th>split2_test_score</th>\n",
              "      <th>split3_test_score</th>\n",
              "      <th>split4_test_score</th>\n",
              "      <th>mean_test_score</th>\n",
              "      <th>std_test_score</th>\n",
              "      <th>rank_test_score</th>\n",
              "    </tr>\n",
              "  </thead>\n",
              "  <tbody>\n",
              "    <tr>\n",
              "      <th>0</th>\n",
              "      <td>0.067104</td>\n",
              "      <td>0.003118</td>\n",
              "      <td>0.004874</td>\n",
              "      <td>0.000085</td>\n",
              "      <td>3</td>\n",
              "      <td>50</td>\n",
              "      <td>20</td>\n",
              "      <td>{'max_depth': 3, 'n_estimators': 50, 'random_s...</td>\n",
              "      <td>0.795232</td>\n",
              "      <td>0.784045</td>\n",
              "      <td>0.566785</td>\n",
              "      <td>0.670506</td>\n",
              "      <td>0.735295</td>\n",
              "      <td>0.710373</td>\n",
              "      <td>0.084210</td>\n",
              "      <td>32</td>\n",
              "    </tr>\n",
              "    <tr>\n",
              "      <th>1</th>\n",
              "      <td>0.067978</td>\n",
              "      <td>0.004434</td>\n",
              "      <td>0.005036</td>\n",
              "      <td>0.000320</td>\n",
              "      <td>3</td>\n",
              "      <td>50</td>\n",
              "      <td>50</td>\n",
              "      <td>{'max_depth': 3, 'n_estimators': 50, 'random_s...</td>\n",
              "      <td>0.792607</td>\n",
              "      <td>0.778388</td>\n",
              "      <td>0.577368</td>\n",
              "      <td>0.674995</td>\n",
              "      <td>0.735924</td>\n",
              "      <td>0.711856</td>\n",
              "      <td>0.078705</td>\n",
              "      <td>30</td>\n",
              "    </tr>\n",
              "    <tr>\n",
              "      <th>2</th>\n",
              "      <td>0.070554</td>\n",
              "      <td>0.005700</td>\n",
              "      <td>0.004989</td>\n",
              "      <td>0.000102</td>\n",
              "      <td>3</td>\n",
              "      <td>50</td>\n",
              "      <td>42</td>\n",
              "      <td>{'max_depth': 3, 'n_estimators': 50, 'random_s...</td>\n",
              "      <td>0.798134</td>\n",
              "      <td>0.785751</td>\n",
              "      <td>0.569082</td>\n",
              "      <td>0.681580</td>\n",
              "      <td>0.730672</td>\n",
              "      <td>0.713044</td>\n",
              "      <td>0.083129</td>\n",
              "      <td>26</td>\n",
              "    </tr>\n",
              "    <tr>\n",
              "      <th>3</th>\n",
              "      <td>0.067914</td>\n",
              "      <td>0.002493</td>\n",
              "      <td>0.005062</td>\n",
              "      <td>0.000213</td>\n",
              "      <td>3</td>\n",
              "      <td>50</td>\n",
              "      <td>100</td>\n",
              "      <td>{'max_depth': 3, 'n_estimators': 50, 'random_s...</td>\n",
              "      <td>0.799395</td>\n",
              "      <td>0.784328</td>\n",
              "      <td>0.561778</td>\n",
              "      <td>0.673394</td>\n",
              "      <td>0.738331</td>\n",
              "      <td>0.711445</td>\n",
              "      <td>0.086739</td>\n",
              "      <td>31</td>\n",
              "    </tr>\n",
              "    <tr>\n",
              "      <th>4</th>\n",
              "      <td>0.139043</td>\n",
              "      <td>0.008863</td>\n",
              "      <td>0.008450</td>\n",
              "      <td>0.000655</td>\n",
              "      <td>3</td>\n",
              "      <td>100</td>\n",
              "      <td>20</td>\n",
              "      <td>{'max_depth': 3, 'n_estimators': 100, 'random_...</td>\n",
              "      <td>0.796708</td>\n",
              "      <td>0.787608</td>\n",
              "      <td>0.570380</td>\n",
              "      <td>0.674642</td>\n",
              "      <td>0.737045</td>\n",
              "      <td>0.713277</td>\n",
              "      <td>0.083622</td>\n",
              "      <td>23</td>\n",
              "    </tr>\n",
              "  </tbody>\n",
              "</table>\n",
              "</div>"
            ],
            "text/plain": [
              "   mean_fit_time  std_fit_time  ...  std_test_score  rank_test_score\n",
              "0       0.067104      0.003118  ...        0.084210               32\n",
              "1       0.067978      0.004434  ...        0.078705               30\n",
              "2       0.070554      0.005700  ...        0.083129               26\n",
              "3       0.067914      0.002493  ...        0.086739               31\n",
              "4       0.139043      0.008863  ...        0.083622               23\n",
              "\n",
              "[5 rows x 16 columns]"
            ]
          },
          "metadata": {
            "tags": []
          },
          "execution_count": 114
        }
      ]
    },
    {
      "cell_type": "markdown",
      "metadata": {
        "id": "1H7TV1YKIDn3"
      },
      "source": [
        "# Versão alternativa do grid search"
      ]
    },
    {
      "cell_type": "code",
      "metadata": {
        "id": "19MeJqblJOMK"
      },
      "source": [
        "rf = RandomForestRegressor()"
      ],
      "execution_count": 62,
      "outputs": []
    },
    {
      "cell_type": "code",
      "metadata": {
        "id": "SJluuouKIHNO"
      },
      "source": [
        "# 42, 1, 100, 0 .... # vemos na próxima aula\n",
        "from sklearn.model_selection import GridSearchCV\n",
        "\n",
        "parametros = {'n_estimators':[10, 20, 50, 100],\n",
        "              'max_depth': [5, 10, 20],\n",
        "              'random_state': [5, 10, 42, 100, 200]}\n",
        "\n",
        "rfr_tunado = GridSearchCV(rf, parametros, verbose=1)"
      ],
      "execution_count": 63,
      "outputs": []
    },
    {
      "cell_type": "code",
      "metadata": {
        "id": "0gpS2TDRIhDs",
        "outputId": "bf108b3a-feb5-44a6-e160-4076d7ef43a1",
        "colab": {
          "base_uri": "https://localhost:8080/",
          "height": 435
        }
      },
      "source": [
        "rfr_tunado.fit(X_treino, y_treino)"
      ],
      "execution_count": 65,
      "outputs": [
        {
          "output_type": "stream",
          "text": [
            "Fitting 5 folds for each of 60 candidates, totalling 300 fits\n"
          ],
          "name": "stdout"
        },
        {
          "output_type": "stream",
          "text": [
            "[Parallel(n_jobs=1)]: Using backend SequentialBackend with 1 concurrent workers.\n",
            "[Parallel(n_jobs=1)]: Done 300 out of 300 | elapsed:   23.8s finished\n"
          ],
          "name": "stderr"
        },
        {
          "output_type": "execute_result",
          "data": {
            "text/plain": [
              "GridSearchCV(cv=None, error_score=nan,\n",
              "             estimator=RandomForestRegressor(bootstrap=True, ccp_alpha=0.0,\n",
              "                                             criterion='mse', max_depth=None,\n",
              "                                             max_features='auto',\n",
              "                                             max_leaf_nodes=None,\n",
              "                                             max_samples=None,\n",
              "                                             min_impurity_decrease=0.0,\n",
              "                                             min_impurity_split=None,\n",
              "                                             min_samples_leaf=1,\n",
              "                                             min_samples_split=2,\n",
              "                                             min_weight_fraction_leaf=0.0,\n",
              "                                             n_estimators=100, n_jobs=None,\n",
              "                                             oob_score=False, random_state=None,\n",
              "                                             verbose=0, warm_start=False),\n",
              "             iid='deprecated', n_jobs=None,\n",
              "             param_grid={'max_depth': [5, 10, 20],\n",
              "                         'n_estimators': [10, 20, 50, 100],\n",
              "                         'random_state': [5, 10, 42, 100, 200]},\n",
              "             pre_dispatch='2*n_jobs', refit=True, return_train_score=False,\n",
              "             scoring=None, verbose=1)"
            ]
          },
          "metadata": {
            "tags": []
          },
          "execution_count": 65
        }
      ]
    },
    {
      "cell_type": "code",
      "metadata": {
        "id": "7UMhDquKI57q",
        "outputId": "3ba7223b-c6f0-4fe3-a97e-d30d7dfef141",
        "colab": {
          "base_uri": "https://localhost:8080/",
          "height": 35
        }
      },
      "source": [
        "rfr_tunado.best_params_"
      ],
      "execution_count": 66,
      "outputs": [
        {
          "output_type": "execute_result",
          "data": {
            "text/plain": [
              "{'max_depth': 5, 'n_estimators': 100, 'random_state': 200}"
            ]
          },
          "metadata": {
            "tags": []
          },
          "execution_count": 66
        }
      ]
    },
    {
      "cell_type": "code",
      "metadata": {
        "id": "y2Ue_p3MI_Cy",
        "outputId": "32924322-f1b0-4912-aa82-7c6fd5e4b54e",
        "colab": {
          "base_uri": "https://localhost:8080/",
          "height": 35
        }
      },
      "source": [
        "rfr_tunado.best_score_"
      ],
      "execution_count": 67,
      "outputs": [
        {
          "output_type": "execute_result",
          "data": {
            "text/plain": [
              "0.7314710175481862"
            ]
          },
          "metadata": {
            "tags": []
          },
          "execution_count": 67
        }
      ]
    },
    {
      "cell_type": "markdown",
      "metadata": {
        "id": "WmW6cqyJLIjC"
      },
      "source": [
        "## 4. Salvando o modelo após a buscas de hiperparâmetros (exportando o modelo)"
      ]
    },
    {
      "cell_type": "code",
      "metadata": {
        "id": "JqLI7nB8LIjE"
      },
      "source": [
        "import pickle"
      ],
      "execution_count": 54,
      "outputs": []
    },
    {
      "cell_type": "code",
      "metadata": {
        "id": "ho1qkNOGLIjI"
      },
      "source": [
        "pickle.dump(rf, open('modelo.pkl', 'wb')) # wb é de escrever o binário ou write binary "
      ],
      "execution_count": 55,
      "outputs": []
    },
    {
      "cell_type": "code",
      "metadata": {
        "id": "uLTYf8HkLIjL"
      },
      "source": [
        "rf = pickle.load(open('modelo.pkl', 'rb')) # rb é de ler o binário ou read binary"
      ],
      "execution_count": 56,
      "outputs": []
    },
    {
      "cell_type": "code",
      "metadata": {
        "id": "HGN4zPWfLIjP"
      },
      "source": [
        "primeiro_el_teste = X_teste.values[0]"
      ],
      "execution_count": 57,
      "outputs": []
    },
    {
      "cell_type": "code",
      "metadata": {
        "id": "gC6uGYi6LIjS",
        "outputId": "65b42158-d032-48fe-a685-38281df59fae",
        "colab": {
          "base_uri": "https://localhost:8080/",
          "height": 35
        }
      },
      "source": [
        "rf.predict([primeiro_el_teste])"
      ],
      "execution_count": 58,
      "outputs": [
        {
          "output_type": "execute_result",
          "data": {
            "text/plain": [
              "array([9.00642947])"
            ]
          },
          "metadata": {
            "tags": []
          },
          "execution_count": 58
        }
      ]
    },
    {
      "cell_type": "code",
      "metadata": {
        "id": "zXXnVNbzLIjU"
      },
      "source": [
        "el_teste_verdadeiro = y_teste.values[0]"
      ],
      "execution_count": 59,
      "outputs": []
    },
    {
      "cell_type": "code",
      "metadata": {
        "id": "TVht6frILIjX",
        "outputId": "82adf3bf-726e-487c-ff60-3ba36e92dd1c",
        "colab": {
          "base_uri": "https://localhost:8080/",
          "height": 35
        }
      },
      "source": [
        "el_teste_verdadeiro"
      ],
      "execution_count": 60,
      "outputs": [
        {
          "output_type": "execute_result",
          "data": {
            "text/plain": [
              "9.90353755128617"
            ]
          },
          "metadata": {
            "tags": []
          },
          "execution_count": 60
        }
      ]
    },
    {
      "cell_type": "code",
      "metadata": {
        "id": "zexIQA7-S8uz",
        "outputId": "9c375f82-5e8d-4a7d-ad4f-7514b13acf76",
        "colab": {
          "base_uri": "https://localhost:8080/",
          "height": 35
        }
      },
      "source": [
        "from sklearn.ensemble import RandomForestRegressor\n",
        "\n",
        "rf = RandomForestRegressor(max_depth=5, n_estimators=100, random_state=200)\n",
        "\n",
        "rf.fit(X_treino, y_treino)\n",
        "rf.score(X_teste, y_teste)"
      ],
      "execution_count": 61,
      "outputs": [
        {
          "output_type": "execute_result",
          "data": {
            "text/plain": [
              "0.7693024131906113"
            ]
          },
          "metadata": {
            "tags": []
          },
          "execution_count": 61
        }
      ]
    },
    {
      "cell_type": "code",
      "metadata": {
        "id": "TCV84FPJJqNG"
      },
      "source": [
        "# dar um restart no runtime e ver se os scores continuam baixos ou melhoram\n",
        "# testar com outros hiperparâmetros\n",
        "# olhar nos plots de árvores para entender o que pode ter acontecido com a decisão"
      ],
      "execution_count": null,
      "outputs": []
    }
  ]
}